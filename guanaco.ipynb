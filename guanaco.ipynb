{
  "cells": [
    {
      "cell_type": "markdown",
      "metadata": {},
      "source": [
        "# Introduction\n",
        "\n",
        "OpenAssistant-Guanaco is a project focused on developing and fine-tuning chatbot models using a dataset of multilingual human-written simulated conversations. In these conversations, individuals interact with a chatbot assistant, with the twist that the responses from the assistant were authored by real people through crowdsourcing. This dataset offers a diverse range of conversational scenarios, allowing for the training and refinement of chatbot models in various languages and contexts. The primary task associated with this project involves fine-tuning chatbot models using this dataset to enhance their conversational capabilities and overall performance."
      ]
    },
    {
      "cell_type": "markdown",
      "metadata": {},
      "source": [
        "## Team Members\n",
        "\n",
        "- Balice Matteo\n",
        "\n",
        "- Doronzo Antonio Giuseppe\n",
        "\n",
        "- Fabris Filip\n",
        "\n",
        "- Masini Alessandro"
      ]
    },
    {
      "cell_type": "markdown",
      "metadata": {},
      "source": [
        "# Index\n",
        "\n",
        "2. [Analysis](#analysis)\n",
        "    - [General analysis](##general-analysis)\n",
        "    - [Word2Vec](##word2vec)\n",
        "    - [Clustering](##clustering)\n",
        "\n",
        "3. [Training](#training)\n",
        "4. [Evaluation](#training)\n",
        "5. [Conclusion](#conclusion)\n"
      ]
    },
    {
      "cell_type": "markdown",
      "metadata": {
        "id": "kOlZFHdKIVOD"
      },
      "source": [
        "### Packages"
      ]
    },
    {
      "cell_type": "markdown",
      "metadata": {
        "id": "glFpk9eeIeC6"
      },
      "source": [
        "#### Install additional packages"
      ]
    },
    {
      "cell_type": "code",
      "execution_count": null,
      "metadata": {},
      "outputs": [],
      "source": [
        "!pip install datasets\n",
        "!pip install --upgrade gensim\n",
        "!pip install langdetect\n",
        "!pip install plotly"
      ]
    },
    {
      "cell_type": "markdown",
      "metadata": {
        "id": "H-ireH0YIjZQ"
      },
      "source": [
        "#### Import packages"
      ]
    },
    {
      "cell_type": "code",
      "execution_count": 2,
      "metadata": {
        "id": "DAlNGNXKIhw1"
      },
      "outputs": [],
      "source": [
        "from datasets import load_dataset\n",
        "import pandas as pd\n",
        "from sklearn.feature_extraction.text import TfidfVectorizer\n",
        "from sklearn.cluster import KMeans\n",
        "import matplotlib.pyplot as plt\n",
        "import seaborn as sns\n",
        "import numpy as np\n",
        "import plotly.express as px\n",
        "import random, re\n",
        "from gensim.models.word2vec import Word2Vec\n",
        "from langdetect import detect\n",
        "from pandas.core.common import flatten\n",
        "from sklearn.manifold import TSNE"
      ]
    },
    {
      "cell_type": "markdown",
      "metadata": {},
      "source": [
        "# Analysis"
      ]
    },
    {
      "cell_type": "markdown",
      "metadata": {},
      "source": [
        "### General analysis"
      ]
    },
    {
      "cell_type": "markdown",
      "metadata": {
        "id": "dUHZTDBtIyjp"
      },
      "source": [
        "#### Import dataset"
      ]
    },
    {
      "cell_type": "code",
      "execution_count": 3,
      "metadata": {
        "colab": {
          "base_uri": "https://localhost:8080/",
          "height": 336,
          "referenced_widgets": [
            "da743f96a8644088b9cc3e148f00ae42",
            "dc42789b89b94cc1b84f2a6569c769fd",
            "dffd6a7e61fe412caa6c46712f75f417",
            "20742a5208f84357ad523caeab7bce11",
            "08d2090f14cf46878ed8daeec54af132",
            "669dd15ce9d84be0b52690ae1c939ee1",
            "778757ae1d834c8381c0248a6a353e6e",
            "7e86c22e69054684bb882f2c8d0cab2b",
            "25028418d18d40e289dc7abf01fedc99",
            "55c535f122dc47498ffad9dab206dced",
            "5dbbf8c8285b4aefa8b8341a034298f5",
            "f88f8a0035a84ad7a54ca2d7de19ede4",
            "7f19b6f44b88420fb796d821b7aa2ea1",
            "368b293ca59f4a769b2709621d7ae2a0",
            "e501ec8bfb59446babe057633ef46040",
            "e76d3770a00640dd8703b360dae1d88c",
            "b7d8a51e0a004acfacada7db8c0330ae",
            "48e98e43a19842c19726a5a78008597d",
            "71c089c0388f4cd5999dd2cd3e80ec27",
            "e4b978df62cd49dca6f901269fc2440c",
            "34352f8edc734177a4dd5aa65e923f8e",
            "fd6e9354adff4702a5d3dce8a0d1c96c",
            "bf24977c534e4eb5b275dc9020a285b6",
            "47b4cdf77ba84c62bdd65059a70372e4",
            "8c73089943ae449784a89d444e9b7f1e",
            "a9b3b72a45c44cd59ebd4889426ae53a",
            "02e84784f9764550b000933dbc70c558",
            "ce6754f496904d22860be6525f77e6b1",
            "f00bd38fd36b48fd962f0ca3c6666675",
            "fb99ed37249e4dd7b065cda8fc371551",
            "a196791aa71f4645a2f15d096142f6ef",
            "d4c90b9a31c84c79a3897d141aab6227",
            "8f047cc89e32422dbde213f54743f401",
            "0cb82cd000a34ecaa4a24b7639bedc80",
            "877812f447fa426994de88b237dafd80",
            "e19c27f417694f15a69b2b6987d0a471",
            "5450df6b1e2448d4a587fa828f9b9d5c",
            "3f0e24d7f61c428dac396387bd9b8e1a",
            "b1731f17a6be460b9b2d436eba6ea5d9",
            "e53bed3fc01b42b6b3593d53bed78eb2",
            "3d3fc9747b1e4c7690ab770a9243ec73",
            "77950b7b37f144549315a8bdb763b603",
            "b78a508ef3a440dc9ab715095dabbf1a",
            "a8f7e29d03c74ff8a1dbd0eaa4be2b4a",
            "24ef5fc62f4f49398f60aa54b79b473b",
            "290379391e8a4488a637a759ef120052",
            "d497ff17d92243b39eed6b178f63d8f6",
            "b021ef90c2064ff4841c174a5321ed3d",
            "d8803f3537ab42a4809cfca46ad890cd",
            "13cb26101a5746e19cfd0085ac811c8c",
            "2441716ab068433dba54017a5d53c3af",
            "f888d236be5344d1aa278505be9489a5",
            "c7957c6388184c67aa30a8e47b13dc80",
            "e94d3cef53b14c54a4e4be57fc75aa4d",
            "530210ca296d477c8c75aed4536ac1af"
          ]
        },
        "id": "cq3yaglEImk2",
        "outputId": "8ae775b5-2b43-4bdb-9a2a-6971bba57f0a"
      },
      "outputs": [
        {
          "name": "stderr",
          "output_type": "stream",
          "text": [
            "Repo card metadata block was not found. Setting CardData to empty.\n"
          ]
        }
      ],
      "source": [
        "dataset = load_dataset(\"timdettmers/openassistant-guanaco\")"
      ]
    },
    {
      "cell_type": "markdown",
      "metadata": {
        "id": "MJyCym3wI1PW"
      },
      "source": [
        "#### Analysis of dataset"
      ]
    },
    {
      "cell_type": "code",
      "execution_count": null,
      "metadata": {
        "colab": {
          "base_uri": "https://localhost:8080/"
        },
        "id": "YnloF6xlIpLM",
        "outputId": "21856a89-d64b-4336-b4a5-4b647b4c73c2"
      },
      "outputs": [],
      "source": [
        "print(\"Dataset Structure:\\n\", dataset)\n",
        "print(\"\\nAvailable Splits:\", dataset.keys())"
      ]
    },
    {
      "cell_type": "code",
      "execution_count": 4,
      "metadata": {},
      "outputs": [],
      "source": [
        "train_df = pd.DataFrame(dataset['train'], columns=['text'])\n",
        "test_df = pd.DataFrame(dataset['test'], columns=['text'])"
      ]
    },
    {
      "cell_type": "code",
      "execution_count": 5,
      "metadata": {
        "id": "oPH7aNJMI48y"
      },
      "outputs": [],
      "source": [
        "df = pd.concat([train_df, test_df], axis=0)"
      ]
    },
    {
      "cell_type": "code",
      "execution_count": null,
      "metadata": {
        "colab": {
          "base_uri": "https://localhost:8080/"
        },
        "id": "ftk-uKTZJXLz",
        "outputId": "64d871d9-ea2f-45fe-fa7d-254ef1c9fdb4"
      },
      "outputs": [],
      "source": [
        "print(\"\\nFirst few entries of the dataset:\")\n",
        "print(df.head())"
      ]
    },
    {
      "cell_type": "markdown",
      "metadata": {},
      "source": [
        "##### Example of Human - Assistant Interaction"
      ]
    },
    {
      "cell_type": "code",
      "execution_count": null,
      "metadata": {},
      "outputs": [],
      "source": [
        "df.iloc[0]['text'].split(\"###\")"
      ]
    },
    {
      "cell_type": "markdown",
      "metadata": {},
      "source": [
        "##### Sentence length analysis"
      ]
    },
    {
      "cell_type": "code",
      "execution_count": null,
      "metadata": {
        "colab": {
          "base_uri": "https://localhost:8080/",
          "height": 564
        },
        "id": "BhG3gK1YJbAv",
        "outputId": "3662c137-1369-4e71-eefc-f67b84318fd7"
      },
      "outputs": [],
      "source": [
        "df['token_length'] = df['text'].apply(lambda x: len(x.split()))\n",
        "plt.figure(figsize=(10, 6))\n",
        "sns.histplot(df['token_length'], bins=30, kde=True)\n",
        "plt.title('Sentence Length Distribution')\n",
        "plt.xlabel('Number of Tokens')\n",
        "plt.ylabel('Frequency')\n",
        "plt.show()"
      ]
    },
    {
      "cell_type": "code",
      "execution_count": null,
      "metadata": {},
      "outputs": [],
      "source": [
        "min_length = df['token_length'].min()\n",
        "max_length = df['token_length'].max()\n",
        "avg_length = df['token_length'].mean()\n",
        "\n",
        "print(f\"Minimum Length: {min_length}\")\n",
        "print(f\"Maximum Length: {max_length}\")\n",
        "print(f\"Average Length: {avg_length}\")"
      ]
    },
    {
      "cell_type": "markdown",
      "metadata": {},
      "source": [
        "#### Search Engine"
      ]
    },
    {
      "cell_type": "code",
      "execution_count": null,
      "metadata": {},
      "outputs": [],
      "source": [
        "import pyterrier as pt\n",
        "\n",
        "if not pt.started():\n",
        "    pt.init()"
      ]
    },
    {
      "cell_type": "code",
      "execution_count": null,
      "metadata": {},
      "outputs": [],
      "source": [
        "df[\"docno\"] = [str(i) for i in range(1, len(df) + 1)]"
      ]
    },
    {
      "cell_type": "code",
      "execution_count": null,
      "metadata": {},
      "outputs": [],
      "source": [
        "df.info()"
      ]
    },
    {
      "cell_type": "code",
      "execution_count": null,
      "metadata": {},
      "outputs": [],
      "source": [
        "indexer = pt.DFIndexer(\n",
        "    \"c:\\\\Users\\\\filip\\\\Desktop\\\\NLP-project\\\\local\\\\index\", overwrite=True\n",
        ")\n",
        "index_ref = indexer.index(df[\"text\"], df[\"docno\"])\n",
        "index_ref.toString()"
      ]
    },
    {
      "cell_type": "code",
      "execution_count": null,
      "metadata": {},
      "outputs": [],
      "source": [
        "index = pt.IndexFactory.of(index_ref)\n",
        "print(index.getCollectionStatistics().toString())"
      ]
    },
    {
      "cell_type": "code",
      "execution_count": null,
      "metadata": {},
      "outputs": [],
      "source": [
        "query = \"human\"\n",
        "\n",
        "bm25 = pt.BatchRetrieve(index, wmodel=\"BM25\")\n",
        "bm25.search(query).head(10)"
      ]
    },
    {
      "cell_type": "code",
      "execution_count": null,
      "metadata": {},
      "outputs": [],
      "source": [
        "tf = pt.BatchRetrieve(index, wmodel=\"Tf\")\n",
        "tf_idf = pt.BatchRetrieve(index, wmodel=\"TF_IDF\")\n",
        "bm25 = pt.BatchRetrieve(index, wmodel=\"BM25\")"
      ]
    },
    {
      "cell_type": "code",
      "execution_count": null,
      "metadata": {},
      "outputs": [],
      "source": [
        "query = \"human\""
      ]
    },
    {
      "cell_type": "code",
      "execution_count": null,
      "metadata": {},
      "outputs": [],
      "source": [
        "pipeline = ((tf % 10) | (tf_idf % 10)) >> bm25\n",
        "\n",
        "pipeline.search(query)"
      ]
    },
    {
      "cell_type": "markdown",
      "metadata": {},
      "source": [
        "#### Vectorization"
      ]
    },
    {
      "cell_type": "code",
      "execution_count": null,
      "metadata": {},
      "outputs": [],
      "source": [
        "from sklearn.feature_extraction.text import CountVectorizer"
      ]
    },
    {
      "cell_type": "code",
      "execution_count": null,
      "metadata": {},
      "outputs": [],
      "source": [
        "vectorizer = CountVectorizer()\n",
        "vectorizer.fit(df[\"text\"])\n",
        "len(vectorizer.get_feature_names_out())"
      ]
    },
    {
      "cell_type": "code",
      "execution_count": null,
      "metadata": {},
      "outputs": [],
      "source": [
        "import nltk\n",
        "\n",
        "# Download stop words from NLTK for the languages you are interested in.\n",
        "nltk.download(\"stopwords\")\n",
        "from nltk.corpus import stopwords\n",
        "\n",
        "english_stop_words = set(stopwords.words(\"english\"))\n",
        "spanish_stop_words = set(stopwords.words(\"spanish\"))\n",
        "\n",
        "# Combine the stop words sets.\n",
        "combined_stop_words = english_stop_words.union(spanish_stop_words)\n",
        "combined_stop_words = list(combined_stop_words)"
      ]
    },
    {
      "cell_type": "code",
      "execution_count": null,
      "metadata": {},
      "outputs": [],
      "source": [
        "vectorizer = CountVectorizer(min_df=8, stop_words=combined_stop_words)\n",
        "X = vectorizer.fit_transform(df[\"text\"])\n",
        "len(vectorizer.get_feature_names_out())"
      ]
    },
    {
      "cell_type": "code",
      "execution_count": null,
      "metadata": {},
      "outputs": [],
      "source": [
        "print(*vectorizer.get_feature_names_out())"
      ]
    },
    {
      "cell_type": "code",
      "execution_count": null,
      "metadata": {},
      "outputs": [],
      "source": [
        "import pandas as pd\n",
        "from sklearn.feature_extraction.text import CountVectorizer\n",
        "import matplotlib.pyplot as plt\n",
        "\n",
        "# Get feature names\n",
        "feature_names = vectorizer.get_feature_names_out()\n",
        "\n",
        "# Sum up the counts of each term in all documents\n",
        "sums = X.sum(axis=0)  # Sum over columns to get total counts for each feature\n",
        "\n",
        "# Connecting term names with their sums\n",
        "freq = [(word, sums[0, idx]) for word, idx in zip(feature_names, range(sums.shape[1]))]\n",
        "# Sorting the list of tuples by frequency\n",
        "sorted_freq = sorted(freq, key=lambda x: x[1], reverse=True)\n",
        "\n",
        "# Creating DataFrame from the sorted frequencies for easier plotting\n",
        "freq_df = pd.DataFrame(sorted_freq, columns=[\"term\", \"frequency\"])\n",
        "\n",
        "# Plotting the top N most frequent terms\n",
        "top_n = 20\n",
        "plt.figure(figsize=(10, 8))  # Set the figure size\n",
        "sns.barplot(data=freq_df.head(top_n), x=\"frequency\", y=\"term\", palette=\"viridis\")\n",
        "plt.title(\"Top 20 Most Frequent Terms\")\n",
        "plt.xlabel(\"Frequency\")\n",
        "plt.ylabel(\"Terms\")\n",
        "plt.show()"
      ]
    },
    {
      "cell_type": "code",
      "execution_count": null,
      "metadata": {},
      "outputs": [],
      "source": [
        "# make another plot with the most frequent terms that most frequently appear like bubble chart, use data which you have\n",
        "\n",
        "# Plotting the top N most frequent terms\n",
        "\n",
        "plt.figure(figsize=(10, 8))  # Set the figure size\n",
        "\n",
        "sns.scatterplot(data=freq_df.head(top_n), x=\"frequency\", y=\"term\", size=\"frequency\", sizes=(100, 1000), palette=\"viridis\")\n",
        "plt.title(\"Top 20 Most Frequent Terms\")\n",
        "plt.xlabel(\"Frequency\")\n",
        "plt.ylabel(\"Terms\")\n",
        "plt.show()\n"
      ]
    },
    {
      "cell_type": "markdown",
      "metadata": {},
      "source": [
        "### Word2Vec"
      ]
    },
    {
      "cell_type": "code",
      "execution_count": 6,
      "metadata": {},
      "outputs": [
        {
          "name": "stdout",
          "output_type": "stream",
          "text": [
            "Error with ### Human: Generate me an ASCII of a person with a jetpack### Assistant: Here is an ASCII art representation of a person with a jetpack:\n",
            "\n",
            "─────────▄███████████▄▄──────────────\n",
            "──────▄██▀──────────▀▀██▄────────────\n",
            "────▄█▀────────────────▀██───────────\n",
            "──▄█▀────────────────────▀█▄─────────\n",
            "─█▀──██──────────────██───▀██────────\n",
            "█▀──────────────────────────██───────\n",
            "█──███████████████████───────█───────\n",
            "█────────────────────────────█───────\n",
            "█────────────────────────────█───────\n",
            "█────────────────────────────█───────\n",
            "█────────────────────────────█───────\n",
            "█────────────────────────────█───────\n",
            "█▄───────────────────────────█───────\n",
            "▀█▄─────────────────────────██───────\n",
            "─▀█▄───────────────────────██────────\n",
            "──▀█▄────────────────────▄█▀─────────\n",
            "───▀█▄──────────────────██───────────\n",
            "─────▀█▄──────────────▄█▀────────────\n",
            "───────▀█▄▄▄──────▄▄▄███████▄▄───────\n",
            "────────███████████████───▀██████▄───\n",
            "─────▄███▀▀────────▀███▄──────█─███──\n",
            "───▄███▄─────▄▄▄▄────███────▄▄████▀──\n",
            "─▄███▓▓█─────█▓▓█───████████████▀────\n",
            "─▀▀██▀▀▀▀▀▀▀▀▀▀███████████────█──────\n",
            "────█─▄▄▄▄▄▄▄▄█▀█▓▓─────██────█──────\n",
            "────█─█───────█─█─▓▓────██────█──────\n",
            "────█▄█───────█▄█──▓▓▓▓▓███▄▄▄█──────\n",
            "────────────────────────██──────────\n",
            "────────────────────────██───▄███▄───\n",
            "────────────────────────██─▄██▓▓▓██──\n",
            "───────────────▄██████████─█▓▓▓█▓▓██▄\n",
            "─────────────▄██▀───▀▀███──█▓▓▓██▓▓▓█\n",
            "─▄███████▄──███───▄▄████───██▓▓████▓█\n",
            "▄██▀──▀▀█████████████▀▀─────██▓▓▓▓███\n",
            "██▀─────────██──────────────██▓██▓███\n",
            "██──────────███──────────────█████─██\n",
            "██───────────███──────────────█─██──█\n",
            "██────────────██─────────────────█───\n",
            "██─────────────██────────────────────\n",
            "██─────────────███───────────────────\n",
            "██──────────────███▄▄────────────────\n",
            "███──────────────▀▀███───────────────\n",
            "─███─────────────────────────────────\n",
            "──███────────────────────────────────### Human: Wow, that is great. Can you give the person give a hat and a beard?\n"
          ]
        },
        {
          "data": {
            "text/plain": [
              "['### Human: Can you write a short introduction about the relevance of the term \"monopsony\" in economics? Please use examples related to potential monopsonies in the labour market and cite relevant research.### Assistant: \"Monopsony\" refers to a market structure where there is only one buyer for a particular good or service. In economics, this term is particularly relevant in the labor market, where a monopsony employer has significant power over the wages and working conditions of their employees. The presence of a monopsony can result in lower wages and reduced employment opportunities for workers, as the employer has little incentive to increase wages or provide better working conditions.\\n\\nRecent research has identified potential monopsonies in industries such as retail and fast food, where a few large companies control a significant portion of the market (Bivens & Mishel, 2013). In these industries, workers often face low wages, limited benefits, and reduced bargaining power, leading to a situation where they are dependent on the employer for their livelihood. This dependence can result in further suppression of wages and a decline in working conditions.\\n\\nOverall, the concept of monopsony is essential to understanding the dynamics of labor markets and the impact of market power on workers. Further research is needed to understand the extent and impact of monopsonies on the economy and to develop policies to address this issue.\\n\\nReferences:\\nBivens, J., & Mishel, L. (2013). The Pay of Corporate Executives and Financial Professionals as Evidence of Rents in Top 1 Percent Incomes. Journal of Economic Perspectives, 27(3), 57-78.### Human: Now explain it to a dog',\n",
              " '### Human: Can you explain contrastive learning in machine learning in simple terms for someone new to the field of ML?### Assistant: Sure! Let\\'s say you want to build a model which can distinguish between images of cats and dogs. You gather your dataset, consisting of many cat and dog pictures. Then you put them through a neural net of your choice, which produces some representation for each image, a sequence of numbers like [0.123, 0.045, 0.334, ...]. The problem is, if your model is unfamiliar with cat and dog images, these representations will be quite random. At one time a cat and a dog picture could have very similar representations (their numbers would be close to each other), while at others two cat images may be represented far apart. In simple terms, the model wouldn\\'t be able to tell cats and dogs apart. This is where contrastive learning comes in.\\n\\nThe point of contrastive learning is to take pairs of samples (in this case images of cats and dogs), then train the model to \"pull\" representations of similar pairs (cat-cat or dog-dog) closer to each other and \"push\" representations of different pairs (cat-dog) apart. After doing this for a sufficient number of steps, your model will be able to produce unique, reliable representations for cats and dogs, in essence tell them apart.\\n\\nThis method is not limited to images, you can typically use it with any dataset that has similar and dissimilar data points.### Human: I didn\\'t understand how pulling and pushing works. What are we pulling or pushing? And how does it work in terms of code or maths?### Assistant: It has to do with a process called differentiation, which means finding a derivative: a function that tells us whether another function is going up or down at a given point. For example, the derivative of `f(x) = x` is `f\\'(x) = 1`, because it\\'s always going up at a 1:1 ratio. This can be done for a variety of functions; notably, if you know the derivatives of `f(x)` and `g(x)`, you can also get the derivative of `f(g(x))` using a formula called the chain rule. Neural networks happen to be made of differentiable functions, so we can take the derivative of parts or all of it.\\n\\nTo use this for \"pushing\" and \"pulling\", we\\'ll put two images through the neural network. Let\\'s say the images are of a cat and a dog, so we want to increase the distance between the two. We pick one neuron weight from the network and make it a variable `x`, then construct a function that calculates the output of the network based on it and all the other parameters; let\\'s call it `N(x)`. The distance between the cat and dog outputs would be `f(x) = N(cat) - N(dog)`. (Of course, the real output would have more than 1 dimension, but we\\'re simplifying.) We now want to nudge the weight such that it moves the two outputs slightly further apart. For that, we can simply take the derivative! If `f\\'(x)` is positive, that means that increasing the weight will move them further apart, so we should do that. If it\\'s negative, then it\\'ll move them closer, so we\\'ll want to slightly decrease the weight instead. Apply this to all the neurons enough times and your network will soon converge to a pretty good cat-dog separator!',\n",
              " \"### Human: I want to start doing astrophotography as a hobby, any suggestions what could i do?### Assistant: Getting started in astrophotography can seem daunting, but with some patience and practice, you can become a master of the craft. To begin, you'll need a good camera and lens, a tripod, and a dark sky location free of light pollution. You will also need to learn about the basics of astrophotography, such as what camera settings to use, how to capture star trails, and the best techniques for tracking celestial objects. You can also purchase or rent different types of telescopes, depending on what types of objects you want to capture. Additionally, it's important to keep up with the latest astrophotography news and trends. Once you have the necessary equipment and knowledge, you can start shooting and experimenting with different techniques to get the best results.### Human: Can you tell me more?  What would you recommend as a basic set of equipment to get started with?  How much will it cost?### Assistant: Astrophotography can be a fun and rewarding hobby, and here are some more in depth suggestions for you to get started:\\n\\n    Equipment: As a beginner, you will need a camera that is capable of taking long exposures and manual control over the settings. A good starting point would be a digital SLR (DSLR) camera or a mirrorless camera. You will also need a sturdy tripod, a fast wide-angle lens (f/2.8 or faster), and a remote shutter release cable to minimize camera shake during long exposures.\\n\\n    Location: Look for a location with minimal light pollution and a clear view of the night sky. Check online maps to find the best spots near you.\\n\\n    Settings: Start with a wide-angle lens and set your camera to manual mode. Set your aperture to f/2.8 or wider, ISO to 800 or 1600, and experiment with different exposure times (30 seconds to 2 minutes).\\n\\n    Focus: Focus the lens on the stars using live view and manual focus. You may also need to use a Bahtinov mask to achieve accurate focus.\\n\\n    Editing: After you've taken your photos, use editing software such as Adobe Lightroom or Photoshop to adjust the exposure, contrast, and color balance to get the best results.\\n\\nThe cost of equipment will depend on the type of camera and lens you choose, but a basic setup can cost anywhere from $500 to $3000. However, you don't need to start with the most expensive equipment to get good results. As you improve, you can upgrade your equipment and add additional accessories such as filters and tracking mounts.\\n\\nRemember, astrophotography is a hobby that requires patience and practice, so don't be discouraged if your first few attempts don't turn out as well as you had hoped. Keep experimenting and learning, and you'll soon be able to capture stunning images of the night sky!### Human: What is a good course of instruction to avoid years of wasted effort?\",\n",
              " '### Human: Can you give me an example of a python script that opens an api point and serves a string?### Assistant: Sure! Here\\'s an example Python script that uses the Flask web framework to create a simple API endpoint that serves a string:\\n\\n``` \\nfrom flask import Flask\\n\\napp = Flask(__name__)\\n\\n@app.route(\\'/\\')\\ndef hello_world():\\n    return \\'Hello, world!\\'\\n\\nif __name__ == \\'__main__\\':\\n    app.run()\\n\\n``` \\n\\nIn this script, we first import the Flask class from the flask module. Then we create a new instance of the Flask class, using the __name__ variable to specify the name of the application.\\n\\\\\\nNext, we define a new route using the @app.route() decorator. This decorator tells Flask to map requests to the root URL (\"/\") to the hello_world() function.\\n\\\\\\nFinally, we use the if __name__ == \\'__main__\\': block to start the Flask application when the script is executed. By default, the application will run on port 5000.\\n\\\\\\nYou can run this script and test the API by opening a web browser and navigating to http://localhost:5000/. You should see a simple \"Hello, world!\" message displayed in your browser.### Human: What changes would you need to make to the code above to serve a JSON object instead of a string?### Assistant: To serve a JSON object instead of a string, you can modify the \"hello_world()\" function to return a JSON response using the Flask \"jsonify\" function. Here\\'s an example of how to modify the previous code to serve a JSON object:\\n\\n```\\nfrom flask import Flask, jsonify\\n\\napp = Flask(name)\\n\\n@app.route(\\'/\\')\\ndef hello_world():\\ndata = {\\n\\'message\\': \\'Hello, world!\\'\\n}\\nreturn jsonify(data)\\n\\nif name == \\'main\\':\\napp.run()\\n```\\n\\nIn this updated version of the code, we import the \"jsonify\" function from Flask and use it to create a JSON response. We define a dictionary called \"data\" that contains a single key-value pair, where the key is \"message\" and the value is \"Hello, world!\".\\n\\nThe \"jsonify\" function takes a dictionary as its argument and returns a JSON-formatted response with the appropriate content-type headers. When we visit the root URL of our Flask application, we will see a JSON object with the \"message\" key and its associated value.\\n\\nYou can test this modified script in the same way as the previous example, by opening a web browser and navigating to http://localhost:5000/. This time, you should see a JSON object with the \"message\" key and its associated value displayed in your browser.',\n",
              " \"### Human: How can I learn to optimize my webpage for search engines?### Assistant: Learning to optimize your webpage for search engines involves several steps, including:\\n\\n1. Understanding the basics of how search engines work: Learn how search engines crawl and index web pages, and how they rank pages based on factors like relevance, authority, and user experience.\\n2. Conducting keyword research: Identify the keywords and phrases that your target audience is using to search for your products or services, and use these keywords to optimize your web pages.\\n3. Creating high-quality content: Create content that is informative, engaging, and relevant to your target audience. This can include blog posts, articles, videos, and other types of content.\\n4. Optimizing your web pages: Optimize your page titles, meta descriptions, header tags, and other on-page elements to make sure they are aligned with your target keywords and provide a clear picture of what your page is about.\\n5. Building backlinks: Build high-quality backlinks from other reputable websites to your own site. This can help increase your authority and improve your search engine rankings.\\n6. Monitoring your results: Use analytics tools to track your website's performance in search engine rankings, and adjust your strategy as needed based on your results.\\n\\nThere are many resources available online to help you learn more about search engine optimization (SEO), including blogs, courses, and tutorials. Some popular SEO resources include Moz, SEMrush, and Google's Search Console documentation.\\n\\nIt's important to note that SEO is an ongoing process, and it can take time and effort to see results. However, by following best practices and staying up-to-date with the latest trends and techniques, you can help improve your website's visibility and attract more traffic from search engines.### Human: My webpage is about flower arrangements. Can you give some examples for each of the above?\"]"
            ]
          },
          "execution_count": 6,
          "metadata": {},
          "output_type": "execute_result"
        }
      ],
      "source": [
        "docs = dataset['train']['text'] + dataset['test']['text']\n",
        "\n",
        "def filter_english(strings):\n",
        "  english_strings = []\n",
        "  for string in strings:\n",
        "    try:\n",
        "      if detect(string) == 'en':\n",
        "        english_strings.append(string)\n",
        "    except:\n",
        "      print(f\"Error with {string}\")\n",
        "  return english_strings\n",
        "\n",
        "docs = filter_english(docs)\n",
        "docs[:5]"
      ]
    },
    {
      "cell_type": "markdown",
      "metadata": {},
      "source": [
        "Let's separate the sentences written by the human from the ones of the assistant:"
      ]
    },
    {
      "cell_type": "code",
      "execution_count": 7,
      "metadata": {},
      "outputs": [
        {
          "name": "stdout",
          "output_type": "stream",
          "text": [
            "5495\n",
            "5495\n"
          ]
        }
      ],
      "source": [
        "human_questions = []\n",
        "assistant_answers = []\n",
        "\n",
        "for string in docs:\n",
        "  segments = string.split(\"### Human:\")\n",
        "  for segment in segments[1:]:\n",
        "    #This if is added to add to the list of questions only those that have then received an answer\n",
        "    if \"### Assistant:\" in segment:\n",
        "      human_questions.append(segment.split(\"### Assistant:\")[0].strip())\n",
        "\n",
        "  segments = string.split(\"### Assistant:\")\n",
        "  for segment in segments[1:]:\n",
        "      assistant_answers.append(segment.split(\"### Human:\")[0].strip())\n",
        "\n",
        "print(len(human_questions))\n",
        "print(len(assistant_answers))"
      ]
    },
    {
      "cell_type": "markdown",
      "metadata": {},
      "source": [
        "Let's clean the datasets and split them into different sentences:"
      ]
    },
    {
      "cell_type": "code",
      "execution_count": 8,
      "metadata": {},
      "outputs": [],
      "source": [
        "human_questions = [re.sub('[\\n\\t]', '', doc) for doc in human_questions]\n",
        "assistant_answers = [re.sub('[\\n\\t]', '', doc) for doc in assistant_answers]\n",
        "human_questions = [re.sub('[a-zA-Z0-9._%+-]+@[a-zA-Z0-9.-]+\\.[a-zA-Z]{2,}', '', doc) for doc in human_questions]\n",
        "assistant_answers = [re.sub('[a-zA-Z0-9._%+-]+@[a-zA-Z0-9.-]+\\.[a-zA-Z]{2,}', '', doc) for doc in assistant_answers]\n",
        "human_questions = [re.split('[?!.]\\s', doc) for doc in human_questions]\n",
        "assistant_answers = [re.split('[?!.]\\s', doc) for doc in assistant_answers]"
      ]
    },
    {
      "cell_type": "markdown",
      "metadata": {},
      "source": [
        "Flatten the list of lists and tokenize each word:"
      ]
    },
    {
      "cell_type": "code",
      "execution_count": 9,
      "metadata": {},
      "outputs": [],
      "source": [
        "human_questions = list(flatten(human_questions))\n",
        "human_questions = [re.sub('\\W', ' ', doc).lower().split() for doc in human_questions]\n",
        "\n",
        "assistant_answers = list(flatten(assistant_answers))\n",
        "assistant_answers = [re.sub('\\W', ' ', doc).lower().split() for doc in assistant_answers]\n",
        "\n",
        "#We also compute a combination of the two tet\n",
        "full_text = human_questions + assistant_answers"
      ]
    },
    {
      "cell_type": "markdown",
      "metadata": {},
      "source": [
        " The minimum length of each sentence is 5, so we don't need to remove sentences that are composed by few words\n",
        "\n",
        " Now we train the Word2Vec on the human questions, by providing as input the tokenized words, the size of each embedding, the minimum number of occurences for each word and the context window size:\n",
        "\n"
      ]
    },
    {
      "cell_type": "code",
      "execution_count": 10,
      "metadata": {},
      "outputs": [],
      "source": [
        "model_human = Word2Vec(human_questions, vector_size=30, min_count=5, window=10)"
      ]
    },
    {
      "cell_type": "markdown",
      "metadata": {},
      "source": [
        "How many words do we have in our model?"
      ]
    },
    {
      "cell_type": "code",
      "execution_count": 11,
      "metadata": {},
      "outputs": [
        {
          "data": {
            "text/plain": [
              "2920"
            ]
          },
          "execution_count": 11,
          "metadata": {},
          "output_type": "execute_result"
        }
      ],
      "source": [
        "len(model_human.wv)"
      ]
    },
    {
      "cell_type": "markdown",
      "metadata": {},
      "source": [
        "How is each embedding vector made?"
      ]
    },
    {
      "cell_type": "code",
      "execution_count": null,
      "metadata": {},
      "outputs": [],
      "source": [
        "term = 'house'\n",
        "model_human.wv[term]"
      ]
    },
    {
      "cell_type": "markdown",
      "metadata": {},
      "source": [
        "What are the most similar words to the word \"short\" ?"
      ]
    },
    {
      "cell_type": "code",
      "execution_count": null,
      "metadata": {},
      "outputs": [],
      "source": [
        "term = 'short'\n",
        "model_human.wv.most_similar(term)"
      ]
    },
    {
      "cell_type": "markdown",
      "metadata": {},
      "source": [
        "Now, let's do the same thing but with the assistant answers:"
      ]
    },
    {
      "cell_type": "code",
      "execution_count": 12,
      "metadata": {},
      "outputs": [],
      "source": [
        "model_assistant = Word2Vec(assistant_answers, vector_size=30, min_count=5, window=10)"
      ]
    },
    {
      "cell_type": "markdown",
      "metadata": {},
      "source": [
        "It's vocabulary size is more than 4 times the human one:"
      ]
    },
    {
      "cell_type": "code",
      "execution_count": 13,
      "metadata": {},
      "outputs": [
        {
          "data": {
            "text/plain": [
              "12125"
            ]
          },
          "execution_count": 13,
          "metadata": {},
          "output_type": "execute_result"
        }
      ],
      "source": [
        "len(model_assistant.wv)"
      ]
    },
    {
      "cell_type": "markdown",
      "metadata": {},
      "source": [
        "Let's see an example of embedding:"
      ]
    },
    {
      "cell_type": "code",
      "execution_count": null,
      "metadata": {},
      "outputs": [],
      "source": [
        "term = 'house'\n",
        "model_assistant.wv[term]"
      ]
    },
    {
      "cell_type": "markdown",
      "metadata": {},
      "source": [
        "And the most similar words to the word \"short\":"
      ]
    },
    {
      "cell_type": "code",
      "execution_count": null,
      "metadata": {},
      "outputs": [],
      "source": [
        "term = 'short'\n",
        "model_assistant.wv.most_similar(term)"
      ]
    },
    {
      "cell_type": "markdown",
      "metadata": {},
      "source": [
        "Finally, let's perform the same operations with the full_text to our disposal:"
      ]
    },
    {
      "cell_type": "code",
      "execution_count": 14,
      "metadata": {},
      "outputs": [],
      "source": [
        "model_full = Word2Vec(full_text, vector_size=30, min_count=5, window=10)"
      ]
    },
    {
      "cell_type": "markdown",
      "metadata": {},
      "source": [
        "The length of the vocabulary isn't much different from the one of just the assistant:"
      ]
    },
    {
      "cell_type": "code",
      "execution_count": null,
      "metadata": {},
      "outputs": [],
      "source": [
        "len(model_full.wv)"
      ]
    },
    {
      "cell_type": "markdown",
      "metadata": {},
      "source": [
        "Let's again an example of an embedding:"
      ]
    },
    {
      "cell_type": "code",
      "execution_count": null,
      "metadata": {},
      "outputs": [],
      "source": [
        "term = 'plant'\n",
        "model_full.wv[term]"
      ]
    },
    {
      "cell_type": "markdown",
      "metadata": {},
      "source": [
        "And once again the most similar word to the word short:"
      ]
    },
    {
      "cell_type": "code",
      "execution_count": null,
      "metadata": {},
      "outputs": [],
      "source": [
        "term = 'short'\n",
        "model_full.wv.most_similar(term)"
      ]
    },
    {
      "cell_type": "markdown",
      "metadata": {},
      "source": [
        "Has the model understood the relation between this words?"
      ]
    },
    {
      "cell_type": "code",
      "execution_count": null,
      "metadata": {},
      "outputs": [],
      "source": [
        "vec = model_full.wv['king'] + (model_full.wv['woman'] - model_full.wv['man'])\n",
        "vec"
      ]
    },
    {
      "cell_type": "markdown",
      "metadata": {},
      "source": [
        "Seems it does not:"
      ]
    },
    {
      "cell_type": "code",
      "execution_count": null,
      "metadata": {},
      "outputs": [],
      "source": [
        "model_full.wv.most_similar(vec)"
      ]
    },
    {
      "cell_type": "markdown",
      "metadata": {},
      "source": [
        "And this kind of relation?"
      ]
    },
    {
      "cell_type": "code",
      "execution_count": null,
      "metadata": {},
      "outputs": [],
      "source": [
        "vec = model_full.wv['france'] + (model_full.wv['rome'] - model_full.wv['italy'])\n",
        "vec"
      ]
    },
    {
      "cell_type": "markdown",
      "metadata": {},
      "source": [
        "It seems to have a better idea of what we are talking about, but still he hasn't fully understood the relation:"
      ]
    },
    {
      "cell_type": "code",
      "execution_count": null,
      "metadata": {},
      "outputs": [],
      "source": [
        "model_full.wv.most_similar(vec)"
      ]
    },
    {
      "cell_type": "markdown",
      "metadata": {},
      "source": [
        "#Visualizing the embedding vector using t-SNE"
      ]
    },
    {
      "cell_type": "markdown",
      "metadata": {},
      "source": [
        "We'll now produce a graphical representation of a subset of the embeddings, because to reduce the time required for computation, we'll limit our representation to 500 random samples:"
      ]
    },
    {
      "cell_type": "code",
      "execution_count": 21,
      "metadata": {},
      "outputs": [],
      "source": [
        "random_samples_human = random.sample(list(model_human.wv.key_to_index), len(model_human.wv.key_to_index))\n",
        "word_vectors_human = model_human.wv[random_samples_human]\n",
        "\n",
        "\n",
        "random_samples_assistant = random.sample(list(model_assistant.wv.key_to_index), 500)\n",
        "word_vectors_assistant = model_assistant.wv[random_samples_assistant]\n",
        "\n",
        "random_samples_full = random.sample(list(model_full.wv.key_to_index), 500)\n",
        "word_vectors_full = model_full.wv[random_samples_full]"
      ]
    },
    {
      "cell_type": "markdown",
      "metadata": {},
      "source": [
        "We'll provide the vectors to the TSNE algorithm, to fit a model and have a 3 dimensional representation:"
      ]
    },
    {
      "cell_type": "code",
      "execution_count": 22,
      "metadata": {},
      "outputs": [],
      "source": [
        "tsne = TSNE(n_components=3, n_iter=2000)\n",
        "\n",
        "tsne_embeddings_human = tsne.fit_transform(word_vectors_human)\n",
        "tsne_embeddings_assistant = tsne.fit_transform(word_vectors_assistant)\n",
        "tsne_embeddings_full = tsne.fit_transform(word_vectors_full)"
      ]
    },
    {
      "cell_type": "markdown",
      "metadata": {},
      "source": [
        "We transpose the matrix, as to have each dimension in each row of the resulting matrix and we get the coordinates of each point:"
      ]
    },
    {
      "cell_type": "code",
      "execution_count": 15,
      "metadata": {},
      "outputs": [],
      "source": [
        "x_human, y_human, z_human = np.transpose(tsne_embeddings_human)\n",
        "x_assistant, y_assistant, z_assistant = np.transpose(tsne_embeddings_assistant)\n",
        "x_full, y_full, z_full = np.transpose(tsne_embeddings_full)"
      ]
    },
    {
      "cell_type": "markdown",
      "metadata": {},
      "source": [
        "We draw the plots (we also reduced the amount of samples to be shown for a better representation):"
      ]
    },
    {
      "cell_type": "code",
      "execution_count": null,
      "metadata": {},
      "outputs": [],
      "source": [
        "fig = px.scatter_3d(x=x_human[:150], y=y_human[:150], z=z_human[:150], text=random_samples_human[:150])\n",
        "fig.update_traces(marker=dict(size=3,line=dict(width=2)))\n",
        "fig.show()"
      ]
    },
    {
      "cell_type": "code",
      "execution_count": null,
      "metadata": {},
      "outputs": [],
      "source": [
        "fig = px.scatter_3d(x=x_assistant[:150], y=y_assistant[:150], z=z_assistant[:150], text=random_samples_assistant[:150])\n",
        "fig.update_traces(marker=dict(size=3,line=dict(width=2)))\n",
        "fig.show()"
      ]
    },
    {
      "cell_type": "code",
      "execution_count": null,
      "metadata": {},
      "outputs": [],
      "source": [
        "fig = px.scatter_3d(x=x_full[:150], y=y_full[:150], z=z_full[:150], text=random_samples_full[:150])\n",
        "fig.update_traces(marker=dict(size=3,line=dict(width=2)))\n",
        "fig.show()"
      ]
    },
    {
      "cell_type": "markdown",
      "metadata": {},
      "source": [
        "### Clustering"
      ]
    },
    {
      "cell_type": "markdown",
      "metadata": {},
      "source": [
        "Automatic clustering based on the embeddings of the word2vec model.\n",
        "We put a threshold of 0.95 to have a good clustering.\n",
        "\n",
        "We use the cosine similarity to calculate the distance between the embeddings."
      ]
    },
    {
      "cell_type": "code",
      "execution_count": 40,
      "metadata": {},
      "outputs": [
        {
          "name": "stdout",
          "output_type": "stream",
          "text": [
            "Gruppo 0:\n",
            "['salt', 'pepper']\n",
            "Gruppo 1:\n",
            "['landroid', 'hidl', 'lang', 'ljava', 'throws', 'remoteexception', 'v1_0']\n",
            "Gruppo 2:\n",
            "['garlic', 'onion']\n",
            "Gruppo 3:\n",
            "['td', 'tr']\n",
            "Gruppo 4:\n",
            "['annotation', 'ldalvik']\n",
            "Gruppo 5:\n",
            "['partial', 'l_j']\n",
            "Gruppo 6:\n",
            "['rick', 'morty']\n",
            "Gruppo 7:\n",
            "['sticky', 'tk_calc', 'nsew', 'button_click']\n",
            "Gruppo 8:\n",
            "['calc_operator', 'text_input']\n",
            "Gruppo 9:\n",
            "['con', 'para', 'interfaz']\n",
            "Gruppo 10:\n",
            "['ich', 'liebe']\n",
            "Gruppo 11:\n",
            "['__name__', '__main__']\n",
            "Gruppo 12:\n",
            "['yt', 'dlp']\n",
            "Gruppo 13:\n",
            "['una', 'ejemplo']\n",
            "Gruppo 14:\n",
            "['file_name', 'bucket_name']\n",
            "Gruppo 15:\n",
            "['und', 'für']\n",
            "Gruppo 16:\n",
            "['arraylist', 'util']\n",
            "Gruppo 17:\n",
            "['в', 'и', 'для']\n",
            "Gruppo 18:\n",
            "['x1', 'x2', 'y1', 'y2']\n",
            "Gruppo 19:\n",
            "['columna', 'fila']\n",
            "Gruppo 20:\n",
            "['kong', 'hong']\n",
            "Gruppo 21:\n",
            "['cur_mat', 'cover_cols']\n",
            "Gruppo 22:\n",
            "['sliced', 'ginger']\n",
            "Gruppo 23:\n",
            "['ihwbinder', 'invoke']\n",
            "Gruppo 24:\n",
            "['num1', 'num2']\n",
            "Gruppo 25:\n",
            "['padx', 'pady']\n",
            "Gruppo 26:\n",
            "['mai', '4096']\n",
            "Gruppo 27:\n",
            "['0100000', '01100101', '01110100']\n",
            "Gruppo 28:\n",
            "['salute', 'bellamy']\n",
            "Gruppo 29:\n",
            "['radius1', 'radius2']\n",
            "Gruppo 30:\n",
            "['hidden_size', 'input_size', 'output_size']\n",
            "Gruppo 31:\n",
            "['hls', 'pragma']\n",
            "Gruppo 32:\n",
            "['tapepointer', 'elseif']\n",
            "Gruppo 33:\n",
            "['abdul', 'jabbarlos', 'jabbarmilwaukee']\n",
            "Gruppo 34:\n",
            "['getlasterror', 'syserrormessage']\n",
            "Gruppo 35:\n",
            "['strlist', 'intlist']\n",
            "Gruppo 36:\n",
            "['belt', 'kuiper']\n",
            "Gruppo 37:\n",
            "['bd', 'bg']\n",
            "Gruppo 38:\n",
            "['153', '151', '157', '152']\n",
            "Gruppo 39:\n",
            "['sans', 'serif']\n",
            "Gruppo 40:\n",
            "['screen_height', 'screen_width']\n",
            "Gruppo 41:\n",
            "['nov', 'weeklys']\n",
            "Gruppo 42:\n",
            "['147', '156']\n",
            "Gruppo 43:\n",
            "['herzegovina', 'bosnia']\n"
          ]
        }
      ],
      "source": [
        "def cosine_similarity_matrix(embeddings):\n",
        "    normalized_embeddings = embeddings / np.linalg.norm(embeddings, axis=1, keepdims=True)\n",
        "    similarity_matrix = np.dot(normalized_embeddings, normalized_embeddings.T)\n",
        "    return similarity_matrix\n",
        "\n",
        "def find_similar_groups(embeddings, threshold):\n",
        "    similarity_matrix = cosine_similarity_matrix(embeddings)\n",
        "    n = len(embeddings)\n",
        "    visited = set()\n",
        "    similar_groups = []\n",
        "\n",
        "    for i in range(n):\n",
        "        if i not in visited:\n",
        "            similar_group = [i]\n",
        "            visited.add(i)\n",
        "            for j in range(i+1, n):\n",
        "                if j not in visited and similarity_matrix[i][j] >= threshold:\n",
        "                    similar_group.append(j)\n",
        "                    visited.add(j)\n",
        "            similar_groups.append(similar_group)\n",
        "\n",
        "    return similar_groups\n",
        "\n",
        "threshold = 0.99\n",
        "embeddings_word2vec = model_full.wv.vectors\n",
        "similar_groups = find_similar_groups(embeddings_word2vec, threshold)\n",
        "\n",
        "i = 0\n",
        "for _, group in enumerate(similar_groups):\n",
        "    if len(group) == 1:\n",
        "        continue\n",
        "    print(f\"Cluster {i}:\")\n",
        "    print([model_full.wv.index_to_key[idx] for idx in group])\n",
        "    i += 1\n"
      ]
    },
    {
      "cell_type": "markdown",
      "metadata": {},
      "source": [
        "Clustering based on the languages of the sentences."
      ]
    },
    {
      "cell_type": "code",
      "execution_count": 37,
      "metadata": {},
      "outputs": [],
      "source": [
        "documents_languages = df['text'].tolist()"
      ]
    },
    {
      "cell_type": "code",
      "execution_count": 38,
      "metadata": {},
      "outputs": [],
      "source": [
        "from sklearn.feature_extraction.text import TfidfVectorizer\n",
        "\n",
        "vectorizer = TfidfVectorizer(max_df=0.8, min_df=5, stop_words='english')\n",
        "vectorizer.fit(documents_languages)\n",
        "vector_documents = vectorizer.transform(documents_languages)"
      ]
    },
    {
      "cell_type": "code",
      "execution_count": 39,
      "metadata": {},
      "outputs": [
        {
          "name": "stdout",
          "output_type": "stream",
          "text": [
            "Length of vocabulary: 25278\n"
          ]
        }
      ],
      "source": [
        "vocab = vectorizer.get_feature_names_out()\n",
        "\n",
        "print(f\"Length of vocabulary: {len(vocab)}\")"
      ]
    },
    {
      "cell_type": "code",
      "execution_count": 40,
      "metadata": {},
      "outputs": [
        {
          "name": "stdout",
          "output_type": "stream",
          "text": [
            "Initialization complete\n",
            "Iteration 0, inertia 19066.86348156223.\n",
            "Iteration 1, inertia 9777.833360920173.\n",
            "Iteration 2, inertia 9727.879977278117.\n",
            "Iteration 3, inertia 9714.72384395386.\n",
            "Iteration 4, inertia 9708.532428565324.\n",
            "Iteration 5, inertia 9705.10994454273.\n",
            "Iteration 6, inertia 9703.592703383765.\n",
            "Iteration 7, inertia 9702.759291833163.\n",
            "Iteration 8, inertia 9702.212832366673.\n",
            "Iteration 9, inertia 9701.833054432447.\n",
            "Iteration 10, inertia 9701.506544784046.\n",
            "Iteration 11, inertia 9701.2759424376.\n",
            "Iteration 12, inertia 9701.096030889054.\n",
            "Iteration 13, inertia 9700.969042104341.\n",
            "Iteration 14, inertia 9700.882757062569.\n",
            "Iteration 15, inertia 9700.80470524187.\n",
            "Iteration 16, inertia 9700.732471772797.\n",
            "Iteration 17, inertia 9700.682269408722.\n",
            "Iteration 18, inertia 9700.654306258042.\n",
            "Iteration 19, inertia 9700.629212633317.\n",
            "Iteration 20, inertia 9700.617330322486.\n",
            "Iteration 21, inertia 9700.612084593213.\n",
            "Iteration 22, inertia 9700.610622983.\n",
            "Converged at iteration 22: strict convergence.\n",
            "Initialization complete\n",
            "Iteration 0, inertia 19117.303231169553.\n",
            "Iteration 1, inertia 9724.686565479104.\n",
            "Iteration 2, inertia 9707.27707040629.\n",
            "Iteration 3, inertia 9700.611196368074.\n",
            "Iteration 4, inertia 9698.026950896683.\n",
            "Iteration 5, inertia 9692.459375800729.\n",
            "Iteration 6, inertia 9683.14259010683.\n",
            "Iteration 7, inertia 9675.655869055376.\n",
            "Iteration 8, inertia 9668.458008078675.\n",
            "Iteration 9, inertia 9664.069142688648.\n",
            "Iteration 10, inertia 9662.276361438937.\n",
            "Iteration 11, inertia 9661.421494507369.\n",
            "Iteration 12, inertia 9660.606431180006.\n",
            "Iteration 13, inertia 9659.867862434532.\n",
            "Iteration 14, inertia 9659.201857450204.\n",
            "Iteration 15, inertia 9658.563752872784.\n",
            "Iteration 16, inertia 9657.894302953546.\n",
            "Iteration 17, inertia 9657.295629306616.\n",
            "Iteration 18, inertia 9656.776469500377.\n",
            "Iteration 19, inertia 9656.551259920649.\n",
            "Iteration 20, inertia 9656.402896367046.\n",
            "Iteration 21, inertia 9656.3120128581.\n",
            "Iteration 22, inertia 9656.279206405987.\n",
            "Iteration 23, inertia 9656.263123908433.\n",
            "Iteration 24, inertia 9656.254933355205.\n",
            "Iteration 25, inertia 9656.24966633743.\n",
            "Iteration 26, inertia 9656.243852017684.\n",
            "Iteration 27, inertia 9656.242858470054.\n",
            "Iteration 28, inertia 9656.240903026954.\n",
            "Converged at iteration 28: strict convergence.\n"
          ]
        }
      ],
      "source": [
        "from sklearn.cluster import KMeans\n",
        "\n",
        "# Number of clusters (languages)\n",
        "k = 5\n",
        "\n",
        "kmeans = KMeans(n_clusters=k, max_iter=100, n_init=2, verbose=True, random_state=2307)\n",
        "kmeans.fit(vector_documents)\n",
        "labels = kmeans.labels_"
      ]
    },
    {
      "cell_type": "code",
      "execution_count": 41,
      "metadata": {},
      "outputs": [
        {
          "name": "stdout",
          "output_type": "stream",
          "text": [
            "Cluster 0:\n",
            "['die', 'und', 'der', 'et', 'zu', 'des', 'ist', 'est', 'les', 'ich', 'eine', 'le', 'von', 'sie', 'du', 'das', 'pour', 'une', 'ein', 'mit']\n",
            "Cluster 1:\n",
            "['la', 'en', 'el', 'que', 'los', 'una', 'se', 'es', 'las', 'para', 'del', 'por', 'su', 'como', 'más', 'lo', 'puede', 'al', 'son', 'ser']\n",
            "Cluster 2:\n",
            "['use', 'like', 'help', 'time', 'data', 'ai', 'make', 'open', 'language', 'used', 'using', 'world', 'code', 'model', 'new', 'example', 'need', 'di', 'people', 'create']\n",
            "Cluster 3:\n",
            "['на', 'не', 'что', 'для', 'как', 'это', 'или', 'из', 'может', 'то', 'вы', 'если', 'по', 'от', 'но', 'чтобы', 'за', 'ты', 'он', 'его']\n",
            "Cluster 4:\n",
            "['que', 'en', 'el', 'la', 'una', 'para', 'es', 'los', 'se', 'las', 'por', 'del', 'como', 'más', 'te', 'tu', 'si', 'lo', 'su', 'puedes']\n"
          ]
        }
      ],
      "source": [
        "for idx in range(k):\n",
        "  centroid = kmeans.cluster_centers_[idx]\n",
        "\n",
        "  # Sort terms according to their weights \n",
        "  # (argsort goes from lowest to highest, we reverse the order through slicing)\n",
        "  sorted_terms = centroid.argsort()[::-1]\n",
        "\n",
        "  # Print out the top 10 terms for the cluster\n",
        "  print(\"Cluster \" + str(idx) + \":\")\n",
        "  print([vocab[j] for j in sorted_terms[:20]])"
      ]
    },
    {
      "cell_type": "code",
      "execution_count": 42,
      "metadata": {},
      "outputs": [
        {
          "data": {
            "text/plain": [
              "<matplotlib.legend.Legend at 0x31ccb27c0>"
            ]
          },
          "execution_count": 42,
          "metadata": {},
          "output_type": "execute_result"
        },
        {
          "data": {
            "image/png": "[encoded data removed]",
            "text/plain": [
              "<Figure size 1500x1000 with 1 Axes>"
            ]
          },
          "metadata": {},
          "output_type": "display_data"
        }
      ],
      "source": [
        "from sklearn.decomposition import TruncatedSVD\n",
        "\n",
        "svd = TruncatedSVD(2)\n",
        "reduced_data = svd.fit_transform(vector_documents)\n",
        "\n",
        "[x,y] = np.transpose(reduced_data)\n",
        "fig = plt.figure(figsize=(15, 10))\n",
        "\n",
        "plt.xscale('log')\n",
        "plt.yscale('log')\n",
        "sns.scatterplot(x=x, y=y, hue=labels, palette=['red', 'blue', 'green', 'purple', 'orange'])\n",
        "plt.legend(title=\"Cluster\")"
      ]
    },
    {
      "cell_type": "markdown",
      "metadata": {},
      "source": [
        "# Training"
      ]
    }
  ],
  "metadata": {
    "colab": {
      "provenance": []
    },
    "kernelspec": {
      "display_name": "Python 3",
      "name": "python3"
    },
    "language_info": {
      "codemirror_mode": {
        "name": "ipython",
        "version": 3
      },
      "file_extension": ".py",
      "mimetype": "text/x-python",
      "name": "python",
      "nbconvert_exporter": "python",
      "pygments_lexer": "ipython3",
      "version": "3.9.8"
    },
    "widgets": {
      "application/vnd.jupyter.widget-state+json": {
        "02e84784f9764550b000933dbc70c558": {
          "model_module": "@jupyter-widgets/base",
          "model_module_version": "1.2.0",
          "model_name": "LayoutModel",
          "state": {
            "_model_module": "@jupyter-widgets/base",
            "_model_module_version": "1.2.0",
            "_model_name": "LayoutModel",
            "_view_count": null,
            "_view_module": "@jupyter-widgets/base",
            "_view_module_version": "1.2.0",
            "_view_name": "LayoutView",
            "align_content": null,
            "align_items": null,
            "align_self": null,
            "border": null,
            "bottom": null,
            "display": null,
            "flex": null,
            "flex_flow": null,
            "grid_area": null,
            "grid_auto_columns": null,
            "grid_auto_flow": null,
            "grid_auto_rows": null,
            "grid_column": null,
            "grid_gap": null,
            "grid_row": null,
            "grid_template_areas": null,
            "grid_template_columns": null,
            "grid_template_rows": null,
            "height": null,
            "justify_content": null,
            "justify_items": null,
            "left": null,
            "margin": null,
            "max_height": null,
            "max_width": null,
            "min_height": null,
            "min_width": null,
            "object_fit": null,
            "object_position": null,
            "order": null,
            "overflow": null,
            "overflow_x": null,
            "overflow_y": null,
            "padding": null,
            "right": null,
            "top": null,
            "visibility": null,
            "width": null
          }
        },
        "08d2090f14cf46878ed8daeec54af132": {
          "model_module": "@jupyter-widgets/base",
          "model_module_version": "1.2.0",
          "model_name": "LayoutModel",
          "state": {
            "_model_module": "@jupyter-widgets/base",
            "_model_module_version": "1.2.0",
            "_model_name": "LayoutModel",
            "_view_count": null,
            "_view_module": "@jupyter-widgets/base",
            "_view_module_version": "1.2.0",
            "_view_name": "LayoutView",
            "align_content": null,
            "align_items": null,
            "align_self": null,
            "border": null,
            "bottom": null,
            "display": null,
            "flex": null,
            "flex_flow": null,
            "grid_area": null,
            "grid_auto_columns": null,
            "grid_auto_flow": null,
            "grid_auto_rows": null,
            "grid_column": null,
            "grid_gap": null,
            "grid_row": null,
            "grid_template_areas": null,
            "grid_template_columns": null,
            "grid_template_rows": null,
            "height": null,
            "justify_content": null,
            "justify_items": null,
            "left": null,
            "margin": null,
            "max_height": null,
            "max_width": null,
            "min_height": null,
            "min_width": null,
            "object_fit": null,
            "object_position": null,
            "order": null,
            "overflow": null,
            "overflow_x": null,
            "overflow_y": null,
            "padding": null,
            "right": null,
            "top": null,
            "visibility": null,
            "width": null
          }
        },
        "0cb82cd000a34ecaa4a24b7639bedc80": {
          "model_module": "@jupyter-widgets/controls",
          "model_module_version": "1.5.0",
          "model_name": "HBoxModel",
          "state": {
            "_dom_classes": [],
            "_model_module": "@jupyter-widgets/controls",
            "_model_module_version": "1.5.0",
            "_model_name": "HBoxModel",
            "_view_count": null,
            "_view_module": "@jupyter-widgets/controls",
            "_view_module_version": "1.5.0",
            "_view_name": "HBoxView",
            "box_style": "",
            "children": [
              "IPY_MODEL_877812f447fa426994de88b237dafd80",
              "IPY_MODEL_e19c27f417694f15a69b2b6987d0a471",
              "IPY_MODEL_5450df6b1e2448d4a587fa828f9b9d5c"
            ],
            "layout": "IPY_MODEL_3f0e24d7f61c428dac396387bd9b8e1a"
          }
        },
        "13cb26101a5746e19cfd0085ac811c8c": {
          "model_module": "@jupyter-widgets/base",
          "model_module_version": "1.2.0",
          "model_name": "LayoutModel",
          "state": {
            "_model_module": "@jupyter-widgets/base",
            "_model_module_version": "1.2.0",
            "_model_name": "LayoutModel",
            "_view_count": null,
            "_view_module": "@jupyter-widgets/base",
            "_view_module_version": "1.2.0",
            "_view_name": "LayoutView",
            "align_content": null,
            "align_items": null,
            "align_self": null,
            "border": null,
            "bottom": null,
            "display": null,
            "flex": null,
            "flex_flow": null,
            "grid_area": null,
            "grid_auto_columns": null,
            "grid_auto_flow": null,
            "grid_auto_rows": null,
            "grid_column": null,
            "grid_gap": null,
            "grid_row": null,
            "grid_template_areas": null,
            "grid_template_columns": null,
            "grid_template_rows": null,
            "height": null,
            "justify_content": null,
            "justify_items": null,
            "left": null,
            "margin": null,
            "max_height": null,
            "max_width": null,
            "min_height": null,
            "min_width": null,
            "object_fit": null,
            "object_position": null,
            "order": null,
            "overflow": null,
            "overflow_x": null,
            "overflow_y": null,
            "padding": null,
            "right": null,
            "top": null,
            "visibility": null,
            "width": null
          }
        },
        "20742a5208f84357ad523caeab7bce11": {
          "model_module": "@jupyter-widgets/controls",
          "model_module_version": "1.5.0",
          "model_name": "HTMLModel",
          "state": {
            "_dom_classes": [],
            "_model_module": "@jupyter-widgets/controls",
            "_model_module_version": "1.5.0",
            "_model_name": "HTMLModel",
            "_view_count": null,
            "_view_module": "@jupyter-widgets/controls",
            "_view_module_version": "1.5.0",
            "_view_name": "HTMLView",
            "description": "",
            "description_tooltip": null,
            "layout": "IPY_MODEL_55c535f122dc47498ffad9dab206dced",
            "placeholder": "​",
            "style": "IPY_MODEL_5dbbf8c8285b4aefa8b8341a034298f5",
            "value": " 395/395 [00:00&lt;00:00, 17.3kB/s]"
          }
        },
        "2441716ab068433dba54017a5d53c3af": {
          "model_module": "@jupyter-widgets/controls",
          "model_module_version": "1.5.0",
          "model_name": "DescriptionStyleModel",
          "state": {
            "_model_module": "@jupyter-widgets/controls",
            "_model_module_version": "1.5.0",
            "_model_name": "DescriptionStyleModel",
            "_view_count": null,
            "_view_module": "@jupyter-widgets/base",
            "_view_module_version": "1.2.0",
            "_view_name": "StyleView",
            "description_width": ""
          }
        },
        "24ef5fc62f4f49398f60aa54b79b473b": {
          "model_module": "@jupyter-widgets/controls",
          "model_module_version": "1.5.0",
          "model_name": "HBoxModel",
          "state": {
            "_dom_classes": [],
            "_model_module": "@jupyter-widgets/controls",
            "_model_module_version": "1.5.0",
            "_model_name": "HBoxModel",
            "_view_count": null,
            "_view_module": "@jupyter-widgets/controls",
            "_view_module_version": "1.5.0",
            "_view_name": "HBoxView",
            "box_style": "",
            "children": [
              "IPY_MODEL_290379391e8a4488a637a759ef120052",
              "IPY_MODEL_d497ff17d92243b39eed6b178f63d8f6",
              "IPY_MODEL_b021ef90c2064ff4841c174a5321ed3d"
            ],
            "layout": "IPY_MODEL_d8803f3537ab42a4809cfca46ad890cd"
          }
        },
        "25028418d18d40e289dc7abf01fedc99": {
          "model_module": "@jupyter-widgets/controls",
          "model_module_version": "1.5.0",
          "model_name": "ProgressStyleModel",
          "state": {
            "_model_module": "@jupyter-widgets/controls",
            "_model_module_version": "1.5.0",
            "_model_name": "ProgressStyleModel",
            "_view_count": null,
            "_view_module": "@jupyter-widgets/base",
            "_view_module_version": "1.2.0",
            "_view_name": "StyleView",
            "bar_color": null,
            "description_width": ""
          }
        },
        "290379391e8a4488a637a759ef120052": {
          "model_module": "@jupyter-widgets/controls",
          "model_module_version": "1.5.0",
          "model_name": "HTMLModel",
          "state": {
            "_dom_classes": [],
            "_model_module": "@jupyter-widgets/controls",
            "_model_module_version": "1.5.0",
            "_model_name": "HTMLModel",
            "_view_count": null,
            "_view_module": "@jupyter-widgets/controls",
            "_view_module_version": "1.5.0",
            "_view_name": "HTMLView",
            "description": "",
            "description_tooltip": null,
            "layout": "IPY_MODEL_13cb26101a5746e19cfd0085ac811c8c",
            "placeholder": "​",
            "style": "IPY_MODEL_2441716ab068433dba54017a5d53c3af",
            "value": "Generating test split: 100%"
          }
        },
        "34352f8edc734177a4dd5aa65e923f8e": {
          "model_module": "@jupyter-widgets/base",
          "model_module_version": "1.2.0",
          "model_name": "LayoutModel",
          "state": {
            "_model_module": "@jupyter-widgets/base",
            "_model_module_version": "1.2.0",
            "_model_name": "LayoutModel",
            "_view_count": null,
            "_view_module": "@jupyter-widgets/base",
            "_view_module_version": "1.2.0",
            "_view_name": "LayoutView",
            "align_content": null,
            "align_items": null,
            "align_self": null,
            "border": null,
            "bottom": null,
            "display": null,
            "flex": null,
            "flex_flow": null,
            "grid_area": null,
            "grid_auto_columns": null,
            "grid_auto_flow": null,
            "grid_auto_rows": null,
            "grid_column": null,
            "grid_gap": null,
            "grid_row": null,
            "grid_template_areas": null,
            "grid_template_columns": null,
            "grid_template_rows": null,
            "height": null,
            "justify_content": null,
            "justify_items": null,
            "left": null,
            "margin": null,
            "max_height": null,
            "max_width": null,
            "min_height": null,
            "min_width": null,
            "object_fit": null,
            "object_position": null,
            "order": null,
            "overflow": null,
            "overflow_x": null,
            "overflow_y": null,
            "padding": null,
            "right": null,
            "top": null,
            "visibility": null,
            "width": null
          }
        },
        "368b293ca59f4a769b2709621d7ae2a0": {
          "model_module": "@jupyter-widgets/controls",
          "model_module_version": "1.5.0",
          "model_name": "FloatProgressModel",
          "state": {
            "_dom_classes": [],
            "_model_module": "@jupyter-widgets/controls",
            "_model_module_version": "1.5.0",
            "_model_name": "FloatProgressModel",
            "_view_count": null,
            "_view_module": "@jupyter-widgets/controls",
            "_view_module_version": "1.5.0",
            "_view_name": "ProgressView",
            "bar_style": "success",
            "description": "",
            "description_tooltip": null,
            "layout": "IPY_MODEL_71c089c0388f4cd5999dd2cd3e80ec27",
            "max": 20877686,
            "min": 0,
            "orientation": "horizontal",
            "style": "IPY_MODEL_e4b978df62cd49dca6f901269fc2440c",
            "value": 20877686
          }
        },
        "3d3fc9747b1e4c7690ab770a9243ec73": {
          "model_module": "@jupyter-widgets/base",
          "model_module_version": "1.2.0",
          "model_name": "LayoutModel",
          "state": {
            "_model_module": "@jupyter-widgets/base",
            "_model_module_version": "1.2.0",
            "_model_name": "LayoutModel",
            "_view_count": null,
            "_view_module": "@jupyter-widgets/base",
            "_view_module_version": "1.2.0",
            "_view_name": "LayoutView",
            "align_content": null,
            "align_items": null,
            "align_self": null,
            "border": null,
            "bottom": null,
            "display": null,
            "flex": null,
            "flex_flow": null,
            "grid_area": null,
            "grid_auto_columns": null,
            "grid_auto_flow": null,
            "grid_auto_rows": null,
            "grid_column": null,
            "grid_gap": null,
            "grid_row": null,
            "grid_template_areas": null,
            "grid_template_columns": null,
            "grid_template_rows": null,
            "height": null,
            "justify_content": null,
            "justify_items": null,
            "left": null,
            "margin": null,
            "max_height": null,
            "max_width": null,
            "min_height": null,
            "min_width": null,
            "object_fit": null,
            "object_position": null,
            "order": null,
            "overflow": null,
            "overflow_x": null,
            "overflow_y": null,
            "padding": null,
            "right": null,
            "top": null,
            "visibility": null,
            "width": null
          }
        },
        "3f0e24d7f61c428dac396387bd9b8e1a": {
          "model_module": "@jupyter-widgets/base",
          "model_module_version": "1.2.0",
          "model_name": "LayoutModel",
          "state": {
            "_model_module": "@jupyter-widgets/base",
            "_model_module_version": "1.2.0",
            "_model_name": "LayoutModel",
            "_view_count": null,
            "_view_module": "@jupyter-widgets/base",
            "_view_module_version": "1.2.0",
            "_view_name": "LayoutView",
            "align_content": null,
            "align_items": null,
            "align_self": null,
            "border": null,
            "bottom": null,
            "display": null,
            "flex": null,
            "flex_flow": null,
            "grid_area": null,
            "grid_auto_columns": null,
            "grid_auto_flow": null,
            "grid_auto_rows": null,
            "grid_column": null,
            "grid_gap": null,
            "grid_row": null,
            "grid_template_areas": null,
            "grid_template_columns": null,
            "grid_template_rows": null,
            "height": null,
            "justify_content": null,
            "justify_items": null,
            "left": null,
            "margin": null,
            "max_height": null,
            "max_width": null,
            "min_height": null,
            "min_width": null,
            "object_fit": null,
            "object_position": null,
            "order": null,
            "overflow": null,
            "overflow_x": null,
            "overflow_y": null,
            "padding": null,
            "right": null,
            "top": null,
            "visibility": null,
            "width": null
          }
        },
        "47b4cdf77ba84c62bdd65059a70372e4": {
          "model_module": "@jupyter-widgets/controls",
          "model_module_version": "1.5.0",
          "model_name": "HTMLModel",
          "state": {
            "_dom_classes": [],
            "_model_module": "@jupyter-widgets/controls",
            "_model_module_version": "1.5.0",
            "_model_name": "HTMLModel",
            "_view_count": null,
            "_view_module": "@jupyter-widgets/controls",
            "_view_module_version": "1.5.0",
            "_view_name": "HTMLView",
            "description": "",
            "description_tooltip": null,
            "layout": "IPY_MODEL_ce6754f496904d22860be6525f77e6b1",
            "placeholder": "​",
            "style": "IPY_MODEL_f00bd38fd36b48fd962f0ca3c6666675",
            "value": "Downloading data: 100%"
          }
        },
        "48e98e43a19842c19726a5a78008597d": {
          "model_module": "@jupyter-widgets/controls",
          "model_module_version": "1.5.0",
          "model_name": "DescriptionStyleModel",
          "state": {
            "_model_module": "@jupyter-widgets/controls",
            "_model_module_version": "1.5.0",
            "_model_name": "DescriptionStyleModel",
            "_view_count": null,
            "_view_module": "@jupyter-widgets/base",
            "_view_module_version": "1.2.0",
            "_view_name": "StyleView",
            "description_width": ""
          }
        },
        "530210ca296d477c8c75aed4536ac1af": {
          "model_module": "@jupyter-widgets/controls",
          "model_module_version": "1.5.0",
          "model_name": "DescriptionStyleModel",
          "state": {
            "_model_module": "@jupyter-widgets/controls",
            "_model_module_version": "1.5.0",
            "_model_name": "DescriptionStyleModel",
            "_view_count": null,
            "_view_module": "@jupyter-widgets/base",
            "_view_module_version": "1.2.0",
            "_view_name": "StyleView",
            "description_width": ""
          }
        },
        "5450df6b1e2448d4a587fa828f9b9d5c": {
          "model_module": "@jupyter-widgets/controls",
          "model_module_version": "1.5.0",
          "model_name": "HTMLModel",
          "state": {
            "_dom_classes": [],
            "_model_module": "@jupyter-widgets/controls",
            "_model_module_version": "1.5.0",
            "_model_name": "HTMLModel",
            "_view_count": null,
            "_view_module": "@jupyter-widgets/controls",
            "_view_module_version": "1.5.0",
            "_view_name": "HTMLView",
            "description": "",
            "description_tooltip": null,
            "layout": "IPY_MODEL_b78a508ef3a440dc9ab715095dabbf1a",
            "placeholder": "​",
            "style": "IPY_MODEL_a8f7e29d03c74ff8a1dbd0eaa4be2b4a",
            "value": " 9846/9846 [00:00&lt;00:00, 28370.86 examples/s]"
          }
        },
        "55c535f122dc47498ffad9dab206dced": {
          "model_module": "@jupyter-widgets/base",
          "model_module_version": "1.2.0",
          "model_name": "LayoutModel",
          "state": {
            "_model_module": "@jupyter-widgets/base",
            "_model_module_version": "1.2.0",
            "_model_name": "LayoutModel",
            "_view_count": null,
            "_view_module": "@jupyter-widgets/base",
            "_view_module_version": "1.2.0",
            "_view_name": "LayoutView",
            "align_content": null,
            "align_items": null,
            "align_self": null,
            "border": null,
            "bottom": null,
            "display": null,
            "flex": null,
            "flex_flow": null,
            "grid_area": null,
            "grid_auto_columns": null,
            "grid_auto_flow": null,
            "grid_auto_rows": null,
            "grid_column": null,
            "grid_gap": null,
            "grid_row": null,
            "grid_template_areas": null,
            "grid_template_columns": null,
            "grid_template_rows": null,
            "height": null,
            "justify_content": null,
            "justify_items": null,
            "left": null,
            "margin": null,
            "max_height": null,
            "max_width": null,
            "min_height": null,
            "min_width": null,
            "object_fit": null,
            "object_position": null,
            "order": null,
            "overflow": null,
            "overflow_x": null,
            "overflow_y": null,
            "padding": null,
            "right": null,
            "top": null,
            "visibility": null,
            "width": null
          }
        },
        "5dbbf8c8285b4aefa8b8341a034298f5": {
          "model_module": "@jupyter-widgets/controls",
          "model_module_version": "1.5.0",
          "model_name": "DescriptionStyleModel",
          "state": {
            "_model_module": "@jupyter-widgets/controls",
            "_model_module_version": "1.5.0",
            "_model_name": "DescriptionStyleModel",
            "_view_count": null,
            "_view_module": "@jupyter-widgets/base",
            "_view_module_version": "1.2.0",
            "_view_name": "StyleView",
            "description_width": ""
          }
        },
        "669dd15ce9d84be0b52690ae1c939ee1": {
          "model_module": "@jupyter-widgets/base",
          "model_module_version": "1.2.0",
          "model_name": "LayoutModel",
          "state": {
            "_model_module": "@jupyter-widgets/base",
            "_model_module_version": "1.2.0",
            "_model_name": "LayoutModel",
            "_view_count": null,
            "_view_module": "@jupyter-widgets/base",
            "_view_module_version": "1.2.0",
            "_view_name": "LayoutView",
            "align_content": null,
            "align_items": null,
            "align_self": null,
            "border": null,
            "bottom": null,
            "display": null,
            "flex": null,
            "flex_flow": null,
            "grid_area": null,
            "grid_auto_columns": null,
            "grid_auto_flow": null,
            "grid_auto_rows": null,
            "grid_column": null,
            "grid_gap": null,
            "grid_row": null,
            "grid_template_areas": null,
            "grid_template_columns": null,
            "grid_template_rows": null,
            "height": null,
            "justify_content": null,
            "justify_items": null,
            "left": null,
            "margin": null,
            "max_height": null,
            "max_width": null,
            "min_height": null,
            "min_width": null,
            "object_fit": null,
            "object_position": null,
            "order": null,
            "overflow": null,
            "overflow_x": null,
            "overflow_y": null,
            "padding": null,
            "right": null,
            "top": null,
            "visibility": null,
            "width": null
          }
        },
        "71c089c0388f4cd5999dd2cd3e80ec27": {
          "model_module": "@jupyter-widgets/base",
          "model_module_version": "1.2.0",
          "model_name": "LayoutModel",
          "state": {
            "_model_module": "@jupyter-widgets/base",
            "_model_module_version": "1.2.0",
            "_model_name": "LayoutModel",
            "_view_count": null,
            "_view_module": "@jupyter-widgets/base",
            "_view_module_version": "1.2.0",
            "_view_name": "LayoutView",
            "align_content": null,
            "align_items": null,
            "align_self": null,
            "border": null,
            "bottom": null,
            "display": null,
            "flex": null,
            "flex_flow": null,
            "grid_area": null,
            "grid_auto_columns": null,
            "grid_auto_flow": null,
            "grid_auto_rows": null,
            "grid_column": null,
            "grid_gap": null,
            "grid_row": null,
            "grid_template_areas": null,
            "grid_template_columns": null,
            "grid_template_rows": null,
            "height": null,
            "justify_content": null,
            "justify_items": null,
            "left": null,
            "margin": null,
            "max_height": null,
            "max_width": null,
            "min_height": null,
            "min_width": null,
            "object_fit": null,
            "object_position": null,
            "order": null,
            "overflow": null,
            "overflow_x": null,
            "overflow_y": null,
            "padding": null,
            "right": null,
            "top": null,
            "visibility": null,
            "width": null
          }
        },
        "778757ae1d834c8381c0248a6a353e6e": {
          "model_module": "@jupyter-widgets/controls",
          "model_module_version": "1.5.0",
          "model_name": "DescriptionStyleModel",
          "state": {
            "_model_module": "@jupyter-widgets/controls",
            "_model_module_version": "1.5.0",
            "_model_name": "DescriptionStyleModel",
            "_view_count": null,
            "_view_module": "@jupyter-widgets/base",
            "_view_module_version": "1.2.0",
            "_view_name": "StyleView",
            "description_width": ""
          }
        },
        "77950b7b37f144549315a8bdb763b603": {
          "model_module": "@jupyter-widgets/controls",
          "model_module_version": "1.5.0",
          "model_name": "ProgressStyleModel",
          "state": {
            "_model_module": "@jupyter-widgets/controls",
            "_model_module_version": "1.5.0",
            "_model_name": "ProgressStyleModel",
            "_view_count": null,
            "_view_module": "@jupyter-widgets/base",
            "_view_module_version": "1.2.0",
            "_view_name": "StyleView",
            "bar_color": null,
            "description_width": ""
          }
        },
        "7e86c22e69054684bb882f2c8d0cab2b": {
          "model_module": "@jupyter-widgets/base",
          "model_module_version": "1.2.0",
          "model_name": "LayoutModel",
          "state": {
            "_model_module": "@jupyter-widgets/base",
            "_model_module_version": "1.2.0",
            "_model_name": "LayoutModel",
            "_view_count": null,
            "_view_module": "@jupyter-widgets/base",
            "_view_module_version": "1.2.0",
            "_view_name": "LayoutView",
            "align_content": null,
            "align_items": null,
            "align_self": null,
            "border": null,
            "bottom": null,
            "display": null,
            "flex": null,
            "flex_flow": null,
            "grid_area": null,
            "grid_auto_columns": null,
            "grid_auto_flow": null,
            "grid_auto_rows": null,
            "grid_column": null,
            "grid_gap": null,
            "grid_row": null,
            "grid_template_areas": null,
            "grid_template_columns": null,
            "grid_template_rows": null,
            "height": null,
            "justify_content": null,
            "justify_items": null,
            "left": null,
            "margin": null,
            "max_height": null,
            "max_width": null,
            "min_height": null,
            "min_width": null,
            "object_fit": null,
            "object_position": null,
            "order": null,
            "overflow": null,
            "overflow_x": null,
            "overflow_y": null,
            "padding": null,
            "right": null,
            "top": null,
            "visibility": null,
            "width": null
          }
        },
        "7f19b6f44b88420fb796d821b7aa2ea1": {
          "model_module": "@jupyter-widgets/controls",
          "model_module_version": "1.5.0",
          "model_name": "HTMLModel",
          "state": {
            "_dom_classes": [],
            "_model_module": "@jupyter-widgets/controls",
            "_model_module_version": "1.5.0",
            "_model_name": "HTMLModel",
            "_view_count": null,
            "_view_module": "@jupyter-widgets/controls",
            "_view_module_version": "1.5.0",
            "_view_name": "HTMLView",
            "description": "",
            "description_tooltip": null,
            "layout": "IPY_MODEL_b7d8a51e0a004acfacada7db8c0330ae",
            "placeholder": "​",
            "style": "IPY_MODEL_48e98e43a19842c19726a5a78008597d",
            "value": "Downloading data: 100%"
          }
        },
        "877812f447fa426994de88b237dafd80": {
          "model_module": "@jupyter-widgets/controls",
          "model_module_version": "1.5.0",
          "model_name": "HTMLModel",
          "state": {
            "_dom_classes": [],
            "_model_module": "@jupyter-widgets/controls",
            "_model_module_version": "1.5.0",
            "_model_name": "HTMLModel",
            "_view_count": null,
            "_view_module": "@jupyter-widgets/controls",
            "_view_module_version": "1.5.0",
            "_view_name": "HTMLView",
            "description": "",
            "description_tooltip": null,
            "layout": "IPY_MODEL_b1731f17a6be460b9b2d436eba6ea5d9",
            "placeholder": "​",
            "style": "IPY_MODEL_e53bed3fc01b42b6b3593d53bed78eb2",
            "value": "Generating train split: 100%"
          }
        },
        "8c73089943ae449784a89d444e9b7f1e": {
          "model_module": "@jupyter-widgets/controls",
          "model_module_version": "1.5.0",
          "model_name": "FloatProgressModel",
          "state": {
            "_dom_classes": [],
            "_model_module": "@jupyter-widgets/controls",
            "_model_module_version": "1.5.0",
            "_model_name": "FloatProgressModel",
            "_view_count": null,
            "_view_module": "@jupyter-widgets/controls",
            "_view_module_version": "1.5.0",
            "_view_name": "ProgressView",
            "bar_style": "success",
            "description": "",
            "description_tooltip": null,
            "layout": "IPY_MODEL_fb99ed37249e4dd7b065cda8fc371551",
            "max": 1105272,
            "min": 0,
            "orientation": "horizontal",
            "style": "IPY_MODEL_a196791aa71f4645a2f15d096142f6ef",
            "value": 1105272
          }
        },
        "8f047cc89e32422dbde213f54743f401": {
          "model_module": "@jupyter-widgets/controls",
          "model_module_version": "1.5.0",
          "model_name": "DescriptionStyleModel",
          "state": {
            "_model_module": "@jupyter-widgets/controls",
            "_model_module_version": "1.5.0",
            "_model_name": "DescriptionStyleModel",
            "_view_count": null,
            "_view_module": "@jupyter-widgets/base",
            "_view_module_version": "1.2.0",
            "_view_name": "StyleView",
            "description_width": ""
          }
        },
        "a196791aa71f4645a2f15d096142f6ef": {
          "model_module": "@jupyter-widgets/controls",
          "model_module_version": "1.5.0",
          "model_name": "ProgressStyleModel",
          "state": {
            "_model_module": "@jupyter-widgets/controls",
            "_model_module_version": "1.5.0",
            "_model_name": "ProgressStyleModel",
            "_view_count": null,
            "_view_module": "@jupyter-widgets/base",
            "_view_module_version": "1.2.0",
            "_view_name": "StyleView",
            "bar_color": null,
            "description_width": ""
          }
        },
        "a8f7e29d03c74ff8a1dbd0eaa4be2b4a": {
          "model_module": "@jupyter-widgets/controls",
          "model_module_version": "1.5.0",
          "model_name": "DescriptionStyleModel",
          "state": {
            "_model_module": "@jupyter-widgets/controls",
            "_model_module_version": "1.5.0",
            "_model_name": "DescriptionStyleModel",
            "_view_count": null,
            "_view_module": "@jupyter-widgets/base",
            "_view_module_version": "1.2.0",
            "_view_name": "StyleView",
            "description_width": ""
          }
        },
        "a9b3b72a45c44cd59ebd4889426ae53a": {
          "model_module": "@jupyter-widgets/controls",
          "model_module_version": "1.5.0",
          "model_name": "HTMLModel",
          "state": {
            "_dom_classes": [],
            "_model_module": "@jupyter-widgets/controls",
            "_model_module_version": "1.5.0",
            "_model_name": "HTMLModel",
            "_view_count": null,
            "_view_module": "@jupyter-widgets/controls",
            "_view_module_version": "1.5.0",
            "_view_name": "HTMLView",
            "description": "",
            "description_tooltip": null,
            "layout": "IPY_MODEL_d4c90b9a31c84c79a3897d141aab6227",
            "placeholder": "​",
            "style": "IPY_MODEL_8f047cc89e32422dbde213f54743f401",
            "value": " 1.11M/1.11M [00:00&lt;00:00, 3.47MB/s]"
          }
        },
        "b021ef90c2064ff4841c174a5321ed3d": {
          "model_module": "@jupyter-widgets/controls",
          "model_module_version": "1.5.0",
          "model_name": "HTMLModel",
          "state": {
            "_dom_classes": [],
            "_model_module": "@jupyter-widgets/controls",
            "_model_module_version": "1.5.0",
            "_model_name": "HTMLModel",
            "_view_count": null,
            "_view_module": "@jupyter-widgets/controls",
            "_view_module_version": "1.5.0",
            "_view_name": "HTMLView",
            "description": "",
            "description_tooltip": null,
            "layout": "IPY_MODEL_e94d3cef53b14c54a4e4be57fc75aa4d",
            "placeholder": "​",
            "style": "IPY_MODEL_530210ca296d477c8c75aed4536ac1af",
            "value": " 518/518 [00:00&lt;00:00, 14313.99 examples/s]"
          }
        },
        "b1731f17a6be460b9b2d436eba6ea5d9": {
          "model_module": "@jupyter-widgets/base",
          "model_module_version": "1.2.0",
          "model_name": "LayoutModel",
          "state": {
            "_model_module": "@jupyter-widgets/base",
            "_model_module_version": "1.2.0",
            "_model_name": "LayoutModel",
            "_view_count": null,
            "_view_module": "@jupyter-widgets/base",
            "_view_module_version": "1.2.0",
            "_view_name": "LayoutView",
            "align_content": null,
            "align_items": null,
            "align_self": null,
            "border": null,
            "bottom": null,
            "display": null,
            "flex": null,
            "flex_flow": null,
            "grid_area": null,
            "grid_auto_columns": null,
            "grid_auto_flow": null,
            "grid_auto_rows": null,
            "grid_column": null,
            "grid_gap": null,
            "grid_row": null,
            "grid_template_areas": null,
            "grid_template_columns": null,
            "grid_template_rows": null,
            "height": null,
            "justify_content": null,
            "justify_items": null,
            "left": null,
            "margin": null,
            "max_height": null,
            "max_width": null,
            "min_height": null,
            "min_width": null,
            "object_fit": null,
            "object_position": null,
            "order": null,
            "overflow": null,
            "overflow_x": null,
            "overflow_y": null,
            "padding": null,
            "right": null,
            "top": null,
            "visibility": null,
            "width": null
          }
        },
        "b78a508ef3a440dc9ab715095dabbf1a": {
          "model_module": "@jupyter-widgets/base",
          "model_module_version": "1.2.0",
          "model_name": "LayoutModel",
          "state": {
            "_model_module": "@jupyter-widgets/base",
            "_model_module_version": "1.2.0",
            "_model_name": "LayoutModel",
            "_view_count": null,
            "_view_module": "@jupyter-widgets/base",
            "_view_module_version": "1.2.0",
            "_view_name": "LayoutView",
            "align_content": null,
            "align_items": null,
            "align_self": null,
            "border": null,
            "bottom": null,
            "display": null,
            "flex": null,
            "flex_flow": null,
            "grid_area": null,
            "grid_auto_columns": null,
            "grid_auto_flow": null,
            "grid_auto_rows": null,
            "grid_column": null,
            "grid_gap": null,
            "grid_row": null,
            "grid_template_areas": null,
            "grid_template_columns": null,
            "grid_template_rows": null,
            "height": null,
            "justify_content": null,
            "justify_items": null,
            "left": null,
            "margin": null,
            "max_height": null,
            "max_width": null,
            "min_height": null,
            "min_width": null,
            "object_fit": null,
            "object_position": null,
            "order": null,
            "overflow": null,
            "overflow_x": null,
            "overflow_y": null,
            "padding": null,
            "right": null,
            "top": null,
            "visibility": null,
            "width": null
          }
        },
        "b7d8a51e0a004acfacada7db8c0330ae": {
          "model_module": "@jupyter-widgets/base",
          "model_module_version": "1.2.0",
          "model_name": "LayoutModel",
          "state": {
            "_model_module": "@jupyter-widgets/base",
            "_model_module_version": "1.2.0",
            "_model_name": "LayoutModel",
            "_view_count": null,
            "_view_module": "@jupyter-widgets/base",
            "_view_module_version": "1.2.0",
            "_view_name": "LayoutView",
            "align_content": null,
            "align_items": null,
            "align_self": null,
            "border": null,
            "bottom": null,
            "display": null,
            "flex": null,
            "flex_flow": null,
            "grid_area": null,
            "grid_auto_columns": null,
            "grid_auto_flow": null,
            "grid_auto_rows": null,
            "grid_column": null,
            "grid_gap": null,
            "grid_row": null,
            "grid_template_areas": null,
            "grid_template_columns": null,
            "grid_template_rows": null,
            "height": null,
            "justify_content": null,
            "justify_items": null,
            "left": null,
            "margin": null,
            "max_height": null,
            "max_width": null,
            "min_height": null,
            "min_width": null,
            "object_fit": null,
            "object_position": null,
            "order": null,
            "overflow": null,
            "overflow_x": null,
            "overflow_y": null,
            "padding": null,
            "right": null,
            "top": null,
            "visibility": null,
            "width": null
          }
        },
        "bf24977c534e4eb5b275dc9020a285b6": {
          "model_module": "@jupyter-widgets/controls",
          "model_module_version": "1.5.0",
          "model_name": "HBoxModel",
          "state": {
            "_dom_classes": [],
            "_model_module": "@jupyter-widgets/controls",
            "_model_module_version": "1.5.0",
            "_model_name": "HBoxModel",
            "_view_count": null,
            "_view_module": "@jupyter-widgets/controls",
            "_view_module_version": "1.5.0",
            "_view_name": "HBoxView",
            "box_style": "",
            "children": [
              "IPY_MODEL_47b4cdf77ba84c62bdd65059a70372e4",
              "IPY_MODEL_8c73089943ae449784a89d444e9b7f1e",
              "IPY_MODEL_a9b3b72a45c44cd59ebd4889426ae53a"
            ],
            "layout": "IPY_MODEL_02e84784f9764550b000933dbc70c558"
          }
        },
        "c7957c6388184c67aa30a8e47b13dc80": {
          "model_module": "@jupyter-widgets/controls",
          "model_module_version": "1.5.0",
          "model_name": "ProgressStyleModel",
          "state": {
            "_model_module": "@jupyter-widgets/controls",
            "_model_module_version": "1.5.0",
            "_model_name": "ProgressStyleModel",
            "_view_count": null,
            "_view_module": "@jupyter-widgets/base",
            "_view_module_version": "1.2.0",
            "_view_name": "StyleView",
            "bar_color": null,
            "description_width": ""
          }
        },
        "ce6754f496904d22860be6525f77e6b1": {
          "model_module": "@jupyter-widgets/base",
          "model_module_version": "1.2.0",
          "model_name": "LayoutModel",
          "state": {
            "_model_module": "@jupyter-widgets/base",
            "_model_module_version": "1.2.0",
            "_model_name": "LayoutModel",
            "_view_count": null,
            "_view_module": "@jupyter-widgets/base",
            "_view_module_version": "1.2.0",
            "_view_name": "LayoutView",
            "align_content": null,
            "align_items": null,
            "align_self": null,
            "border": null,
            "bottom": null,
            "display": null,
            "flex": null,
            "flex_flow": null,
            "grid_area": null,
            "grid_auto_columns": null,
            "grid_auto_flow": null,
            "grid_auto_rows": null,
            "grid_column": null,
            "grid_gap": null,
            "grid_row": null,
            "grid_template_areas": null,
            "grid_template_columns": null,
            "grid_template_rows": null,
            "height": null,
            "justify_content": null,
            "justify_items": null,
            "left": null,
            "margin": null,
            "max_height": null,
            "max_width": null,
            "min_height": null,
            "min_width": null,
            "object_fit": null,
            "object_position": null,
            "order": null,
            "overflow": null,
            "overflow_x": null,
            "overflow_y": null,
            "padding": null,
            "right": null,
            "top": null,
            "visibility": null,
            "width": null
          }
        },
        "d497ff17d92243b39eed6b178f63d8f6": {
          "model_module": "@jupyter-widgets/controls",
          "model_module_version": "1.5.0",
          "model_name": "FloatProgressModel",
          "state": {
            "_dom_classes": [],
            "_model_module": "@jupyter-widgets/controls",
            "_model_module_version": "1.5.0",
            "_model_name": "FloatProgressModel",
            "_view_count": null,
            "_view_module": "@jupyter-widgets/controls",
            "_view_module_version": "1.5.0",
            "_view_name": "ProgressView",
            "bar_style": "success",
            "description": "",
            "description_tooltip": null,
            "layout": "IPY_MODEL_f888d236be5344d1aa278505be9489a5",
            "max": 518,
            "min": 0,
            "orientation": "horizontal",
            "style": "IPY_MODEL_c7957c6388184c67aa30a8e47b13dc80",
            "value": 518
          }
        },
        "d4c90b9a31c84c79a3897d141aab6227": {
          "model_module": "@jupyter-widgets/base",
          "model_module_version": "1.2.0",
          "model_name": "LayoutModel",
          "state": {
            "_model_module": "@jupyter-widgets/base",
            "_model_module_version": "1.2.0",
            "_model_name": "LayoutModel",
            "_view_count": null,
            "_view_module": "@jupyter-widgets/base",
            "_view_module_version": "1.2.0",
            "_view_name": "LayoutView",
            "align_content": null,
            "align_items": null,
            "align_self": null,
            "border": null,
            "bottom": null,
            "display": null,
            "flex": null,
            "flex_flow": null,
            "grid_area": null,
            "grid_auto_columns": null,
            "grid_auto_flow": null,
            "grid_auto_rows": null,
            "grid_column": null,
            "grid_gap": null,
            "grid_row": null,
            "grid_template_areas": null,
            "grid_template_columns": null,
            "grid_template_rows": null,
            "height": null,
            "justify_content": null,
            "justify_items": null,
            "left": null,
            "margin": null,
            "max_height": null,
            "max_width": null,
            "min_height": null,
            "min_width": null,
            "object_fit": null,
            "object_position": null,
            "order": null,
            "overflow": null,
            "overflow_x": null,
            "overflow_y": null,
            "padding": null,
            "right": null,
            "top": null,
            "visibility": null,
            "width": null
          }
        },
        "d8803f3537ab42a4809cfca46ad890cd": {
          "model_module": "@jupyter-widgets/base",
          "model_module_version": "1.2.0",
          "model_name": "LayoutModel",
          "state": {
            "_model_module": "@jupyter-widgets/base",
            "_model_module_version": "1.2.0",
            "_model_name": "LayoutModel",
            "_view_count": null,
            "_view_module": "@jupyter-widgets/base",
            "_view_module_version": "1.2.0",
            "_view_name": "LayoutView",
            "align_content": null,
            "align_items": null,
            "align_self": null,
            "border": null,
            "bottom": null,
            "display": null,
            "flex": null,
            "flex_flow": null,
            "grid_area": null,
            "grid_auto_columns": null,
            "grid_auto_flow": null,
            "grid_auto_rows": null,
            "grid_column": null,
            "grid_gap": null,
            "grid_row": null,
            "grid_template_areas": null,
            "grid_template_columns": null,
            "grid_template_rows": null,
            "height": null,
            "justify_content": null,
            "justify_items": null,
            "left": null,
            "margin": null,
            "max_height": null,
            "max_width": null,
            "min_height": null,
            "min_width": null,
            "object_fit": null,
            "object_position": null,
            "order": null,
            "overflow": null,
            "overflow_x": null,
            "overflow_y": null,
            "padding": null,
            "right": null,
            "top": null,
            "visibility": null,
            "width": null
          }
        },
        "da743f96a8644088b9cc3e148f00ae42": {
          "model_module": "@jupyter-widgets/controls",
          "model_module_version": "1.5.0",
          "model_name": "HBoxModel",
          "state": {
            "_dom_classes": [],
            "_model_module": "@jupyter-widgets/controls",
            "_model_module_version": "1.5.0",
            "_model_name": "HBoxModel",
            "_view_count": null,
            "_view_module": "@jupyter-widgets/controls",
            "_view_module_version": "1.5.0",
            "_view_name": "HBoxView",
            "box_style": "",
            "children": [
              "IPY_MODEL_dc42789b89b94cc1b84f2a6569c769fd",
              "IPY_MODEL_dffd6a7e61fe412caa6c46712f75f417",
              "IPY_MODEL_20742a5208f84357ad523caeab7bce11"
            ],
            "layout": "IPY_MODEL_08d2090f14cf46878ed8daeec54af132"
          }
        },
        "dc42789b89b94cc1b84f2a6569c769fd": {
          "model_module": "@jupyter-widgets/controls",
          "model_module_version": "1.5.0",
          "model_name": "HTMLModel",
          "state": {
            "_dom_classes": [],
            "_model_module": "@jupyter-widgets/controls",
            "_model_module_version": "1.5.0",
            "_model_name": "HTMLModel",
            "_view_count": null,
            "_view_module": "@jupyter-widgets/controls",
            "_view_module_version": "1.5.0",
            "_view_name": "HTMLView",
            "description": "",
            "description_tooltip": null,
            "layout": "IPY_MODEL_669dd15ce9d84be0b52690ae1c939ee1",
            "placeholder": "​",
            "style": "IPY_MODEL_778757ae1d834c8381c0248a6a353e6e",
            "value": "Downloading readme: 100%"
          }
        },
        "dffd6a7e61fe412caa6c46712f75f417": {
          "model_module": "@jupyter-widgets/controls",
          "model_module_version": "1.5.0",
          "model_name": "FloatProgressModel",
          "state": {
            "_dom_classes": [],
            "_model_module": "@jupyter-widgets/controls",
            "_model_module_version": "1.5.0",
            "_model_name": "FloatProgressModel",
            "_view_count": null,
            "_view_module": "@jupyter-widgets/controls",
            "_view_module_version": "1.5.0",
            "_view_name": "ProgressView",
            "bar_style": "success",
            "description": "",
            "description_tooltip": null,
            "layout": "IPY_MODEL_7e86c22e69054684bb882f2c8d0cab2b",
            "max": 395,
            "min": 0,
            "orientation": "horizontal",
            "style": "IPY_MODEL_25028418d18d40e289dc7abf01fedc99",
            "value": 395
          }
        },
        "e19c27f417694f15a69b2b6987d0a471": {
          "model_module": "@jupyter-widgets/controls",
          "model_module_version": "1.5.0",
          "model_name": "FloatProgressModel",
          "state": {
            "_dom_classes": [],
            "_model_module": "@jupyter-widgets/controls",
            "_model_module_version": "1.5.0",
            "_model_name": "FloatProgressModel",
            "_view_count": null,
            "_view_module": "@jupyter-widgets/controls",
            "_view_module_version": "1.5.0",
            "_view_name": "ProgressView",
            "bar_style": "success",
            "description": "",
            "description_tooltip": null,
            "layout": "IPY_MODEL_3d3fc9747b1e4c7690ab770a9243ec73",
            "max": 9846,
            "min": 0,
            "orientation": "horizontal",
            "style": "IPY_MODEL_77950b7b37f144549315a8bdb763b603",
            "value": 9846
          }
        },
        "e4b978df62cd49dca6f901269fc2440c": {
          "model_module": "@jupyter-widgets/controls",
          "model_module_version": "1.5.0",
          "model_name": "ProgressStyleModel",
          "state": {
            "_model_module": "@jupyter-widgets/controls",
            "_model_module_version": "1.5.0",
            "_model_name": "ProgressStyleModel",
            "_view_count": null,
            "_view_module": "@jupyter-widgets/base",
            "_view_module_version": "1.2.0",
            "_view_name": "StyleView",
            "bar_color": null,
            "description_width": ""
          }
        },
        "e501ec8bfb59446babe057633ef46040": {
          "model_module": "@jupyter-widgets/controls",
          "model_module_version": "1.5.0",
          "model_name": "HTMLModel",
          "state": {
            "_dom_classes": [],
            "_model_module": "@jupyter-widgets/controls",
            "_model_module_version": "1.5.0",
            "_model_name": "HTMLModel",
            "_view_count": null,
            "_view_module": "@jupyter-widgets/controls",
            "_view_module_version": "1.5.0",
            "_view_name": "HTMLView",
            "description": "",
            "description_tooltip": null,
            "layout": "IPY_MODEL_34352f8edc734177a4dd5aa65e923f8e",
            "placeholder": "​",
            "style": "IPY_MODEL_fd6e9354adff4702a5d3dce8a0d1c96c",
            "value": " 20.9M/20.9M [00:00&lt;00:00, 24.0MB/s]"
          }
        },
        "e53bed3fc01b42b6b3593d53bed78eb2": {
          "model_module": "@jupyter-widgets/controls",
          "model_module_version": "1.5.0",
          "model_name": "DescriptionStyleModel",
          "state": {
            "_model_module": "@jupyter-widgets/controls",
            "_model_module_version": "1.5.0",
            "_model_name": "DescriptionStyleModel",
            "_view_count": null,
            "_view_module": "@jupyter-widgets/base",
            "_view_module_version": "1.2.0",
            "_view_name": "StyleView",
            "description_width": ""
          }
        },
        "e76d3770a00640dd8703b360dae1d88c": {
          "model_module": "@jupyter-widgets/base",
          "model_module_version": "1.2.0",
          "model_name": "LayoutModel",
          "state": {
            "_model_module": "@jupyter-widgets/base",
            "_model_module_version": "1.2.0",
            "_model_name": "LayoutModel",
            "_view_count": null,
            "_view_module": "@jupyter-widgets/base",
            "_view_module_version": "1.2.0",
            "_view_name": "LayoutView",
            "align_content": null,
            "align_items": null,
            "align_self": null,
            "border": null,
            "bottom": null,
            "display": null,
            "flex": null,
            "flex_flow": null,
            "grid_area": null,
            "grid_auto_columns": null,
            "grid_auto_flow": null,
            "grid_auto_rows": null,
            "grid_column": null,
            "grid_gap": null,
            "grid_row": null,
            "grid_template_areas": null,
            "grid_template_columns": null,
            "grid_template_rows": null,
            "height": null,
            "justify_content": null,
            "justify_items": null,
            "left": null,
            "margin": null,
            "max_height": null,
            "max_width": null,
            "min_height": null,
            "min_width": null,
            "object_fit": null,
            "object_position": null,
            "order": null,
            "overflow": null,
            "overflow_x": null,
            "overflow_y": null,
            "padding": null,
            "right": null,
            "top": null,
            "visibility": null,
            "width": null
          }
        },
        "e94d3cef53b14c54a4e4be57fc75aa4d": {
          "model_module": "@jupyter-widgets/base",
          "model_module_version": "1.2.0",
          "model_name": "LayoutModel",
          "state": {
            "_model_module": "@jupyter-widgets/base",
            "_model_module_version": "1.2.0",
            "_model_name": "LayoutModel",
            "_view_count": null,
            "_view_module": "@jupyter-widgets/base",
            "_view_module_version": "1.2.0",
            "_view_name": "LayoutView",
            "align_content": null,
            "align_items": null,
            "align_self": null,
            "border": null,
            "bottom": null,
            "display": null,
            "flex": null,
            "flex_flow": null,
            "grid_area": null,
            "grid_auto_columns": null,
            "grid_auto_flow": null,
            "grid_auto_rows": null,
            "grid_column": null,
            "grid_gap": null,
            "grid_row": null,
            "grid_template_areas": null,
            "grid_template_columns": null,
            "grid_template_rows": null,
            "height": null,
            "justify_content": null,
            "justify_items": null,
            "left": null,
            "margin": null,
            "max_height": null,
            "max_width": null,
            "min_height": null,
            "min_width": null,
            "object_fit": null,
            "object_position": null,
            "order": null,
            "overflow": null,
            "overflow_x": null,
            "overflow_y": null,
            "padding": null,
            "right": null,
            "top": null,
            "visibility": null,
            "width": null
          }
        },
        "f00bd38fd36b48fd962f0ca3c6666675": {
          "model_module": "@jupyter-widgets/controls",
          "model_module_version": "1.5.0",
          "model_name": "DescriptionStyleModel",
          "state": {
            "_model_module": "@jupyter-widgets/controls",
            "_model_module_version": "1.5.0",
            "_model_name": "DescriptionStyleModel",
            "_view_count": null,
            "_view_module": "@jupyter-widgets/base",
            "_view_module_version": "1.2.0",
            "_view_name": "StyleView",
            "description_width": ""
          }
        },
        "f888d236be5344d1aa278505be9489a5": {
          "model_module": "@jupyter-widgets/base",
          "model_module_version": "1.2.0",
          "model_name": "LayoutModel",
          "state": {
            "_model_module": "@jupyter-widgets/base",
            "_model_module_version": "1.2.0",
            "_model_name": "LayoutModel",
            "_view_count": null,
            "_view_module": "@jupyter-widgets/base",
            "_view_module_version": "1.2.0",
            "_view_name": "LayoutView",
            "align_content": null,
            "align_items": null,
            "align_self": null,
            "border": null,
            "bottom": null,
            "display": null,
            "flex": null,
            "flex_flow": null,
            "grid_area": null,
            "grid_auto_columns": null,
            "grid_auto_flow": null,
            "grid_auto_rows": null,
            "grid_column": null,
            "grid_gap": null,
            "grid_row": null,
            "grid_template_areas": null,
            "grid_template_columns": null,
            "grid_template_rows": null,
            "height": null,
            "justify_content": null,
            "justify_items": null,
            "left": null,
            "margin": null,
            "max_height": null,
            "max_width": null,
            "min_height": null,
            "min_width": null,
            "object_fit": null,
            "object_position": null,
            "order": null,
            "overflow": null,
            "overflow_x": null,
            "overflow_y": null,
            "padding": null,
            "right": null,
            "top": null,
            "visibility": null,
            "width": null
          }
        },
        "f88f8a0035a84ad7a54ca2d7de19ede4": {
          "model_module": "@jupyter-widgets/controls",
          "model_module_version": "1.5.0",
          "model_name": "HBoxModel",
          "state": {
            "_dom_classes": [],
            "_model_module": "@jupyter-widgets/controls",
            "_model_module_version": "1.5.0",
            "_model_name": "HBoxModel",
            "_view_count": null,
            "_view_module": "@jupyter-widgets/controls",
            "_view_module_version": "1.5.0",
            "_view_name": "HBoxView",
            "box_style": "",
            "children": [
              "IPY_MODEL_7f19b6f44b88420fb796d821b7aa2ea1",
              "IPY_MODEL_368b293ca59f4a769b2709621d7ae2a0",
              "IPY_MODEL_e501ec8bfb59446babe057633ef46040"
            ],
            "layout": "IPY_MODEL_e76d3770a00640dd8703b360dae1d88c"
          }
        },
        "fb99ed37249e4dd7b065cda8fc371551": {
          "model_module": "@jupyter-widgets/base",
          "model_module_version": "1.2.0",
          "model_name": "LayoutModel",
          "state": {
            "_model_module": "@jupyter-widgets/base",
            "_model_module_version": "1.2.0",
            "_model_name": "LayoutModel",
            "_view_count": null,
            "_view_module": "@jupyter-widgets/base",
            "_view_module_version": "1.2.0",
            "_view_name": "LayoutView",
            "align_content": null,
            "align_items": null,
            "align_self": null,
            "border": null,
            "bottom": null,
            "display": null,
            "flex": null,
            "flex_flow": null,
            "grid_area": null,
            "grid_auto_columns": null,
            "grid_auto_flow": null,
            "grid_auto_rows": null,
            "grid_column": null,
            "grid_gap": null,
            "grid_row": null,
            "grid_template_areas": null,
            "grid_template_columns": null,
            "grid_template_rows": null,
            "height": null,
            "justify_content": null,
            "justify_items": null,
            "left": null,
            "margin": null,
            "max_height": null,
            "max_width": null,
            "min_height": null,
            "min_width": null,
            "object_fit": null,
            "object_position": null,
            "order": null,
            "overflow": null,
            "overflow_x": null,
            "overflow_y": null,
            "padding": null,
            "right": null,
            "top": null,
            "visibility": null,
            "width": null
          }
        },
        "fd6e9354adff4702a5d3dce8a0d1c96c": {
          "model_module": "@jupyter-widgets/controls",
          "model_module_version": "1.5.0",
          "model_name": "DescriptionStyleModel",
          "state": {
            "_model_module": "@jupyter-widgets/controls",
            "_model_module_version": "1.5.0",
            "_model_name": "DescriptionStyleModel",
            "_view_count": null,
            "_view_module": "@jupyter-widgets/base",
            "_view_module_version": "1.2.0",
            "_view_name": "StyleView",
            "description_width": ""
          }
        }
      }
    }
  },
  "nbformat": 4,
  "nbformat_minor": 0
}
