{
  "cells": [
    {
      "cell_type": "markdown",
      "metadata": {
        "id": "kOlZFHdKIVOD"
      },
      "source": [
        "### Packages"
      ]
    },
    {
      "cell_type": "markdown",
      "metadata": {
        "id": "glFpk9eeIeC6"
      },
      "source": [
        "#### Install additional packages"
      ]
    },
    {
      "cell_type": "markdown",
      "metadata": {
        "id": "H-ireH0YIjZQ"
      },
      "source": [
        "#### Import packages"
      ]
    },
    {
      "cell_type": "code",
      "execution_count": 1,
      "metadata": {
        "id": "DAlNGNXKIhw1"
      },
      "outputs": [],
      "source": [
        "from datasets import load_dataset\n",
        "import pandas as pd\n",
        "from sklearn.feature_extraction.text import TfidfVectorizer\n",
        "from sklearn.cluster import KMeans\n",
        "import matplotlib.pyplot as plt\n",
        "import seaborn as sns"
      ]
    },
    {
      "cell_type": "markdown",
      "metadata": {
        "id": "TD0EbcOcItZd"
      },
      "source": [
        "### Code"
      ]
    },
    {
      "cell_type": "markdown",
      "metadata": {
        "id": "dUHZTDBtIyjp"
      },
      "source": [
        "#### Import dataset"
      ]
    },
    {
      "cell_type": "code",
      "execution_count": 2,
      "metadata": {
        "colab": {
          "base_uri": "https://localhost:8080/",
          "height": 336,
          "referenced_widgets": [
            "da743f96a8644088b9cc3e148f00ae42",
            "dc42789b89b94cc1b84f2a6569c769fd",
            "dffd6a7e61fe412caa6c46712f75f417",
            "20742a5208f84357ad523caeab7bce11",
            "08d2090f14cf46878ed8daeec54af132",
            "669dd15ce9d84be0b52690ae1c939ee1",
            "778757ae1d834c8381c0248a6a353e6e",
            "7e86c22e69054684bb882f2c8d0cab2b",
            "25028418d18d40e289dc7abf01fedc99",
            "55c535f122dc47498ffad9dab206dced",
            "5dbbf8c8285b4aefa8b8341a034298f5",
            "f88f8a0035a84ad7a54ca2d7de19ede4",
            "7f19b6f44b88420fb796d821b7aa2ea1",
            "368b293ca59f4a769b2709621d7ae2a0",
            "e501ec8bfb59446babe057633ef46040",
            "e76d3770a00640dd8703b360dae1d88c",
            "b7d8a51e0a004acfacada7db8c0330ae",
            "48e98e43a19842c19726a5a78008597d",
            "71c089c0388f4cd5999dd2cd3e80ec27",
            "e4b978df62cd49dca6f901269fc2440c",
            "34352f8edc734177a4dd5aa65e923f8e",
            "fd6e9354adff4702a5d3dce8a0d1c96c",
            "bf24977c534e4eb5b275dc9020a285b6",
            "47b4cdf77ba84c62bdd65059a70372e4",
            "8c73089943ae449784a89d444e9b7f1e",
            "a9b3b72a45c44cd59ebd4889426ae53a",
            "02e84784f9764550b000933dbc70c558",
            "ce6754f496904d22860be6525f77e6b1",
            "f00bd38fd36b48fd962f0ca3c6666675",
            "fb99ed37249e4dd7b065cda8fc371551",
            "a196791aa71f4645a2f15d096142f6ef",
            "d4c90b9a31c84c79a3897d141aab6227",
            "8f047cc89e32422dbde213f54743f401",
            "0cb82cd000a34ecaa4a24b7639bedc80",
            "877812f447fa426994de88b237dafd80",
            "e19c27f417694f15a69b2b6987d0a471",
            "5450df6b1e2448d4a587fa828f9b9d5c",
            "3f0e24d7f61c428dac396387bd9b8e1a",
            "b1731f17a6be460b9b2d436eba6ea5d9",
            "e53bed3fc01b42b6b3593d53bed78eb2",
            "3d3fc9747b1e4c7690ab770a9243ec73",
            "77950b7b37f144549315a8bdb763b603",
            "b78a508ef3a440dc9ab715095dabbf1a",
            "a8f7e29d03c74ff8a1dbd0eaa4be2b4a",
            "24ef5fc62f4f49398f60aa54b79b473b",
            "290379391e8a4488a637a759ef120052",
            "d497ff17d92243b39eed6b178f63d8f6",
            "b021ef90c2064ff4841c174a5321ed3d",
            "d8803f3537ab42a4809cfca46ad890cd",
            "13cb26101a5746e19cfd0085ac811c8c",
            "2441716ab068433dba54017a5d53c3af",
            "f888d236be5344d1aa278505be9489a5",
            "c7957c6388184c67aa30a8e47b13dc80",
            "e94d3cef53b14c54a4e4be57fc75aa4d",
            "530210ca296d477c8c75aed4536ac1af"
          ]
        },
        "id": "cq3yaglEImk2",
        "outputId": "8ae775b5-2b43-4bdb-9a2a-6971bba57f0a"
      },
      "outputs": [
        {
          "name": "stderr",
          "output_type": "stream",
          "text": [
            "Repo card metadata block was not found. Setting CardData to empty.\n"
          ]
        }
      ],
      "source": [
        "dataset = load_dataset(\"timdettmers/openassistant-guanaco\")"
      ]
    },
    {
      "cell_type": "markdown",
      "metadata": {
        "id": "MJyCym3wI1PW"
      },
      "source": [
        "#### Analysis of dataset"
      ]
    },
    {
      "cell_type": "code",
      "execution_count": 3,
      "metadata": {
        "colab": {
          "base_uri": "https://localhost:8080/"
        },
        "id": "YnloF6xlIpLM",
        "outputId": "21856a89-d64b-4336-b4a5-4b647b4c73c2"
      },
      "outputs": [
        {
          "name": "stdout",
          "output_type": "stream",
          "text": [
            "Dataset Structure:\n",
            " DatasetDict({\n",
            "    train: Dataset({\n",
            "        features: ['text'],\n",
            "        num_rows: 9846\n",
            "    })\n",
            "    test: Dataset({\n",
            "        features: ['text'],\n",
            "        num_rows: 518\n",
            "    })\n",
            "})\n",
            "\n",
            "Available Splits: dict_keys(['train', 'test'])\n"
          ]
        }
      ],
      "source": [
        "print(\"Dataset Structure:\\n\", dataset)\n",
        "print(\"\\nAvailable Splits:\", dataset.keys())"
      ]
    },
    {
      "cell_type": "code",
      "execution_count": 4,
      "metadata": {},
      "outputs": [],
      "source": [
        "train_df = pd.DataFrame(dataset['train'], columns=['text'])\n",
        "test_df = pd.DataFrame(dataset['test'], columns=['text'])"
      ]
    },
    {
      "cell_type": "code",
      "execution_count": 5,
      "metadata": {
        "id": "oPH7aNJMI48y"
      },
      "outputs": [],
      "source": [
        "df = pd.concat([train_df, test_df], axis=0)"
      ]
    },
    {
      "cell_type": "code",
      "execution_count": 6,
      "metadata": {
        "colab": {
          "base_uri": "https://localhost:8080/"
        },
        "id": "ftk-uKTZJXLz",
        "outputId": "64d871d9-ea2f-45fe-fa7d-254ef1c9fdb4"
      },
      "outputs": [
        {
          "name": "stdout",
          "output_type": "stream",
          "text": [
            "\n",
            "First few entries of the dataset:\n",
            "                                                text\n",
            "0  ### Human: Can you write a short introduction ...\n",
            "1  ### Human: ¿CUales son las etapas del desarrol...\n",
            "2  ### Human: Can you explain contrastive learnin...\n",
            "3  ### Human: I want to start doing astrophotogra...\n",
            "4  ### Human: Método del Perceptrón biclásico: de...\n"
          ]
        }
      ],
      "source": [
        "print(\"\\nFirst few entries of the dataset:\")\n",
        "print(df.head())"
      ]
    },
    {
      "cell_type": "markdown",
      "metadata": {},
      "source": [
        "##### Example of Human - Assistant Interaction"
      ]
    },
    {
      "cell_type": "code",
      "execution_count": 7,
      "metadata": {},
      "outputs": [
        {
          "data": {
            "text/plain": [
              "['',\n",
              " ' Human: Can you write a short introduction about the relevance of the term \"monopsony\" in economics? Please use examples related to potential monopsonies in the labour market and cite relevant research.',\n",
              " ' Assistant: \"Monopsony\" refers to a market structure where there is only one buyer for a particular good or service. In economics, this term is particularly relevant in the labor market, where a monopsony employer has significant power over the wages and working conditions of their employees. The presence of a monopsony can result in lower wages and reduced employment opportunities for workers, as the employer has little incentive to increase wages or provide better working conditions.\\n\\nRecent research has identified potential monopsonies in industries such as retail and fast food, where a few large companies control a significant portion of the market (Bivens & Mishel, 2013). In these industries, workers often face low wages, limited benefits, and reduced bargaining power, leading to a situation where they are dependent on the employer for their livelihood. This dependence can result in further suppression of wages and a decline in working conditions.\\n\\nOverall, the concept of monopsony is essential to understanding the dynamics of labor markets and the impact of market power on workers. Further research is needed to understand the extent and impact of monopsonies on the economy and to develop policies to address this issue.\\n\\nReferences:\\nBivens, J., & Mishel, L. (2013). The Pay of Corporate Executives and Financial Professionals as Evidence of Rents in Top 1 Percent Incomes. Journal of Economic Perspectives, 27(3), 57-78.',\n",
              " ' Human: Now explain it to a dog']"
            ]
          },
          "execution_count": 7,
          "metadata": {},
          "output_type": "execute_result"
        }
      ],
      "source": [
        "df.iloc[0]['text'].split(\"###\")"
      ]
    },
    {
      "cell_type": "markdown",
      "metadata": {},
      "source": [
        "##### Sentence length analysis"
      ]
    },
    {
      "cell_type": "code",
      "execution_count": 8,
      "metadata": {
        "colab": {
          "base_uri": "https://localhost:8080/",
          "height": 564
        },
        "id": "BhG3gK1YJbAv",
        "outputId": "3662c137-1369-4e71-eefc-f67b84318fd7"
      },
      "outputs": [
        {
          "data": {
            "image/png": "[encoded data removed]",
            "text/plain": [
              "<Figure size 1000x600 with 1 Axes>"
            ]
          },
          "metadata": {},
          "output_type": "display_data"
        }
      ],
      "source": [
        "df['token_length'] = df['text'].apply(lambda x: len(x.split()))\n",
        "plt.figure(figsize=(10, 6))\n",
        "sns.histplot(df['token_length'], bins=30, kde=True)\n",
        "plt.title('Sentence Length Distribution')\n",
        "plt.xlabel('Number of Tokens')\n",
        "plt.ylabel('Frequency')\n",
        "plt.show()"
      ]
    },
    {
      "cell_type": "code",
      "execution_count": 9,
      "metadata": {},
      "outputs": [
        {
          "name": "stdout",
          "output_type": "stream",
          "text": [
            "Minimum Length: 5\n",
            "Maximum Length: 2041\n",
            "Average Length: 226.36896950984175\n"
          ]
        }
      ],
      "source": [
        "min_length = df['token_length'].min()\n",
        "max_length = df['token_length'].max()\n",
        "avg_length = df['token_length'].mean()\n",
        "\n",
        "print(f\"Minimum Length: {min_length}\")\n",
        "print(f\"Maximum Length: {max_length}\")\n",
        "print(f\"Average Length: {avg_length}\")"
      ]
    },
    {
      "cell_type": "markdown",
      "metadata": {},
      "source": [
        "#### Search Engine"
      ]
    },
    {
      "cell_type": "code",
      "execution_count": 36,
      "metadata": {},
      "outputs": [
        {
          "name": "stderr",
          "output_type": "stream",
          "text": [
            "PyTerrier 0.10.0 has loaded Terrier 5.8 (built by craigm on 2023-11-01 18:05) and terrier-helper 0.0.8\n",
            "\n"
          ]
        }
      ],
      "source": [
        "import pyterrier as pt\n",
        "\n",
        "if not pt.started():\n",
        "    pt.init()"
      ]
    },
    {
      "cell_type": "code",
      "execution_count": 37,
      "metadata": {},
      "outputs": [],
      "source": [
        "df[\"docno\"] = [str(i) for i in range(1, len(df) + 1)]"
      ]
    },
    {
      "cell_type": "code",
      "execution_count": 38,
      "metadata": {},
      "outputs": [
        {
          "name": "stdout",
          "output_type": "stream",
          "text": [
            "<class 'pandas.core.frame.DataFrame'>\n",
            "Index: 10364 entries, 0 to 517\n",
            "Data columns (total 3 columns):\n",
            " #   Column        Non-Null Count  Dtype \n",
            "---  ------        --------------  ----- \n",
            " 0   text          10364 non-null  object\n",
            " 1   token_length  10364 non-null  int64 \n",
            " 2   docno         10364 non-null  object\n",
            "dtypes: int64(1), object(2)\n",
            "memory usage: 581.9+ KB\n"
          ]
        }
      ],
      "source": [
        "df.info()"
      ]
    },
    {
      "cell_type": "code",
      "execution_count": 39,
      "metadata": {},
      "outputs": [
        {
          "name": "stdout",
          "output_type": "stream",
          "text": [
            "10:23:47.649 [main] ERROR org.terrier.structures.indexing.Indexer - Could not rename index\n",
            "java.io.IOException: Rename of index structure file 'c:\\Users\\filip\\Desktop\\NLP-project\\local\\index/data_1.direct.bf' (exists) to 'c:\\Users\\filip\\Desktop\\NLP-project\\local\\index/data.direct.bf' (exists) failed - likely that source file is still open. Possible indexing bug?\n",
            "\tat org.terrier.structures.IndexUtil.renameIndex(IndexUtil.java:379)\n",
            "\tat org.terrier.structures.indexing.Indexer.index(Indexer.java:388)\n",
            "\tat org.terrier.structures.indexing.Indexer.index(Indexer.java:355)\n"
          ]
        },
        {
          "data": {
            "text/plain": [
              "'c:\\\\Users\\\\filip\\\\Desktop\\\\NLP-project\\\\local\\\\index/data.properties'"
            ]
          },
          "execution_count": 39,
          "metadata": {},
          "output_type": "execute_result"
        }
      ],
      "source": [
        "indexer = pt.DFIndexer(\n",
        "    \"c:\\\\Users\\\\filip\\\\Desktop\\\\NLP-project\\\\local\\\\index\", overwrite=True\n",
        ")\n",
        "index_ref = indexer.index(df[\"text\"], df[\"docno\"])\n",
        "index_ref.toString()"
      ]
    },
    {
      "cell_type": "code",
      "execution_count": 40,
      "metadata": {},
      "outputs": [
        {
          "name": "stdout",
          "output_type": "stream",
          "text": [
            "Number of documents: 9846\n",
            "Number of terms: 72009\n",
            "Number of postings: 780518\n",
            "Number of fields: 0\n",
            "Number of tokens: 1510591\n",
            "Field names: []\n",
            "Positions:   false\n",
            "\n"
          ]
        }
      ],
      "source": [
        "index = pt.IndexFactory.of(index_ref)\n",
        "print(index.getCollectionStatistics().toString())"
      ]
    },
    {
      "cell_type": "code",
      "execution_count": 43,
      "metadata": {},
      "outputs": [
        {
          "data": {
            "text/html": [
              "<div>\n",
              "<style scoped>\n",
              "    .dataframe tbody tr th:only-of-type {\n",
              "        vertical-align: middle;\n",
              "    }\n",
              "\n",
              "    .dataframe tbody tr th {\n",
              "        vertical-align: top;\n",
              "    }\n",
              "\n",
              "    .dataframe thead th {\n",
              "        text-align: right;\n",
              "    }\n",
              "</style>\n",
              "<table border=\"1\" class=\"dataframe\">\n",
              "  <thead>\n",
              "    <tr style=\"text-align: right;\">\n",
              "      <th></th>\n",
              "      <th>qid</th>\n",
              "      <th>docid</th>\n",
              "      <th>docno</th>\n",
              "      <th>rank</th>\n",
              "      <th>score</th>\n",
              "      <th>query</th>\n",
              "    </tr>\n",
              "  </thead>\n",
              "  <tbody>\n",
              "    <tr>\n",
              "      <th>0</th>\n",
              "      <td>1</td>\n",
              "      <td>5945</td>\n",
              "      <td>5946</td>\n",
              "      <td>0</td>\n",
              "      <td>-2.890922</td>\n",
              "      <td>human</td>\n",
              "    </tr>\n",
              "    <tr>\n",
              "      <th>1</th>\n",
              "      <td>1</td>\n",
              "      <td>2133</td>\n",
              "      <td>2134</td>\n",
              "      <td>1</td>\n",
              "      <td>-3.129350</td>\n",
              "      <td>human</td>\n",
              "    </tr>\n",
              "    <tr>\n",
              "      <th>2</th>\n",
              "      <td>1</td>\n",
              "      <td>6641</td>\n",
              "      <td>6642</td>\n",
              "      <td>2</td>\n",
              "      <td>-3.525259</td>\n",
              "      <td>human</td>\n",
              "    </tr>\n",
              "    <tr>\n",
              "      <th>3</th>\n",
              "      <td>1</td>\n",
              "      <td>5300</td>\n",
              "      <td>5301</td>\n",
              "      <td>3</td>\n",
              "      <td>-3.546290</td>\n",
              "      <td>human</td>\n",
              "    </tr>\n",
              "    <tr>\n",
              "      <th>4</th>\n",
              "      <td>1</td>\n",
              "      <td>6720</td>\n",
              "      <td>6721</td>\n",
              "      <td>4</td>\n",
              "      <td>-4.752952</td>\n",
              "      <td>human</td>\n",
              "    </tr>\n",
              "    <tr>\n",
              "      <th>5</th>\n",
              "      <td>1</td>\n",
              "      <td>6437</td>\n",
              "      <td>6438</td>\n",
              "      <td>5</td>\n",
              "      <td>-4.808486</td>\n",
              "      <td>human</td>\n",
              "    </tr>\n",
              "    <tr>\n",
              "      <th>6</th>\n",
              "      <td>1</td>\n",
              "      <td>1666</td>\n",
              "      <td>1667</td>\n",
              "      <td>6</td>\n",
              "      <td>-4.812812</td>\n",
              "      <td>human</td>\n",
              "    </tr>\n",
              "    <tr>\n",
              "      <th>7</th>\n",
              "      <td>1</td>\n",
              "      <td>5737</td>\n",
              "      <td>5738</td>\n",
              "      <td>7</td>\n",
              "      <td>-5.015863</td>\n",
              "      <td>human</td>\n",
              "    </tr>\n",
              "    <tr>\n",
              "      <th>8</th>\n",
              "      <td>1</td>\n",
              "      <td>2007</td>\n",
              "      <td>2008</td>\n",
              "      <td>8</td>\n",
              "      <td>-5.186039</td>\n",
              "      <td>human</td>\n",
              "    </tr>\n",
              "    <tr>\n",
              "      <th>9</th>\n",
              "      <td>1</td>\n",
              "      <td>453</td>\n",
              "      <td>454</td>\n",
              "      <td>9</td>\n",
              "      <td>-5.325420</td>\n",
              "      <td>human</td>\n",
              "    </tr>\n",
              "  </tbody>\n",
              "</table>\n",
              "</div>"
            ],
            "text/plain": [
              "  qid  docid docno  rank     score  query\n",
              "0   1   5945  5946     0 -2.890922  human\n",
              "1   1   2133  2134     1 -3.129350  human\n",
              "2   1   6641  6642     2 -3.525259  human\n",
              "3   1   5300  5301     3 -3.546290  human\n",
              "4   1   6720  6721     4 -4.752952  human\n",
              "5   1   6437  6438     5 -4.808486  human\n",
              "6   1   1666  1667     6 -4.812812  human\n",
              "7   1   5737  5738     7 -5.015863  human\n",
              "8   1   2007  2008     8 -5.186039  human\n",
              "9   1    453   454     9 -5.325420  human"
            ]
          },
          "execution_count": 43,
          "metadata": {},
          "output_type": "execute_result"
        }
      ],
      "source": [
        "query = \"human\"\n",
        "\n",
        "bm25 = pt.BatchRetrieve(index, wmodel=\"BM25\")\n",
        "bm25.search(query).head(10)"
      ]
    },
    {
      "cell_type": "code",
      "execution_count": 44,
      "metadata": {},
      "outputs": [],
      "source": [
        "tf = pt.BatchRetrieve(index, wmodel=\"Tf\")\n",
        "tf_idf = pt.BatchRetrieve(index, wmodel=\"TF_IDF\")\n",
        "bm25 = pt.BatchRetrieve(index, wmodel=\"BM25\")"
      ]
    },
    {
      "cell_type": "code",
      "execution_count": 45,
      "metadata": {},
      "outputs": [],
      "source": [
        "query = \"human\""
      ]
    },
    {
      "cell_type": "code",
      "execution_count": 46,
      "metadata": {},
      "outputs": [
        {
          "data": {
            "text/html": [
              "<div>\n",
              "<style scoped>\n",
              "    .dataframe tbody tr th:only-of-type {\n",
              "        vertical-align: middle;\n",
              "    }\n",
              "\n",
              "    .dataframe tbody tr th {\n",
              "        vertical-align: top;\n",
              "    }\n",
              "\n",
              "    .dataframe thead th {\n",
              "        text-align: right;\n",
              "    }\n",
              "</style>\n",
              "<table border=\"1\" class=\"dataframe\">\n",
              "  <thead>\n",
              "    <tr style=\"text-align: right;\">\n",
              "      <th></th>\n",
              "      <th>qid</th>\n",
              "      <th>docid</th>\n",
              "      <th>docno</th>\n",
              "      <th>rank</th>\n",
              "      <th>score</th>\n",
              "      <th>query</th>\n",
              "    </tr>\n",
              "  </thead>\n",
              "  <tbody>\n",
              "    <tr>\n",
              "      <th>0</th>\n",
              "      <td>1</td>\n",
              "      <td>9147</td>\n",
              "      <td>9148</td>\n",
              "      <td>0</td>\n",
              "      <td>-27.160125</td>\n",
              "      <td>human</td>\n",
              "    </tr>\n",
              "    <tr>\n",
              "      <th>1</th>\n",
              "      <td>1</td>\n",
              "      <td>7724</td>\n",
              "      <td>7725</td>\n",
              "      <td>1</td>\n",
              "      <td>-27.283554</td>\n",
              "      <td>human</td>\n",
              "    </tr>\n",
              "    <tr>\n",
              "      <th>2</th>\n",
              "      <td>1</td>\n",
              "      <td>3164</td>\n",
              "      <td>3165</td>\n",
              "      <td>2</td>\n",
              "      <td>-27.594494</td>\n",
              "      <td>human</td>\n",
              "    </tr>\n",
              "    <tr>\n",
              "      <th>3</th>\n",
              "      <td>1</td>\n",
              "      <td>7960</td>\n",
              "      <td>7961</td>\n",
              "      <td>3</td>\n",
              "      <td>-27.778384</td>\n",
              "      <td>human</td>\n",
              "    </tr>\n",
              "    <tr>\n",
              "      <th>4</th>\n",
              "      <td>1</td>\n",
              "      <td>5060</td>\n",
              "      <td>5061</td>\n",
              "      <td>4</td>\n",
              "      <td>-28.059306</td>\n",
              "      <td>human</td>\n",
              "    </tr>\n",
              "    <tr>\n",
              "      <th>5</th>\n",
              "      <td>1</td>\n",
              "      <td>3280</td>\n",
              "      <td>3281</td>\n",
              "      <td>5</td>\n",
              "      <td>-28.150289</td>\n",
              "      <td>human</td>\n",
              "    </tr>\n",
              "    <tr>\n",
              "      <th>6</th>\n",
              "      <td>1</td>\n",
              "      <td>7797</td>\n",
              "      <td>7798</td>\n",
              "      <td>6</td>\n",
              "      <td>-28.554583</td>\n",
              "      <td>human</td>\n",
              "    </tr>\n",
              "    <tr>\n",
              "      <th>7</th>\n",
              "      <td>1</td>\n",
              "      <td>5410</td>\n",
              "      <td>5411</td>\n",
              "      <td>7</td>\n",
              "      <td>-28.636178</td>\n",
              "      <td>human</td>\n",
              "    </tr>\n",
              "    <tr>\n",
              "      <th>8</th>\n",
              "      <td>1</td>\n",
              "      <td>2745</td>\n",
              "      <td>2746</td>\n",
              "      <td>8</td>\n",
              "      <td>-28.722427</td>\n",
              "      <td>human</td>\n",
              "    </tr>\n",
              "    <tr>\n",
              "      <th>9</th>\n",
              "      <td>1</td>\n",
              "      <td>3217</td>\n",
              "      <td>3218</td>\n",
              "      <td>9</td>\n",
              "      <td>-28.724063</td>\n",
              "      <td>human</td>\n",
              "    </tr>\n",
              "    <tr>\n",
              "      <th>10</th>\n",
              "      <td>1</td>\n",
              "      <td>3428</td>\n",
              "      <td>3429</td>\n",
              "      <td>10</td>\n",
              "      <td>-28.726774</td>\n",
              "      <td>human</td>\n",
              "    </tr>\n",
              "    <tr>\n",
              "      <th>11</th>\n",
              "      <td>1</td>\n",
              "      <td>3621</td>\n",
              "      <td>3622</td>\n",
              "      <td>11</td>\n",
              "      <td>-28.753410</td>\n",
              "      <td>human</td>\n",
              "    </tr>\n",
              "    <tr>\n",
              "      <th>12</th>\n",
              "      <td>1</td>\n",
              "      <td>4932</td>\n",
              "      <td>4933</td>\n",
              "      <td>12</td>\n",
              "      <td>-28.765388</td>\n",
              "      <td>human</td>\n",
              "    </tr>\n",
              "    <tr>\n",
              "      <th>13</th>\n",
              "      <td>1</td>\n",
              "      <td>4874</td>\n",
              "      <td>4875</td>\n",
              "      <td>13</td>\n",
              "      <td>-28.815166</td>\n",
              "      <td>human</td>\n",
              "    </tr>\n",
              "    <tr>\n",
              "      <th>14</th>\n",
              "      <td>1</td>\n",
              "      <td>9720</td>\n",
              "      <td>9721</td>\n",
              "      <td>14</td>\n",
              "      <td>-28.820342</td>\n",
              "      <td>human</td>\n",
              "    </tr>\n",
              "    <tr>\n",
              "      <th>15</th>\n",
              "      <td>1</td>\n",
              "      <td>3821</td>\n",
              "      <td>3822</td>\n",
              "      <td>15</td>\n",
              "      <td>-28.901359</td>\n",
              "      <td>human</td>\n",
              "    </tr>\n",
              "    <tr>\n",
              "      <th>16</th>\n",
              "      <td>1</td>\n",
              "      <td>2417</td>\n",
              "      <td>2418</td>\n",
              "      <td>16</td>\n",
              "      <td>-29.306833</td>\n",
              "      <td>human</td>\n",
              "    </tr>\n",
              "  </tbody>\n",
              "</table>\n",
              "</div>"
            ],
            "text/plain": [
              "   qid  docid docno  rank      score  query\n",
              "0    1   9147  9148     0 -27.160125  human\n",
              "1    1   7724  7725     1 -27.283554  human\n",
              "2    1   3164  3165     2 -27.594494  human\n",
              "3    1   7960  7961     3 -27.778384  human\n",
              "4    1   5060  5061     4 -28.059306  human\n",
              "5    1   3280  3281     5 -28.150289  human\n",
              "6    1   7797  7798     6 -28.554583  human\n",
              "7    1   5410  5411     7 -28.636178  human\n",
              "8    1   2745  2746     8 -28.722427  human\n",
              "9    1   3217  3218     9 -28.724063  human\n",
              "10   1   3428  3429    10 -28.726774  human\n",
              "11   1   3621  3622    11 -28.753410  human\n",
              "12   1   4932  4933    12 -28.765388  human\n",
              "13   1   4874  4875    13 -28.815166  human\n",
              "14   1   9720  9721    14 -28.820342  human\n",
              "15   1   3821  3822    15 -28.901359  human\n",
              "16   1   2417  2418    16 -29.306833  human"
            ]
          },
          "execution_count": 46,
          "metadata": {},
          "output_type": "execute_result"
        }
      ],
      "source": [
        "pipeline = ((tf % 10) | (tf_idf % 10)) >> bm25\n",
        "\n",
        "pipeline.search(query)"
      ]
    },
    {
      "cell_type": "markdown",
      "metadata": {},
      "source": [
        "#### Vectorization"
      ]
    },
    {
      "cell_type": "code",
      "execution_count": 48,
      "metadata": {},
      "outputs": [],
      "source": [
        "from sklearn.feature_extraction.text import CountVectorizer"
      ]
    },
    {
      "cell_type": "code",
      "execution_count": 49,
      "metadata": {},
      "outputs": [
        {
          "data": {
            "text/plain": [
              "160045"
            ]
          },
          "execution_count": 49,
          "metadata": {},
          "output_type": "execute_result"
        }
      ],
      "source": [
        "vectorizer = CountVectorizer()\n",
        "vectorizer.fit(df[\"text\"])\n",
        "len(vectorizer.get_feature_names_out())"
      ]
    },
    {
      "cell_type": "code",
      "execution_count": 50,
      "metadata": {},
      "outputs": [
        {
          "name": "stderr",
          "output_type": "stream",
          "text": [
            "[nltk_data] Downloading package stopwords to\n",
            "[nltk_data]     C:\\Users\\filip\\AppData\\Roaming\\nltk_data...\n",
            "[nltk_data]   Package stopwords is already up-to-date!\n"
          ]
        }
      ],
      "source": [
        "import nltk\n",
        "\n",
        "# Download stop words from NLTK for the languages you are interested in.\n",
        "nltk.download(\"stopwords\")\n",
        "from nltk.corpus import stopwords\n",
        "\n",
        "english_stop_words = set(stopwords.words(\"english\"))\n",
        "spanish_stop_words = set(stopwords.words(\"spanish\"))\n",
        "\n",
        "# Combine the stop words sets.\n",
        "combined_stop_words = english_stop_words.union(spanish_stop_words)\n",
        "combined_stop_words = list(combined_stop_words)"
      ]
    },
    {
      "cell_type": "code",
      "execution_count": 51,
      "metadata": {},
      "outputs": [
        {
          "data": {
            "text/plain": [
              "16801"
            ]
          },
          "execution_count": 51,
          "metadata": {},
          "output_type": "execute_result"
        }
      ],
      "source": [
        "vectorizer = CountVectorizer(min_df=8, stop_words=combined_stop_words)\n",
        "X = vectorizer.fit_transform(df[\"text\"])\n",
        "len(vectorizer.get_feature_names_out())"
      ]
    },
    {
      "cell_type": "code",
      "execution_count": 52,
      "metadata": {},
      "outputs": [
        {
          "name": "stdout",
          "output_type": "stream",
          "text": [
            "00 000 01 02 03 04 05 06 07 08 09 10 100 1000 10000 100g 101 1024 105 107 108 10px 11 110 111 114 118 12 120 1200 122 123 125 127 128 13 130 14 140 145 149 15 150 1500 16 160 163 165 16th 17 170 175 1789 17th 18 180 1800 1810 1812 1868 1871 1879 18th 19 190 1900 1901 1905 1914 1916 1917 1918 1920 1922 1928 1930 1930s 1931 1932 1933 1935 1936 1937 1938 1939 1940 1941 1942 1945 1946 1947 1950 1950s 1951 1952 1953 1954 1955 1957 1958 1960 1960s 1961 1962 1963 1964 1965 1966 1968 1969 1970 1970s 1971 1972 1973 1974 1975 1976 1977 1978 1979 1980 1980s 1981 1982 1983 1984 1985 1986 1987 1988 1989 1990 1990s 1991 1992 1993 1994 1995 1996 1997 1998 1999 19th 1px 20 200 2000 2000s 2001 2002 2003 2004 2005 2006 2007 2008 2009 2010 2011 2012 2013 2014 2015 2016 2017 2018 2019 2020 2021 2022 2023 2024 20px 20th 21 22 220 23 24 25 250 255 256 26 27 270 28 29 299 2a 2d 2nd 2x 30 300 3000 31 32 33 333 34 35 350 36 360 365 366 37 375 38 39 3d 3x 40 400 4000 41 42 43 44 440 443 45 450 458 46 47 48 49 4ac 4k 50 500 5000 51 512 52 53 54 55 56 57 58 59 5g 5th 60 600 61 62 63 64 640 65 66 67 68 69 70 700 71 72 73 74 75 76 77 78 79 792 80 800 8080 81 82 83 84 85 86 87 88 89 8k 90 900 91 92 93 94 95 96 97 98 99 __ ___ __init__ __main__ __name__ a1 a2 ab abajo abandonar abandoned abans abarca abc abdomen aber abhängig abierta abierto abiertos abilities ability able abogado aborda abordar abra abre abril abrir abrirlo abrió abroad abs absence absoluta absolute absolutely absoluto absorb absorbe absorbed absorber absorción absorption abstracción abstract abstracto abundance abundant abundante abuse abuso ac acaba acabar acabas acabo academia academic academy académico acaso acceder accelerate accelerating acceleration accent accept acceptable acceptance accepted accesibilidad accesible accesibles acceso accesorios access accessed accessibility accessible accessing accident accidentally accidente accidentes accidents acciones acción accommodate accompanied accompany accomplish accomplishments according accordingly account accountability accountable accounting accounts accuracy accurate accurately accused aceite aceitunas aceleración acelerado acelerar acepta aceptable aceptación aceptada aceptar acerca acercarse acercó acero acesso achievable achieve achieved achievements achieving achten acid acids acknowledge aclarar acogedora aconseguir acontecimientos acorde acordes acordo acquire acquired acquiring across act acted acting action actions actitud activa activar activate activated activation active actively actividad actividades activitat activitats activities activity activité activo activos acto actor actores actors actos acts actual actuales actualidad actualiza actualizaciones actualización actualizada actualizado actualizar actually actualment actualmente actuar actuellement actúa actúan actúes acudir acuerdo acumulación ad ada adam adams adapt adapta adaptability adaptación adaptar adaptarse adaptation adaptations adapte adapted adapten adapter adapting adaptive add added addeventlistener adding addition additional additionally address addressed addresses addressing adds adecuada adecuadamente adecuadas adecuado adecuados adelante ademas además adequada adequate adhere adicional adicionales adjacent adjust adjusted adjusting adjustments administración administrar administration adn adobe adolescente adolf adopción adopt adoptado adoptar adopted adopting adoption adquirir ads adult adulta adulto adultos adults advance advanced advancement advancements advances advancing advantage advantages advent adventure adventures adventurous adversas adversity advertisements advertising advice advisable advise advised advisor advocate advocates advocating af afecta afectada afectado afectados afectan afectando afectar afecto affairs affect affected affecting affection affects afford affordable afin afirmaciones afirmación afirmar afraid africa african afrontar aftermath afternoon afterwards agafar age aged agencia agencies agency agenda agent agente agentes agents ages aggression aggressive agi agility aging agit ago agora agosto agrada agradable agradaria agradecido agradezco agrado agree agreed agreement agreements agrega agregando agregar agregue agricultura agricultural agriculture agrupar agua aguacate agujero agujeros ah ahead ahora ahorrar ahorro ahí ai aid aide aider aids aigua aim aime aimed aimerais aims ainda ainsi air aircraft aire aires airflow airplane airplanes ait així això ajedrez ajo ajuda ajudar ajudá ajusta ajustado ajustar ajuste ajusten ajustes aktuellen alan alarm alas albania alberga albert alberto album alcance alcanza alcanzables alcanzado alcanzar alchemist alcohol alcune alcuni ale aleatoria aleatorio aleatorios alegra alegre alegría alejandro alemania alemán alert alerta alex alexa alexander alfabeto alfabéticamente algebra algebraic algebraica algorithm algorithms algoritmo algoritmos alguien algum alguma algumas algun alguna algunes alguno alguns algún aliados alice alien aliens align aligned alignment aligns alike alimentación alimentar alimentaria alimento alimentos alive aliviar alla alle allem allen aller allerdings alles alleviate allez allgemeinen alliances allies allocate allocation allow allowed allowing allows allá allí alma almacena almacenamiento almacenan almacenar almendras almond almost almuerzo alojamiento alone along alongside alors alpha alphabet alquilar alquiler already alrededor alright als also alt alta altamente altas alter alterar altered altering alternate alternating alternativa alternativas alternative alternatively alternatives although altitude alto altogether altos altra altre altres altri altura aluminio alumnos always alzheimer além ama amabilidad amable amantes amarillo amasa amazing amazon amb ambas ambient ambiental ambientales ambiente ambientes ambitious ambos amd amenaza amenazas america american americano americans ami amics amiga amigable amigo amigos amistad amo among amor amount amounts ampla ample amplia ampliamente ampliar amplio améliorer américa ana analiza analizar analyse analysis analytical analytics analyze analyzing anar anatomy ancestors anche ancho anciano ancient ancora andar andere anderem anderen anders andes andorra andrew android anforderungen angela angepasst anger anglais angle angles angry angular anillo anillos animaciones animación animado animados animais animal animales animals animated animation animations anime animes anleitung anna announced années anomenada anonymous anos another anpassen ans anschließend ansiedad answer answered answering answers antecedentes anterior anteriores anteriormente anti anticipación antics antigua antiguas antiguo antiguos antique antivirus antonio antwort antworten anual anuncios anwendung anwendungen anxiety anymore anyone anys anything anyway anywhere anzahl análisis ao aos apa apache apaga apagar aparece aparecen aparecer apareció aparente aparezca aparición apariencia apart aparte apartment apenas apertura api apis aplica aplicable aplicaciones aplicacions aplicación aplican aplicar aplicarse apocalyptic apollo apologies apologize aportar aporte apoyar apoyo app appeal appealing appear appearance appeared appears append appetite apple apples appliances applicable application applications applied applies apply applying appointment appreciate appreciated appreciation apprendre approach approached approaches appropriate appropriately approval approved approximate approximately approximation apps apreciar aprenda aprende aprender aprendido aprendiendo aprendizaje aprendió aprendre april aprobación apropiada apropiado aprovecha aprovechar aproximada aproximadament aproximadamente aproximado après apt apto aquatic aquel aquell aquella aquellas aquello aquellos aquest aquesta aquestes aquests aqui aquí ar ara arbeit arbitrary arbres arc arch architecture architectures archivo archivos arco arctic arduino area areas arena argentina argentino args argue argued argues argument argumentan argumento argumentos arguments arise arises aristóteles arithmetic arm arma armado armar armas armenia armonía armor arms armstrong army aroma around arquitectura arr arrangement array arrays arriba arribar arrival arrive arrived arrives arrow arrows arroz art arte arten arterial artes arthur article articles artifacts artificial artificiales artist artista artistas artistic artists arts artículo artículos artística ascending ascii asegura asegurar asegurarnos asegurarse asegurarte asegúrate asegúrese asequible asequibles asesinato asesoramiento asi asia asian aside asigna asignar asimismo asimov asistencia asistente asistentes asistir ask asked asking asks asleep asocia asociación asociadas asociado asociados aspect aspecto aspectos aspects assembly assert assess assessment asset assets assign assigned assignment assim assist assistance assistant assistants assisting associate associated association assume assumed assumes assuming assumption assumptions assurer assurez asteroid astronomy astronómica asumir asunto asustado async así atacar ataque ataques atardecer ate atención atentamente atlantic atmosfera atmosphere atmospheric atmósfera atom atomic atoms atp atracción atractiva atractivas atractivo atractivos atrae atraer através atributos atrás attach attached attack attacked attackers attacking attacks atteindre attempt attempted attempting attempts attend attending attention attitude attract attracted attraction attractions attractive attraverso attribute attributed attributes até atún au auch aucune audience audiences audiencia audio auf aufgabe aufgrund auge augment augmented augmenter august aumenta aumentado aumentan aumentando aumentar aumento aun aunque auprès aura aurait aus ausencia ausführen ausgabe ausreichend aussehen aussi australia australian austria auswirkungen autenticación authentic authenticate authentication authenticity author authorities authority authorization authors auto autobuses autobús autoestima automate automated automatic automatically automating automation automatisch automatización automatizar automática automáticamente automático automóvil automóviles autonomia autonomous autonomy autonomía autor autores autoridad autoridades autos autour autre autres auténtico autónoma autónomos aux außerdem availability available avais avait avance avances avant avanza avanzada avanzadas avanzado avanzados avanzando avanzar avatar ave avec avena aventura aventuras aventures average avere aves avez aviation avión avocado avoid avoided avoiding avoids avoir avui await awarded awards aware awareness away awe awesome awkward aws ax axis ayant ayer ayuda ayudado ayudan ayudando ayudar ayudarle ayudarlo ayudarme ayudarnos ayudarte ayudará ayudarán ayude ayuden ayúdame az azar azul azules azúcar azúcares añade añadir año años aún b1 b2 ba baby back backed backend background backgrounds backstory backup backward bacon bacteria bacterial bacterias bad bag bahamas baina baja bajar bajas bajo bajos bake baked baking balance balanced balances balancing ball balls ban banana bananas banco band banda bandas bandeja bandera bands bandwidth bang bank banking banks banned bar barato barbados barbuda barcelona barco bares bargaining barra barrera barrier barriers barrio barrios bars basa basada basadas basado basados basan base baseada based bases bash basic basically basics basiert basil basis bass basta bastante basura basándose bat batalla batallas batch batch_size batches batek batería baterías bath batido batidos batir batteries battery battle battlefield battles bay baño bbc bc beach beaches beachten beans beantworten bear bearer bears beat beating beatles beats beaucoup beautiful beautifulsoup beauty beber bebida bebidas bebé became become becomes becoming bed bedeutet bedroom bedtime beef beeinflussen beeinflusst befindet began begin beginner beginners beginning begins behalf behar behave behavior behavioral behaviors behaviour behind bei beide beiden beim beings beispiel beispiele beispielsweise beitragen bekannt bekommen belgium belief beliefs believe believed believes bell bella belle belleza belonging belongs beloved bem ben bench beneath beneficial beneficio beneficios benefit benefits benötige benötigen berechnen bereich bereichen bereits berlin bernard berries bert besides besoin besoins besonders besser best beste bestehen besteht besten bestimmte bestimmten beta beträgt better bevor bewegung beyond bezeichnet bi bias biased biases bible biblia biblical biblioteca bibliotecas bicicleta bicicletas bicycle biden bien bienes bienestar bienvenido bienvenidos bieten bietet big bigger biggest bike bild bill billion billions bin binary bind binding bing biodiversidad biografía biography biological biology biología biológica biológicos bios bir bird birds birth birthday bis bishop bist bit bitcoin bite bits bitte bitter black blade blanc blanca blancas blanco blancos blank blend blender blind block blockchain blocks blog blogs blood bloque bloquear bloques blue blues bluetooth blur boa board boards boat bob boca boden bodies body bogotá boiled boiling bol bola bold bolivia bolsa bolt bom bomb bomba bon bona bonaparte bond bonds bone bones bonjour bonne book books bool boolean boost boot boots borde border bordes bordo bored boring born bosnia bosque bosques boss bot botella botones bots bottle bottom botón bought bound boundaries boundary bounds bow bowl box boxes boy bpm br braces brackets brain brains branch branches brand brands brasil brauchen braucht brave bravery brazil brazo brazos breach bread break breakdown breakfast breaking breaks breakthroughs breast breath breathe breathing breathtaking breed breeding breeds breve brevemente bridge bridges brief briefly bright brightness brillante brillantes brilliant brillo brinda brindan brindar brindarte brinde bring bringen bringing brings brisa britain british británica británico broad broader broadly broccoli broke broken bronze brother brothers brought brown browser browsers browsing bruja brush brutal brócoli bsd btc bubble bubbles bucket bucle bucles buddy budget buen buena buenas bueno buenos bug bugs build builder building buildings builds buildup built bulgaria bullet bunch bunny burden bureau burj burn burning burst bursts bus busca buscaba buscan buscando buscar buscas busco business businesses busque bustling busy butter button buttons buy buying buzz bx bypass byte bytes bzw básica básicamente básicas básico básicos bé búsqueda bạn bởi c3 ca caballero caballo cabe cabecera cabello cabeza cabin cable cables cabo cache cada cadena cadenas cae caer caesar cafeína caffeine café caja cajas cake cal calabacín calabaza calcula calcular calculate calculated calculates calculating calculation calculations calculator calcule calculus caldo calendar calendario calentamiento calentar calidad calienta caliente calientes california call calle called calles calling calls calm calma calming calor calorie calories calorías cama cambia cambiado cambian cambiando cambiantes cambiar cambie cambio cambios cambió cambridge came camera cameras caminando caminar camino camp campaign campaigns campaña campañas camping campo campos camí canada canadian canadá canal canales cancer canciones canción candidate candidates candidato canela canned cannot canon cansado cantante cantidad cantidades canto canvas canvi cap capa capabilities capability capable capaces capacidad capacidade capacidades capacitación capacitado capacitat capacity capacité capas capaz capital capitales capitalism capitalismo caps captain captivating capturar capture captured captures capturing capítulo car cara caracteres caracteriza característica características carbohidratos carbohydrates carbon carbono card cardio cardiovascular cardiovasculares cards care career careers careful carefully carga cargado cargar cargas cargo caribe caring carisma cariño carl carlos carne carnes caro carpeta carrera carreras carretera carreteras carried carries carros carrot carrots carry carrying cars carta cartas cartoon carácter cas casa casas case cases cash casi caso casos cast castellano castillo casting castle casual cat catalana catalunya català catastrophic catch catching catchy catedral categories category categoría categorías catholic cats caught causa causada causado causando causar causas cause caused causes causing caution cautious cave caves cazar caída cc cd ce cebolla cebollas cela celda celebra celebrar celebrate celebrated celeste celestes celestial cell celles cells cellular celsius celui celular celulares cena cenar censorship center centered centers centra central centrales centralized centre centro centros centuries century ceo cependant cepillo cerca cercana cercanas cercando cercano cercanos cerdo cerebral cerebro cero cerrada cerrado cerrar certain certaines certainly certains certainty certeza certificado certificate certifications certified certo cervantes cerveza ces cet cette ceux chacun chacune chain challenge challenged challenges challenging champion champions champiñones chance chances change changed changer changes changing channel channels chaos chapter chaque char character characteristic characteristics characterized characters charge charged charges charging charla charles charm charming charset chart charts chat chatbot chatbots chatgpt chats che cheap cheaper check checked checking checkout checks cheese chef chemical chemicals chemin chemistry cherry chess chest chez chi chica chicago chicken chico chief child childhood children chile chileno chili china chinese chino chip chips chiste chmod cho chocolate choice choices choisir choix choose choosing chopped chord chords chorus chose chosen choses christian christmas christopher chrome chronic chuck church ci cian ciberseguridad ciclo ciclos ciel cielo ciencia ciencias científica científicas científico científicos cierra cierre cierta ciertas cierto ciertos cifra cifras cilantro cima cinc cinco cine cinema cinnamon cinta circa circle circles circuit circuito circuitos circuits circulación circular circumstances circunstancias cita cite cities citizen citizens città city ciudad ciudadanos ciudades ciutat civil civiles civilian civilizaciones civilización civilization civilizations claim claimed claims clar clara claramente claras claridad clarification clarify clarity claro claros clase clases clash clasificación clasificar class classe classes classic classical classification classified classify clause clave claves claws clean cleaned cleaning clear clearly clever cli clic click clicking clicks client cliente clientes clients clima climate climb climbing climáticas climático climáticos clinical clock clone close closed closely closer closest closing cloth clothes clothing cloud clouds cloves club clubs clues cluster clustering clásica clásico clásicos cm cmd cnn co co2 coach coaching coal coast coastal coat coated cobertura cobre coca cocción coche coches cocida cocido cocina cocinando cocinar cocine coco coconut code codebase codecademy codes codi codificación codigo coding coefficient coeficientes coffee cognitivas cognitive coherence coherencia coherent coherente coherentes cohesive coins col cola colaboraciones colaboración colaborar cold colección colectivo collaborate collaboration collaborative collapse collapsed colleagues collect collected collecting collection collections collective college collision coloca colocar colombia colombiano colon colonial colonias colonización coloque color colored colores colorful colors colour column columna columnas columns colón com coma comando comandos combat combate combatir combien combina combinaciones combinación combinada combinan combinar combination combinations combine combined combines combining combustible combustibles combustión come comedia comedy comentario comentarios comenzando comenzar comenzaron comenzó començar comer comercial comerciales comercio comes cometer começar comfort comfortable comida comidas comienza comienzan comienzo coming command commands commas comme commence comment commentary comments commerce commercial commission commit commitment committed common commonly communauté communicate communicating communication communications communism communist communities community comodidad compact companies companion companions company compara comparable comparación comparando comparar comparativa compare compared comparing comparison comparte comparten compartido compartiendo compartir compasión compassion compatibilidad compatibility compatible compatibles compañero compañeros compañía compañías compelling compensation compete competencia competidores competing competir competition competitive competitivos competitor competitors compilación compilado compilador compilar compilation compile compiled compiler compleja complejas complejidad complejo complejos complement complementar completa completado completamente completar complete completed completely completing completion completo complex complexes complexities complexity compliance complicaciones complicadas complicado complicated complications comply compone componen component componente componentes components comporta comportamiento comportamientos comportan compose composed composición composition compositor compound compounds compra comprar compras compreensão comprehension comprehensive comprende comprender comprendre comprensible comprensión compresión compressed compression comprimir compris comprobar compromise compromiso comprueba compréhension compte compuesta compuesto compuestos computacional computación computador computadora computadoras computation computational computationally computations compute computed computer computers computes computing compétences comunes comunicaciones comunicación comunicar comunicarse comunicarte comunidad comunidades comunismo comunista comunitat comuns común comúnmente concentración concentrarse concentrarte concentration concept concepto conceptos concepts concern concerned concerning concerns concerts conciencia concisa concise conciso conclude conclusion conclusiones conclusions conclusión concreta concretas concrete concreto condiciones condición condition conditional conditions conducir conduct conducted conducting conductor conecta conectado conectados conectan conectar conectarse conectarte conectividad conejo conexiones conexión conferences confiable confiables confianza confiança confiar confidence confident config configura configuración configurado configurar configuration configurations configure configured configuring confined confirm confirmación confirmado confirmed conflict conflicto conflictos conflicts conforman conforme confrontation confused confusing confusion confusión congestion congratulations congreso conhecido conjunto conjuntos conlleva conmigo conn connect connected connecting connection connections connectivity connects conoce conocemos conocen conocer conocerte conoces conocida conocidas conocido conocidos conocimiento conocimientos conozco conquer conquest cons consciente conscientes conscious consciousness consecuencia consecuencias conseguir conseils consejero consejo consejos consenso consensus consentimiento consequences consequently conservación conservation consider considera considerable consideraciones consideración considerada consideradas considerado considerados consideran considerando considerar considerarse consideras considerate consideration considerations considere considered consideres considering considero considéré considérée consigo consigue consiste consistencia consistency consistent consistente consistently consisting consists consola consolas console consonante conspiracy const consta constancia constant constante constantemente constantes constantly constants constitucional constitución constitutes constitution constraints construcción construct constructed construction constructive constructor constructs construida construido construir construire construye construyen consult consulta consultar consultas consulte consulter consultes consulting consume consumed consumen consumer consumers consuming consumir consumo consumption contact contactar contacter contacto contactos contador contain contained container containers containing contains contaminación contaminantes contaminated contamination contar contarme contemporary contenedor contenedores contener contenga contengan contenido contenidos content contents contestar context contexto contextos contexts contextual conteúdo contiene contienen contigo continental continente continua continuació continuación continuamente continuar continuaron continue continued continues continuing continuo continuous continuously continuó continúa continúan continúe contract contracts contradiction contradictions contrario contras contraseña contraseñas contrast contraste contratar contrato contre contribuciones contribución contribuido contribuir contribute contributed contributes contributing contribution contributions contribuye control controla controlada controlado controlador controlan controlar controle controles controlled controller controllers controlling controls controversial controversy contó convencional convencionales convenience convenient conveniente convention conventions converge conversaciones conversación conversar conversation conversational conversations conversion conversión convert converted convertido converting convertir convertirse convertirte converts convey conviene convierte convierten convince convincing convirtieron convirtió convolutional conèixer cook cooked cookies cooking cool cooled cooler cooling cooperación cooperation coordinación coordinar coordinate coordinated coordinates coordination cop copa copas copia copias copied copies copper copy copying copyright coraje corazón cordillera core corea cores corner corners coro corpo corporal corporate corporation corps corpus corre corrección correct correcta correctamente correctas corrected correcting correction correctly correcto correctos corregir correo correos correr correspond corresponde correspondiente correspondientes corresponding corresponds corriendo corriente corrientes corrupción corrupt corrupted corruption corta cortadas cortado cortar cortas corte cortes corteza corto cortos cos cosa cosas coses cosmic cost costa coste costly costo costos costosa costoso costs costumbres così cotidiana cotidianas could couleur couleurs council count counter counting countless countries country counts coup couple courage course coursera courses court cout cover coverage covered covering covers covid coworkers cozy cpp cpu cpus cracking cracks craft crafted crafting crash crazy crea creación creada creado creador creadores creados cream creame creamos creamy crean creando crear creare crearon create created creates creating creation creativa creativas creative creatividad creativity creativo creator creators creature creatures crece crecer crecido creciendo creciente crecimiento credentials credit cree creen creencia creencias creer crees crema creo creus crew creía creían creó criar criatura criaturas criação crie crime crimes criminal criminals crises crisis crispy cristal cristianismo cristiano cristóbal criteria criterio criterios critical criticism criticized critics critique cronológico crop crops cross crossing crowd crucial cruel crust cruz cruzada cry cryptocurrencies cryptocurrency cryptography crystal crystals crédito créer crítica críticas crítico críticos crónicas cs css csv ctrl cuadrada cuadrado cuadrados cuadro cuadrática cuales cualidades cualquier cualquiera cuantas cuanto cuantos cuarta cuarto cuatro cuba cube cubic cubierta cubierto cubos cubre cubrir cucharada cucharadas cucharadita cuda cuello cuenta cuentan cuentas cuente cuentes cuento cuentos cuerda cuerdas cuerpo cuerpos cuesta cuestionar cuestiones cuestión cueva cui cuidado cuidados cuidadosamente cuidar cuisine culpa cultivar cultivate cultivo cultivos culto cultura cultural culturales culturas culture cultures cumpla cumple cumpleaños cumplen cumplimiento cumplir cunning cup cups cura cure curiosidad curiosidades curiosity curioso curious curl curly currency current currently curriculum curry curse curso cursor cursos curva curvatura curvature curve curves custom customer customers customizable customization customize customized customs cut cute cuts cutting cuya cuyas cuyo cuál cuáles cuándo cuánta cuántas cuántica cuántico cuánto cuántos cuéntame cv cyber cybersecurity cycle cycling cylinder czy các cách cádiz cálculo cálculos cálido cámara cámaras cáncer célula células césar círculo còn có código códigos cómo cómoda cómodo cómodos cósmica công côté của d4 d5 da dabei dada dadas dades dado dados dadurch dafür dago daher dai daily dairy daiteke dal dale dall dalla dalle damage damaged dame damit damp dan dance dancing dando danger dangerous dangers daniel dank danke dann dans dar daran darauf darin dark darker darkness darle darles darme darse darte darwin dará daré daría darüber das dass data database databases dataframe dataset datasets date datei daten dates datetime dati dating dato datos daude daughter david davon day days dazu dañar daño daños db dc dd dead deadlines deadly deal dealing deals dear death deaths deba debajo debate debated debates debe debemos deben deberá deberás debería deberíamos deberían deberías debes debian debido debilidad debilidades debo debris debt debug debugging debía decade decades december decent decentralized decide decided decides decidido decidieron deciding decidir decidió decimal decir decirle decirme decirte decision decisiones decisions decisión decisões deck declara declaración declarar declaration declare declared decline decode decoder decoración decoration decorative decrease decreased decía dedica dedicación dedicada dedicado dedicar dedicated dedication dedos deep deeper deeply def default defeat defeated defeating defecto defend defender defending defensa defense defensive define defined definen defines definición definida definidas definido definiert definimos defining definir definitely definition definitions definitiva definitivamente definitive definitively degli degree degrees dei dein deine deinem deinen deiner deity deixar deja dejado dejando dejar deje dejo dejó dela delante delay delays delete delgado deliberate delicate deliciosa delicioso delicious deliver delivered delivering delivers delivery dell della delle dels delve dem demand demanda demande demander demanding demands demasiado democracia democracy democratic democrático demographics demon demons demonstrate demonstrated demonstrates demonstrating demostrado demostrar demuestra demás den denen denial denn denomina denoted densa dense densidad density dentro departamento department departure depend depende dependen dependencia dependencias dependencies dependency dependent depender dependerá dependiendo depending depends depicted deploy deployed deploying deployment depois deporte deportes deportivo depresión depression depth depuis depuración depèn der derecha derecho derechos deriva derivada derivadas derivative derivatives derived derrotar des desafiante desafios desafío desafíos desanimes desarrolla desarrollada desarrolladas desarrollado desarrollador desarrolladores desarrollados desarrollan desarrollando desarrollar desarrollo desarrollos desarrolló desastres desayuno descansar descanso descansos descarga descargado descargar descartar descendente descending descent descobrir desconocido desconocidos desconozco describe described describen describes describing describir describo descripciones descripción description descriptions descriptive descrito descubierto descubre descubren descubriendo descubrieron descubrimiento descubrimientos descubrir descubrió desea deseada deseado desean deseas desee desees deseja desempeño desempleo desenvolupar desenvolver desenvolvimento deseo deseos desert deshalb design designed designer designers designing designs desigualdad desigualdades desirable desire desired desires desk desktop despair desperate despertar despite desplazamiento després después desses dessus destaca destacados destacan destacar destaque destination destinations destino destinos destreza destroy destroyed destrucción destruction destructive destruir desventajas det detail detailed details detallada detalladamente detalladas detallado detallados detalle detalles detección detect detectar detected detecting detection detective detener determina determinación determinada determinado determinar determination determine determined determines determining detiene detrás deu deutlich deutschen deutschland deux dev devastating deve develop developed developer developers developing development developments develops device devices devido devil devo devolver devoted devuelva devuelve df di dia diabetes diagnose diagnosis diagnostic diagnóstico diagonal dialog dialogue diameter diamond diamonds diaria diarias diario diarrea dias dibuja dibujar dibujo dibujos diccionario diccionarios dice diced dicen dices dich dicha dichas dicho dichos diciembre diciendo dick dictadura dictionary die died diego dientes dieron dies diese diesel diesem diesen dieser dieses diet dieta dietary diez diferencia diferencial diferencian diferencias diferente diferentes diferents differ difference differences different differentiate differently differs difficile difficult difficulties difficulty diffusion différence différentes différents dificultad dificultades dificultar difusión difícil difíciles dig diga digas digit digital digitales digits dignidad dijo dim dime dimension dimensional dimensiones dimensions dimensión dinamarca dinero dinge dining dinner dinosaurs dins dinámica dinámicas dinámico dio dios dioses dioxide dip diplomacy diplomatic dir dira dire direcciones dirección direct directa directamente directed directement direction directions directly directo director directorio directory direkt diren diretamente dirige dirigida dirigido dirijo dirt dirty dirígete disable disabled disabling disadvantages disagree disappeared disaster disasters disciplina disciplinas discipline disco discomfort discord discos discouraged discourse discover discovered discoveries discovering discovers discovery discriminación discrimination discurso discusión discuss discussed discusses discussing discussion discussions discutir disease diseases diseñada diseñadas diseñado diseñador diseñadores diseñados diseñar diseño diseños disfruta disfrutan disfrutando disfrutar disfruten disfrutes dish dishes disk disminución disminuir disminuye disney disorder disorders dispersa displacement display displayed displays disponibilidad disponible disponibles disponíveis disposal dispose disposición disposition dispositivo dispositivos dispuesto disrupt disruption disso dissolve distance distances distancia distancias distant distinct distinction distinctive distinguir distinguish distinta distintas distinto distintos distorted distracciones distract distracting distractions distress distribución distribuido distribuir distribute distributed distribution distributions distribuyen distópico dit ditu div diversa diversas diverse diverses diversi diversidad diversity diversión diversos divertida divertidas divertido divertidos divide divided dividen divides dividida dividido dividing dividir divine divino divisible division división diviértete diy dizer diálogo diálogos diámetro dióxido django dla dna doble dobles doc doch docker docs doctor doctors doctype document documentación documentation documented documento documentos documents doe dog dogs doi dois doit doivent dollar dollars dolor dolores dom domain domains domanda domestic domicilio dominance dominant dominante dominar dominate dominated domination domingo dominicana dominio dona donald donar donc done donne donner données dont door doors dorada doradas dorado dorados dormir dort dos dose dot double doubt dough dove download downloaded downloading downloads downsides downward doy dr draft drag dragon dragons drain drained drama dramatic draw drawbacks drawing drawn draws dream dreaming dreams drei dress dressed dressing drew dried drink drinking drinks drive driven driver drivers drives driving drogas drones drop dropped drops drug drugs drum drunk dry dt du duas dubai duda dudas dude dudes due duerme dues dueño dulce dulces dungeon dungeons duolingo duplicate dur dura durabilidad durability durable duración duradera duraderas duradero durant durar duration durch duro duros durée dust dut dutch dute duten duties duty dwarf dwarves dx dynamic dynamically dynamics dándole dé débil débiles década décadas déjà dépend déterminer développement développer dê día días dígitos dólares dónde dụng e4 e5 eager ear earlier earliest early earn earned ears earth earthquakes ease easier easiest easily east eastern easy eat eaten eating eau ebenfalls ecco echar echo eclipse eco ecological economia economic economics economies economy economía económica económicas económico económicos ecosistema ecosystem ecosystems ecuaciones ecuación ecuador ed edad edades edge edges edición edificio edificios edit editar editing edition editor editores editors edo eduardo educación educate education educational educativas educativo educativos edward edx ee efectiva efectivamente efectivas efectivo efectivos efecto efectos effect effective effectively effectiveness effects effet efficace efficacement efficiency efficient efficiently effizienz effort efforts eficaces eficacia eficaz eficiencia eficiente eficientes egg eggs egin egipto egiten egy egypt eigene eigenen eight ein eine einem einen einer eines einfach einfache einfluss eingabe eingesetzt einige einigen einmal einsatz einschließlich einstein either eje ejecución ejecuta ejecutado ejecutan ejecutando ejecutar ejecutará ejecute ejecutivo ejemplo ejemplos ejerce ejercicio ejercicios ejército ela elabora elaboración elaborar elaborate ele elecciones elección elected election electric electrical electricidad electricity electromagnética electron electrones electronic electronics electrons electrónica electrónico electrónicos elegant elegante elegida elegido elegidos elegir element elemental elemento elementos elements eles elevación elevada elevado elif elige elija elijas elimina eliminación eliminar eliminate eliminating elle elles ello ells elon els else elsewhere eléctrica eléctricas eléctrico eléctricos em email emails eman embargo embedded embedding embora embrace emerge emerged emergencia emergencias emergency emergente emergentes emerging emisiones emisión emission emissions emit emite emiten emitted emocionado emocional emocionales emocionante emocionantes emociones emoción emojis emotion emotional emotionally emotions empathy empatía emperador emperor empezando empezar empezaron empezó empfehlen emphasis emphasize emphasized emphasizes emphasizing empieces empieza empiezan empire empires empirical empleado empleadores empleados empleo empleos employ employed employee employees employers employment empresa empresarial empresariales empresas empty empírica emulate enable enabled enables enabling enano encabezado encanta encantado encantaría encara encarga encargado encender encendido enchanted enciende encima enclosed encode encoded encoder encoding encompasses encontraba encontrado encontrados encontramos encontrar encontraron encontrarse encontrarás encontró encore encounter encountered encourage encourages encouraging encrypted encryption encuentra encuentran encuentras encuentre encuentren encuentres encuentro encuestas end ende ended ender ending endl endless endorfinas endpoint ends endurance enduring enemies enemigo enemigos enemy energetic energia energie energy energética energético energía energías enero enfermedad enfermedades enfoca enfocada enfocado enfocarse enfoque enfoques enforce enforcement enforcing enfrenta enfrentan enfrentar enfrentarse enfrentó enfriamiento enfriar engage engaged engagement engaging engine engineer engineering engineers engines england english engrasado enhance enhanced enhances enhancing enjoy enjoyable enjoyed enjoying enlace enlaces enlightenment enorme enormous enough enquanto ens ensalada ensayo ensayos ensemble enseña enseñanza enseñanzas enseñar ensuite ensure ensures ensuring entanglement entanto entendemos entender entenderlo entendido entendimiento entendre enter entera entered entering entero enteros enterprise enters entertained entertaining entertainment enthalten enthusiasts enthält entidad entidades entienda entiende entiendo entire entirely entities entity entonces entorno entornos entra entrada entradas entrar entraîner entrega entregar entrena entrenada entrenado entrenados entrenamiento entrenar entretenimiento entrevista entrevistas entries entry entstehen entusiasmo entwickeln entwickelt entwicklung então enumera enumerate envers enviar environ environment environmental environmentally environments environnement envolve envuelve envía envío epic episode episodes epochs equal equality equally equals equation equations equilibrada equilibrado equilibrar equilibrio equip equipment equipo equipos equipped equitativa equivale equivalent equivalente er erde ere erfolgreich erfüllen ergebnisse erhalten erhöhen erkläre erklären erlaubt ermöglichen ermöglicht err erreichen error errores errors ersetzen erst erste erstelle erstellen ersten erzeugen esc escala escalabilidad escalable escalar escalas escapar escape escaping escasez escena escenario escenarios escenas escreva escrever escriba escribas escribe escriben escribiendo escribir escribirme escribió escribo escrita escrito escritor escritores escritorio escritos escritura escriu escríbeme escucha escuchado escuchando escuchar escuela esempio esencia esencial esenciales esfera esfuerzo esfuerzos espace espacial espaciales espacio espacios espada espalda espanya espanyol espanyola espaço españa español española españolas españoles especial especiales especialista especialización especializada especializadas especializado especializados especially especialment especialmente especias especie especies especifica especificaciones especificada especificado especificar espectadores espectro específica específicamente específicas específico específicos espejo espera esperaba esperado esperamos esperando esperanza esperar esperienza espero espinacas esposa espresso espère espíritu espíritus esquema essa essas essay essays esse essence essential essentially essere esses est estabilidad estable establece establecen establecer establecido establecidos estableció establish established establishing establishment estaciones estación estadounidense estadística estadísticas estan estancia estat estate estatua estatus estava esteja estereotipos estes estigui estil estilo estilos estima estimación estimado estimados estimar estimate estimated estimates estimation estimular estirar estiver estonia estou estrategia estrategias estratégica estrechamente estrella estrellas estructura estructurada estructuras estrés estudia estudiando estudiante estudiantes estudiar estudio estudios està estándar estándares estão estética estímulos et eta etapa etapas etc eterna eternal eterno ethereum ethical ethically ethics ethnic etiqueta etiquetar etiquetas etwa etwas eu euclidean euler euro europa europe europea european europeo europeos euros euskal eux evaluación evaluar evaluate evaluated evaluating evaluation evalúa evaporate evaporation even evening evenly event evento eventos events eventual eventually eventualmente ever every everyday everyone everything everywhere evidence evidencia evidente evil evita evitando evitar evite evoke evolucionado evolucionando evolucionar evolución evolution evolutionary evolve evolved evolving ex exact exacta exactamente exactitud exactly exacto exaggerated exam examen examination examine example examples excel excelente excellent excepcional excepciones excepción except exception exceptional exceptions excepto excesivo exceso excess excessive exchange excited excitement exciting exclusion exclusivamente exclusive exclusivo excuse exe executable execute executed executes executing execution executive executives exemple exemples exemplo exemplos exercise exercises exercising exhaustiva exhaustive exhibit exhibits exist existan existe existed existem existen existence existencia existente existentes existido existing existir exists existência exit exitosa exitoso exotic expand expanded expanding expandir expansion expansión expect expectations expectativas expected expecting expenses expensive experience experienced experiences experiencia experiencias experiencing experiment experimenta experimentación experimentado experimentados experimental experimentan experimentando experimentar experimentation experimenting experimento experimentos experiments experimentó experiência expert expertise experto expertos experts explain explained explaining explains explanation explanations explica explicaciones explicación explicame explicando explicar explicarlo explicarme explicit explicitly explico explicó explique expliquer expliques exploit exploitation exploited explora exploración explorando explorar exploration explore explored explorer explores exploring explosion explosión explícame export exports expose exposed exposición exposing exposure expresa expresar expresiones expresión express expressar expressed expressing expression expressions expressive expérience ext extend extended extendió extends extensa extension extensions extensive extensión extent exterior externa external externas externo externos extiende extinción extinction extra extracción extract extracted extraction extrae extraer extranjero extraterrestre extraterrestrial extraña extraño extraños extrema extremadamente extremas extreme extremely extremo extremos eye eyes ez eólica f1 f12 fa fabric fabricación fabricante fabricantes face facebook faced faces facial facile facilement facilidad facilita facilitar facilitate facilities facility facing fact facteurs factor factores factorizar factors factory facts factual fade fahrenheit faible fail failed failing fails failure failures fair faire fairly fairness fait faith fake faktoren fall falleció fallen falling fallo fallos falls falsa falsas false falso falta fama familia familiar familiares familiarizado familiarize familiarízate familias families family famosa famosas famoso famosos famous família fan fancy fans fantastic fantasy fantasía far fare farm farmer farmers farming farther fascinante fascinantes fascinated fascinating fase fashion fast faster fastest fat fate father fatiga fatigue fats fatto fauna faut favor favorita favorite favorito favoritos favourite faz fazer faça façon fe fear fears feasible feast feathers feature featured features featuring febrero february fecha fechas fed federal federico fedora fee feed feedback feeding feel feeling feelings feels fees feet fehler felices felicidad felipe feliz fell fellow felt female femme fent fenómeno fenómenos fer ferdinand fernando fernández fes fest festa festival festivals fet fetch fever fewer fi fiable fiber fibonacci fibra ficción ficticio fiction fictional fiebre field fields fierce fiery fiesta fifa fifth fig fight fighter fighting figura figuras figure figures figuring fija fila filas file filename files fill filled filling film films filosofia filosofía filosófica filosóficas filosófico filosóficos filter filtered filtering filters filtra filtrar filtro filtros filósofo filósofos fim fin fina final finale finales finalizar finally finalment finalmente finance finances financial financiera financieras financiero financieros finanzas finas find finden finding findings finds fine finely fines finest finger fingers finish finished finishes finishing finite fino fins fire firefox firewall firm firma firmware first firstly fiscal fish fishing fit fitness fits fitting fitzgerald five fix fixed flag flags flame flames flash flashcards flask flat flavor flavors flawed flaws flesh flex flexibilidad flexibility flexible flexibles flexiones flight flights flip float floating floor floors flor flores florida flour flow flower flowers flowing fluctuations fluffy fluid fluida fluido fluids flujo flutter fluye fly flying fmt fn foam focus focused focuses focusing foi fois fold folder folders folge folgen folgende folgenden folgt folk folklore follow followed followers following follows fomenta fomentar fonction fonctionne fonctionnement fondo fondos font fonts foo food foods foot footage football fora forbidden force forced forces forcing ford foreach forecast forehead foreign forest forests forever forge forget forgot fork form forma formación formada formado formal formales forman formando formar formas format formation formations formato formatos formats formatted formatting forme formed formen former formerly formes formidable forming forms formula formulación formular formulario formularios formulas fornecer foros fort fortalecer fortaleza fortalezas forte forth forum forums forward força fossil foster fostering foto fotografía fotos fought found foundation foundations founded founder founding four fourier fournir fourth fox foxes fps fr frac fraction frage fragen frame frames framework frameworks france francesa franchise francia francisco franco francés frank franquicia frança français frase frases frau fraud frecuencia frecuentes free freedom freedoms freely freeze freezing frei frenar french frente frequencies frequency frequent frequently fresas fresca frescas fresco frescos fresh freshly friday fridge fried friedrich friend friendly friends friendship frijoles frito front frontend frost frozen fruit fruits frustración frustrated frustrating frustration fruta frutas frutos fry fría frío fríos fuego fuel fuels fuente fuentes fuerte fuertes fuerza fuerzas fuga fulfill fulfilling fulfillment full fully fumar fun func funciona funcional funcionalidad funcionalidades funcionamiento funcionan funcionando funcionar funcione funcionen funciones funció función function functional functionality functioning functions fund fundada fundamental fundamentales fundamentally fundamentals fundamentos funding funds fungi funktion funktionen funktionieren funktioniert funny fur furniture furthermore fusion fusión futbol futura futuras future futurista futuristic futuro futuros fàcil fácil fáciles fácilmente fähigkeit fähigkeiten fällen fällt física físicas físico físicos fórmula fórmulas fósiles fútbol führen führt für gabe gabriel gain gained gaining gains galaxia galaxias galaxies galaxy galletas gallina gama game gameplay gamer games gaming gamma gana ganado ganador ganar ganas ganz ganó gap gaps garantir garantiza garantizar garantía garbage garbanzos garcía garden gardens garder garlic gas gases gasolina gastar gastos gastronomía gate gather gathered gathering gato gatos gaudir gaur gave gay gaz gb gear geben gefahr geforce gefährlich gegen gegensatz gegenüber gehen geht gehört geld gemacht genannt genau gender gene genera generaciones generación generada generadas generado general generale generales generalization generally generalmente generan generando generar generate generated generates generating generation generations generative generator genere generic generieren genero genes genetic genetically genetics genial genre genres gens gent gente gentle gently genug genuine genutzt genética genético genéticos geographic geográfica geología geometric geometry geometría geopolitical george georgia gerade geral geralmente gerar german germany gerne geschichte gesellschaft gestionar gestión gestos gestures get getelementbyid gets getting gewährleisten ghost gia giant giants gib gibt gift gigabytes gigante gigantes gimnasio gimp ginger gira girar girl girlfriend girls giro git github gitlab give given gives giving giúp glad glass glasses glaube gleichzeitig gli global globales globally glory gloves glow glowing glucose gluten gmail gnome gnu go goal goals gobierno gobiernos god goddess godot gods goes going gold golden golpe goma gone gonna good goodbye goods google gostaria got gotas gov govern governance governing government governments gps gpt gpu gpus grab grabación grabar grace gracia gracias gracioso grad grade gradient grado grados gradual gradually gradualmente grain grains gramaticales grammar grammatical gramos grams gramática gran granada grand grande grandes grandfather grandi grans grant granted grants graph graphic graphical graphics graphs grasa grasas grated grateful gratificante gratis gratitud gratitude gratuita gratuitas gratuito gratuitos grave gravedad graves gravitacionales gravitational gravity gray grazie great greater greatest greatly grecia greece greed greek green greenhouse greetings grew grid griega griego grill grilled grip gris grises grocery ground groundbreaking grounded group groupe grouped groups grow growing grown grows growth groß große großen großer grueso grumos grund grundlage grup grupo grupos gràcies gráfica gráficas gráfico gráficos grâce größe gründe gt gtx guantes guarantee guaranteed guarda guardar guards guatemala gubernamentales guerra guerras guerrero guess guests gui guiar guidance guide guided guidelines guides guiding guilt guinea guion guisantes guitar guitarra guión gun guns gusta gustado gustan gustaria gustaría guste gusten gusto gustos gustó gut gute guten guy guyana guys guía guías gym género géneros général générale généralement gérer gì h1 h2 habe haben haber haberte habilidad habilidades habit habitable habitación habitantes habitat habitats habits habitual habitualmente habla hablado hablamos hablan hablando hablantes hablar hable hablen hables hace hacemos hacen hacer hacerla hacerle hacerlo hacerme hacerse hacerte haces hacia haciendo hacker hacking hacía haga hagan hagas hagi hago hai haiku hair hala half hall hallar hallo halten hambre hamburguesas hammer hand handeln handelt handle handled handles handling hands handy hang hanging hanno happen happened happening happens happiness happy har hard harder hardest hardware harina harm harmful harmless harmony harness harry harsh hartu harvest harvesting hará haré haría hash hashtags haskell hast hat hate hatte hauria haut haute haver havia hawking haz hazardous hazards hazlo hazme hdmi head headaches header headers heads heal healing health healthcare healthier healthy hear heard hearing heart hearts heat heated heating heaven heavier heavily heavy hecha hechas hecho hechos height heißt held helfen helium hell hello help helped helpful helping helps hem hemisferio hence henry herbs herencia heridas heritage hermano hermanos hermosa hermosas hermoso hermosos hero heroes herr herramienta herramientas herunterladen hesitate heute hey hi hice hicieron hiciste hidden hide hiding hidrógeno hielo hier hierarchical hierarchy hierbas hierbei hierro high higher highest highlight highlighting highlights highly higiene hija hijo hijos hike hiking hilfe hilfreich hilft hill hills hinaus hingegen hinzufügen hip hipertensión hipótesis hire hired hiring hispana histoire historia historial historians historias historic historical historically history història história histórica históricas histórico históricos hit hitler hits hitting hitz hizo hmm ho hobbies hobby hoffe hogar hogares hogwarts hogy hohe hoja hojas hoje hola hold holding holds hole holes holiday hollow holy hombre hombres hombros home homemade homepage homes homme homogénea honduras honest honey hong honor hook hop hope hoping hora horario horarios horas hores horiek horizon horizontal horizontally horizonte hormonal hormonas hormone hormones horn hornea hornear horno horror horse hospital host hosted hostile hosting hosts hot hotel hour hours house houses housing hover however hoy href html html5 http https hub hueco huella huesos huevo huevos huge humain humains human humana humanas humanidad humanity humano humanos humans humedad humidity humor humorous hundred hundreds hunger hungry hunt hunter hunting hurricanes hurt husband hybrid hydrated hydration hydrogen hygiene hyper hyperparameters hypothesis hypothetical hz há hábito hábitos háblame házmelo hängt hätte häufig héroe hésitez höhe höher höhere höheren húmeda húmedo học i32 i5 ia ias iba ibm ibérica ice ich icon iconic icons id idatzi ide idea ideal ideales ideally ideals ideas idees ideia ideias identical identidad identifica identificación identificado identificar identified identifier identify identifying identity ideology ideología idioma idiomas ido idées ie iglesia ignore ignored igual igualdad iguales igualmente ihm ihn ihnen ihr ihre ihrem ihren ihrer ihres ii iii il ilegal ill illegal illness illnesses illusion illustrate ils ilumina iluminación ilusión ilustrar im image imagen imagery images imagina imaginación imaginar imaginaria imagination imaginative imagine imaging imagínate img immediate immediately immense immer immerse immersive immoral immune impact impacted impactful impacto impactos impacts impedir imperial imperio implement implementa implementación implementado implementar implementation implemented implementing implements implica implicaciones implications implies imply import importa importance importancia important importante importantes importants importar importing imports imposed imposible impossible impresionante impresionantes impresión impresora impressed impression impressive imprime imprimir improve improved improvement improvements improves improving impuestos impulsa impulsar impulso imágenes inability inaccurate inappropriate inapropiado inc incentives inception incertidumbre inch inches incident incidents incierto inclinación include included includes including incluem incluida incluidas incluido incluidos incluindo incluir inclusion inclusive inclusión incluso incluya incluye incluyen incluyendo income incoming incompatible incomplete inconvenience incorpora incorporar incorporate incorporated incorporates incorporating incorrect incorrecta incorrecto increase increased increases increasing increasingly incredible incredibly incremental incremento increíble indeed indem independence independencia independent independently independiente independientemente independientes index india indian indica indicaciones indicado indicador indicadores indican indicando indicar indicarme indicate indicates indicating indices indique indiques indirect indispensable individual individuales individually individuals individuo individuos indonesia induction industria industrial industriales industrias industries industry indícame inefficient inequality inesperada inesperado inesperados inevitable inexpensive infancia infantil infecciones infección infection infections infer inference inferior infinita infinite infinito infinity inflación inflamación inflammation inflation influence influenced influencer influencers influences influencia influenciada influenciado influenciados influencias influential influido influir influye influyen influyente influyentes info inform informacion informació información informadas informal information informationen informations informative informazioni informações informe informed informes informática informático informáticos infraestructura infrastructure infringement ingeniero ingenieros ingeniería ingenioso ingesta inglaterra ingles inglesa inglés ingredient ingrediente ingredientes ingredients ingresar ingrese ingreso ingresos inhabitants inhabited inherent inherently inheritance inicia inicial iniciales inicialización inicializar inicialmente iniciar iniciativa inicio inició init initial initialize initially injection injuries injury inmediatamente inmediato inmunológico innate inner innerhalb innocent innovación innovadoras innovate innovation innovations innovative inoltre input inputs inquiry ins insbesondere insectos insects inseguridad insert insertar inserted insgesamt inside insight insightful insights inspect inspection inspector inspiración inspiration inspire inspired inspiring instability instagram instala instalación instalado instalar install installation installed installer installing instance instances instancia instant instantly instead instituciones institución institute institutions instituto instrucciones instrucción instruction instructions instructor instrument instrumental instrumento instrumentos instruments insufficient insulation insulin insurance int intake integer integers integra integración integrada integrado integral integrales integrar integrate integrated integrating integration integridad integrity intel intelectual inteligencia inteligencias inteligente inteligentes inteligência intellectual intelligence intelligent intelligenz intenciones intención intended intensa intensas intense intensidad intensity intensive intenso intent intenta intentado intentan intentando intentar intentarlo intentaré intention intentionally intentions intento interacciones interacción interact interacting interaction interactions interactiva interactivas interactive interacts interactuar interactúa interactúan intercambiar intercambio intercambios interconnected interesa interesado interesados interesante interesantes interesarte interese intereses interessante interest interested interesting interests interface interfaces interfaz interfere interior interiores intermediate intermedio interna internacional internacionales internal internas international internet interno internos internships interpersonales interplay interpret interpretación interpretado interpretar interpretation interpretations interpreted interpreter interrupciones intersect interval intervalo intervals intervención intervention interview interviews interés intricate intrigue intrigued intriguing intro introducción introduce introduced introduces introducing introducir introduction introductory intuition intuitiva intuitive intérprete invalid invaluable invasion invasión invención inventa inventado invented invention inventor inventory invernadero inverse inversiones inversión inverso invertido invertir invest invested investiga investigaciones investigación investigadores investigando investigar investigate investigation investigues investing investment investments investors invierno invisible invita invite involucra involucradas involucrados involve involved involvement involves involving io iones ios iostream iot ip ipad iphone ir ira ireland iris irlanda iron irrational irregular irregulares irrelevant irritation irá isaac isabel isla islam island islands islas iso isolate isolated isolation israel isso issue issues ist italia italian italiana italiano italy item items iteración iterar iterate iterates iterating iteration itinerario iv izan izquierda izquierdo ja jack jackson jahr jahren jak jamaica jamais james jamás jamón jane january japan japanese japonesa japonés japón jar jardines jardín java javascript jazz je jean jeans jede jedem jeden jeder jedes jedoch jefe jeff jerry jersey jest jesus jesús jetzt jeu jeweils jewelry jewish jo joan job jobs joc joe jogo jogos john johnson join joined joining joins joint joke jokes jones jordan jorge jornada joseph josé jour journal journey journée jours joven joy joyas jpeg jpg jr js json juan judge judgment judicial juega juegan juego juegos jueves jugador jugadores jugando jugar jugo juguemos juguetes juice juicio julio july jump jumping jumps june jungle junio junior junta juntas junto juntos jupiter jusqu justa justice justicia justify justo juventud já jóvenes júpiter kann kannst kant karl kaufen keep keeping keeps kein keine keinen kelvin kept keras kernel kevin key keyboard keys keyword keywords kg khalifa khi khác không ki kid kids kill killed killing kilogram kilogramo kilograms kilometers kilómetros kim kind kinder kindness kinds king kingdom kiss kit kitchen klar klasse kleine kleinen km knew knife knight knock know knowing knowledge knowledgeable known knows kommen kommt kong konnte kontakt korea korrekt kosten kotlin które który kubernetes kurz kurze können könnte könnten könntest körper künstliche l1 l2 lab label labeled labels labor laboral laborales laboratorio laboratory lack lacks lado lados lady lage lago laid laion lake lakes lambda lamentablemente lamento lana land landed landing lands landscape landscapes lang langage lange language languages langue lanzado lanzamiento lanzó laptop laptops laquelle larga largas large largely larger largest largo largos laser lassen last lasting lastly late lately latency later lateral latest latex latin latina latino latinoamérica laufen laugh laughed laughing laughter launch launched launching lava law laws lay layer layered layers layman layout lead leader leaders leadership leading leads league leak lealtad lean learn learned learning learns least leather leave leaves leaving leben lecciones lección leche lechuga lector lectores lectura led lee leer left leg legacy legado legal legales legen legend legendary legends legible legislación legislation legitimate legs lehen leicht leider lejano lejos lembre lemon len length lengths lengua lenguaje lenguajes lenguas lens lenta lentamente lentejas lentes lento leo lequel lernen lesen lesiones less lesson lessons let letra letras lets letter letters letting lettuce leur leurs levadura levanta levantar levar leve level levels leverage leveraging ley leyenda leyendo leyes leído león lhe li liability libera liberación liberal liberar libertad libertades liberties liberty libraries library libre librería librerías libres libro libros licencia license licensed licenses licensing lid liderazgo lideró lie liebe liegen liegt lies lieu life lifespan lifestyle lifetime lift lifting liga ligera ligeramente ligero light lighter lighting lightly lightning lights lightweight ligne ligència like liked likelihood likely likes liking limbs limit limita limitaciones limitación limitada limitado limitados limitar limitation limitations limite limited limites limiting limits limpia limpiar limpieza limpio limpios limón line lineal lineales linear lines linguagem linguaggio linguistic lingüística lingüísticas link linked linkedin links linux lionel liquid lisa list lista listado listar listas liste listed listen listener listening listo lists lit liter literally literary literatura literature litros little live lived lives living livre livres llama llamada llamadas llamado llamados llaman llamar llamas llame llamó llarg llave llega llegada llegado llegan llegando llegar llegaron llegir llegue llegó llena llenar llenas llengua llenguatge lleno lleva llevado llevan llevar llevaron lleve llevó llibre llibres llista lliure llm llms lloc llocs llum lluvia lluvias load loaded loading loads loan local locales localhost locally locals locate located location locations lock locked loco locura log logging logic logical login logo logra logrado lograr lograrlo lograron logro logros logró logs logística lois london lonely long longer longest longitud longitudes longo look looked looking looks loop loops loose lord lore loro lors lorsqu lorsque lose losing loss losses lost lot lots loud louis love loved lover loves loving low lower lowering lowest loyal loyalty lr ls lua lucas luces lucha luchan luchando luchar luck lucky luego lugar lugares lui luis lujo lumière luna lunar lunch lunes lung lungs lush luxury luz lying lyrics là láctea lässt líder líderes límite límites línea líneas líquida líquido líquidos lógica lógicas lógico lösen lösung mac machen machine machines macht macos macro macros made madera madre madrid maestro magazine mage magenta magia magic magical magnetic magnitud magnitude magnético magnéticos mago mai mail main mainloop mainly mainstream maintain maintainable maintained maintaining maintains maintenance maintenant maintenir maior mais major majoria majority make makes making mal mala malas male malicious maligno malo malta malvado malware mammals mamá man manage manageable managed management manager managers managing mancha mandato maneira maneja manejar manejo manera maneras manga mango manipulación manipular manipulate manipulating manipulation manière manner mano manos mantener mantenerlo mantenerse mantenerte mantenga mantenido manteniendo mantenimiento mantenir mantente mantequilla manter mantiene mantienen mantén manual manuales manually manualmente manuel manufacturer manufacturers manufacturing many manzana manzanas map mapa mapas mapping maps maquinaria mar marca marcada marcado marcar marcas march marcha marco marcos mare mareas margin maria marina marine marino mario mariscos mark markdown marked market marketing marketplace markets marks markup marriage married marrón mars marte martes martin marvel mary marzo maría mas masa masas mascota mascotas masculino mask mass massa masse masses massive master masterpiece masters matar match matches matching mate mateix matemática matemáticas matemático matemáticos materia material materiales materials materna math mathematical mathematically mathematician mathematicians mathematics matices matière matplotlib matrices matrix matriz matter matters mature mauricio max maximizar maximize maximizes maximizing maximum may maya maybe mayo mayonnaise mayor mayores mayoría maíz mañana meal meals mean meaning meaningful meanings means meant meantime meanwhile measure measured measurement measurements measures measuring meat meats mecanismo mecanismos mechanic mechanical mechanics mechanism mechanisms mecánica mecánicas mecánicos media mediana medianas mediano mediante medical medicamentos medication medications medicina medicinal medicine medición medida medidas medieval medio medios medir meditación meditation mediterranean medium meet meeting meets mehr mehrere meilleur meilleure mein meine meinem meinen meiner meio meist meisten mejor mejora mejorado mejorando mejorar mejoras mejores melancolía melhor melhorar melody melodía melt melted member members meme memes memorable memorables memoria memories memory men menciona mencionadas mencionado mencionados mencionar mencionas mencionaste menciono menge menjar menor menores menos mensaje mensajería mensajes menschen menschliche mensual mental mentales mente mention mentioned mentioning mentor mentre menu menudo menys menú mercado mercados merci mercurio mercury mere merely merge merged merging merit mes mesa meses mesh mesmo mess message messages messaging messenger messi mesura mesure met meta metabolism metabolismo metadata metal metales metals metaphor metas meter meters methane method methodology methods metodología metric metrics metro metros mettre meu meva mexican mexicana mexicano mexico mezcla mezclado mezclan mezclar mg mhz mia mica mich michael micro microondas microsoft microwave mid middle mide miden miedo miel miembro miembros mientras mieux might mighty migliore migration miguel mike mil mild miles milions militar militares military milk million millions millones millor millors mimic min minced mind minded mindestens mindful mindfulness minds mindset mine minecraft mineral minerales minerals minería minha mini minimal minimalist minimizar minimize minimizing minimum mining minister minor mint minute minutes minuto minutos minuts minúsculas mio mir mira mirada mirando mirar mirror mise misinformation misiones misión misma mismas mismo mismos miss missed missing mission missions mistake mistakes misterio misteriosa misterioso mit mitad mitigar mitigate mitjançant mitología mix mixed mixing mixture miércoles mkdir ml mm mobile mod moda mode model modelado modelar modeling modell modello modelo modelos models moderate moderation modern moderna modernas moderne moderno modernos modes modificación modificado modificar modification modifications modified modify modifying modo modos mods modular module modules modèle modèles mogę moi moins mois moist moisture mold molde molecular molecules molido molt molte moltes molto molts moléculas moment momento momentos moments momentum mon monarquía monday monde mondo moneda monedas monetary money mongodb monitor monitorear monitoreo monitoring monitors monster monsters montar montaña montañas monte month months monty monumentos mood moon moral morales morality morally moreover morir morning mort mortal mostaza mostly mostra mostrando mostrar mostrará mot mother motherboard motion motivación motivado motivate motivated motivation motivations motive motivo motivos motor motores mots mount mountain mountains mounted mouse mouth mouvement move moved movement movements mover moverse moves movie movies movilidad movimiento movimientos moving moyen moyenne moyens mozilla mozzarella może mph mr ms much mucha muchas muerte muertos muestra muestran muestras muestre muestro mueva mueve mueven muitas muito muitos mujer mujeres multi multifaceted multimedia multiplayer multiple multiplica multiplicación multiplicar multiplication multiplied multiply multiplying multitud mundial mundiales mundo mundos murder murió muscle muscles muscular musculares museo museos museum museums mushroom mushrooms music musica musical musicales musicians musk muss musst must mustard mut mutation mutual mutuamente mutuo muéstrame mysql mysterious mystery mystical myth mythical mythology mà mágica mágicas mágico mágicos máquina máquinas márquez máscara máxima máximo mère médica médicas médico médicos més método métodos méxico même mínima mínimo módulo módulos món móvil móviles möchte möchten möchtest möglich mögliche möglicherweise möglichkeit möglichkeiten möglichst múltiple múltiples músculos música músicos müssen müsste một na nacer nach nachdem nachteile nacido nacimiento nacional nacionales naciones nació nación nadar nadie name named namen namens names namespace naming nano naranja naranjas nariz narrativa narrative narrow naruto nas nasa nasal nation national nations native nativo nativos natura natural naturales naturaleza naturally nature natürlich nave navega navegación navegador navegar navigate navigating navigation nazi nazis ne near nearby nearest nearly necesaria necesariamente necesarias necesario necesarios necesidad necesidades necesita necesitamos necesitan necesitar necesitarás necesitaría necesitas necesite necesites necesito necessarily necessary necessites necessário neck need needed needing needs nefarious negativa negativamente negativas negative negatively negativo negativos negocio negocios negotiate negotiations negra negro negros nehmen neighbors neil nein neither nel nell nella nelle nem nen nenne nennen neo neon nepal neptune neptuno nerve nervioso nervous nesse net netflix netherlands network networking networks neue neuen neural neurological neuron neuronal neuronales neuronas neurons neutral neutro never nevera nevertheless new newer newly news newton next nf3 nginx người nhau nhiều nhân như nhất những nicaragua nice niche nicht nickel nie nietzsche nieve nieves night nil nine ninguna ninguno ningún nintendo nirvana nit nitrogen niveau nivel niveles nivell niña niño niños nlp nm nn nobel noble nobody noch noche noches nocturna nocturno node nodejs nodes nodo nodos noise noises noisy nola nom nombra nombrado nombrar nombre nombres nombreuses nombreux nome noms només non none nonetheless noodles nord norm norma normal normale normalerweise normales normalization normally normalmente normas normativa norms norse norte north northern noruega nose nosql nosso nota notable notables notamment notas notation note noted noter notes nothing notice noticed noticia noticias notifications noting notion notre notó nou nous nouveau nouvelles nova novel novela novelas novels november novembre noves novia noviembre novo np npm nuanced nuances nube nubes nuclear nucleares nucleus nueces nueva nuevamente nuevas nueve nuevo nuevos null num num1 num2 number numbers numerical numero numeros numerosas numerosos numerous numpy numérica numérico numéricos nun nunca nur nutrición nutrient nutrientes nutrients nutrition nutritional nutritious nuts nutzen nvidia nào này não nécessaire nécessaires nên núcleo núcleos número números ob oben obesidad obj object objectiu objective objectives objects objet objetiva objetivo objetivos objeto objetos obligaciones obra obras obscure observa observable observaciones observación observado observar observation observations observe observed observer observing obstacle obstacles obstant obstante obstáculo obstáculos obtain obtained obtaining obtención obtenemos obtener obtenido obtenidos obteniendo obtenir obter obtiene obtienen obvious obviously obwohl ocasiones ocasión occasion occasionally occidental occupation occupied occur occurred occurring occurs ocean oceans ocho octava october octubre oculta ocupa ocurre ocurren ocurrido ocurrir océano océanos od odd odds oder odio oeste ofereix oferta ofertas offensive offer offered offering offers office officer official officially offline offre oficial oficiales oficialmente oficina ofrece ofrecen ofrecer ofrecerte ofreciendo ofrezca oft often og ogni oh ohne oil ojo ojos ok okay olas old older oldest oliva olive olla olor olvides olá onclick onda ondas onde one ones ongoing onion onions online ont onto op opcional opciones opcions opció opción open openai openassistant opened opening opens opera operaciones operación operador operadores operar operate operates operating operation operational operations operativo operativos operator operators opinas opinion opiniones opinions opinión oponente oponentes oportunidad oportunidades opponent opponents opportunities opportunity opposed opposing opposite opposition opresión opt optar optical optimal optimistic optimización optimizar optimization optimizations optimize optimized optimizer optimizing option optional optionen options opuesta opuesto opuestos oraciones oración oracle oral orange oranges orbit orbits orden ordena ordenada ordenadas ordenador ordenadores ordenados ordenar order ordered orders ordinary ordinateur oregano org organic organisation organism organismo organismos organisms organiza organizaciones organización organizada organizado organizar organization organizational organizations organize organized organizing organs orgánico orientación orientada orientado oriental orientation oriente oriented origen origin original originales originally originalmente originated origins originó orm oro ortografía orwell orígenes oscar oscura oscuras oscuridad oscuro oso others otherwise otherworldly otorga ou oui ounce outcome outcomes outdated outdoor outer outfit outils outline outlined outlines outlook output outputs outra outras outro outros outside oven overall overcome overfitting overflow overhead overlap overly overnight override oversight overview overwhelmed overwhelming owned owner owners ownership owning oxygen oxígeno oye oz oído où p1 pa paar pablo pace paced paciencia paciente pacientes pacific pack package packages packaging packed pacífico pad padding padre padres paella pagar page pages pagina paginas pago pagos paid pain paint painting paintings pair paired pairs pais paisaje paisajes paises palabra palabras palace palacio palavra palavras pale paleta palma pan panamá pandas pandemia pandemic panel paneles panels pantalla pantallas papa papas papel paper papers paprika paquete paquetes par parada paradoja paradox paragraph paragraphs paraguay paralelo parallel parameter parameters paraules parc parcial parece parecen parecer parecido parecía pared paredes pareja parent parentheses parents pares parezca paris park parks parlar parle parmesano parmi parole parque parques parrilla parse parser part parte partes partial partially participa participación participantes participants participar participate participating participation particle particles particolare particular particulares particularly particularmente partida partidas partido partidos partie parties partir partition partner partners parts party partícula partículas parámetro parámetros paréntesis parís pas pasa pasada pasado pasan pasando pasar pasaron pasaría pase pasear paseo pases pasión paso pasos pass passa passage passar passe passed passer passes passing passion passionate passions passive passos password passwords past pasta paste pastel pasó patas patata patatas patch patches path paths pathways patience patient patients patrick patrimonio patrones patrón pattern patterns paul paulo pautas pavo pawn pay paying payload payment payments pays paz país países països paño pc pcs pd pdf peace peaceful peak peces pecho pechuga peculiar pedido pedir pedirle pedirá pedro peeled peer pel pela pelar pelas peliculas peligro peligros peligrosa peligrosas peligroso peligrosos pelo pelos pelota pelé película películas pen pena pencil pendant pendiente pensaba pensado pensadores pensamiento pensamientos pensando pensar pensó península people peor pepino pepper peppers pequeña pequeñas pequeño pequeños per perceive perceived percentage percepción perception perceptions percibimos perder perdido perfeccionar perfect perfecta perfectamente perfectly perfecto perfil perfiles perform performance performances performed performing performs perguntas perhaps period periodo periodos periods periódicos perjudicial perjudiciales perl permanece permanent permanente permet permettant permettent permiso permisos permission permissions permita permitan permite permiten permitido permitiendo permitir permitirá permitirán permitiría permitió permits permitía perquè perro perros perseverance perseverancia persist persistence persistent persistente person persona personaje personajes personal personales personalidad personalidades personality personalizable personalización personalizada personalizadas personalizado personalizados personalizar personalized personally personalmente personas persone personen persones personnages personne personnel personnelle personnes perspectiva perspectivas perspective perspectives pertenece pertenecen período períodos però perú pesa pesada pesado pesados pesar pescado pescados peso pesos pessoa pessoas pestaña pet peter petición petit petite petits petróleo pets peu peur peut peuvent peux peón ph phase phenomena phenomenon philosopher philosophers philosophical philosophy phone photo photographs photography photos photoshop php phrase phrases physical physically physicist physics physique phải pi piano picada picado picados picante pick picked picking picks picture pictures pide pie piece pieces piedra piedras piel piensa piensan piensas pierde piernas pierre pies pieza piezas pilares pillow pilot pimienta pimiento pimientos pin pine pink pintar pintura pip pipe pipeline pipelines pipes pirate piso pista pistas pitch pixel pixels pizca pizza pizzas piña più pla placa place placed placement placer places placing plain plan plana plancha plane planeas planes planet planeta planetas planets planificación planificar planned planning plano plans plant planta plantas plantea planteado plantillas planting plants plasma plastic plat plata plataforma plataformas plate plates platform platforms plato platos plats platón plausible play playa playas played player players playful playing plays playstation plaza plazo please pleasing pleasure plena plenty plot plt plug plugging plugin plugins plus plusieurs plutón plutôt plástico plásticos plátano pm png po población poble pobre pobres pobreza poca pocas pocos podamos pode podem podemos poden poder poderes poderia poderosa poderosas poderoso poderosos podido podria podrias podries podrá podrás podré podría podríamos podrían podrías podía podían poem poema poems poesía poeta poetry point pointed pointer pointers points pois poisoning pokemon pokémon poland polar pole poles police policies policy policymakers policía polish polished polite political politicians politics pollo pollution polo polonia polvo polynomial política políticas político políticos pon pone poner ponerme ponerse ponerte pool poor poorly pop populaires popular populares popularidad popularity popularized populated population populations porcentaje porción porqué port porta portable portal portals portanto portar portfolio portion portions portrayed ports portugal português pos posar pose posee poseen poses posesión posibilidad posibilidades posible posibles posiciones posición position positions positiva positivas positive positivo positivos possa possam possess possession possibile possibilities possibility possible possibles possibly posso possono possui possível post postal posted posterior posteriores posteriormente postgresql postres posts postura posture pot potato potatoes potencia potencial potenciales potencialmente potencias potente potential potentially potions potrebbe potrebbero potresti pots potter pouco pound pounds pour pourquoi pourrais pourrait pourriez pouvez pouvoir poverty powder power powered powerful powers poética practica practical practicando practicar practice practices practicing praise praised prayer pre precalentar precaución precautions precio precios precious precipitation precisa precisamente precisar precisas precise precisely precision precisión preciso precisos predators predecir predicciones predicción predict predictable predicted predicting prediction predictions predictive prefer preference preferences preferencia preferencias preferiblemente preferred prefieren prefieres prefix pregunta preguntar preguntarme preguntas preguntó preheat preis prejuicios premier premio premios premise premium première prend prendre prensa preocupa preocupaciones preocupación preocupado preocuparse preocupes prepara preparación preparado preparar preparation prepare prepared preparing preprocess preprocessing presence presencia present presenta presentación presentado presentan presentar presentation presente presented presenten presentes presento presents preservar preserve preserved preserving president presidente presidentes presiona presionar presión press pressed pressing pression pressure presta prestar presupuesto pretend pretty prevalent prevención prevenir prevent preventing prevention prevents previa previamente previas previo previos previous previously previsto prey price prices pricing pride prima primaria primarily primary primavera prime primeira primeiro primer primera primeras primero primeros primo primos prince princesa princess principais principal principales principalment principalmente principiante principiantes principio principios principle principles print printed printer printf printing println prints prior prioridad prioridades priorities prioritize prioritizing priority priorizar prisa prise prison privacidad privacy privada privadas privado privados private prix prize pro probabilidad probabilidades probabilities probability probable probablemente probably probar problem problema problemas probleme problemes problemi problems problème problèmes procedimiento procedimientos procedural procedure procedures proceed procesa procesador procesamiento procesan procesar proceso procesos process processed processes processing processo processor processus procura procés producción produce produced producen producers produces producido producing producir product production productive productividad productivity producto productos products produire produit profesional profesionales profesión profesor professional professionals professor proficient profile profit profitability profitable profits profound profunda profundamente profundas profundidad profundizar profundo profundos program programa programació programación programado programador programadores programar programas programm programme programmed programmer programmers programmieren programmiersprache programming programs progresión progreso progress progression progressive prohibit project projection projects projet prolongado promedio prominent promise promises promising promocionar promoción promote promotes promoting promotion promover prompt prompted prompts prone pronto pronunciación pronunciation proof prop propaganda proper properly properties property propia propias propiedad propiedades propietario propio propios propone propongo proporciona proporcionado proporcional proporcionan proporcionando proporcionar proporcionarme proporcionarte proporciones proporciono proporción proportion proportional proportions proposal propose proposed proposes propre proprietary propuesta propuesto propósito pros prospects prosperidad prosperity protagonist protagonista protección protect protected protecting protection protective protector protege proteger protegerse protegido protegidos protein proteins proteína proteínas protocol protocolo protocolos protocols protones proud prova prove provecho proved proveedores proven provide provided provider providers provides providing proviene provincia provoca provocando provocar provoking prowess proximity proxy proyecto proyectos prueba pruebas przez práctica prácticamente prácticas práctico prácticos préstamos príncipe própria próxima próximo próximos psicología psicológico psicólogo psychological psychologist psychology pt public publica publicaciones publicación publicada publicado publicar publication publicidad publicly publish published publishing puc pudiera pudieran pudo pueblo pueblos pueda puedan puedas puede pueden puedes puedo puente puentes puerta puertas puerto pues puesta puesto puestos pugui puguin puis pull pulled pulling punctuation punishment punk punt punto puntos puntuación puoi pura purchase purchased purchasing pure purely purple purpose purposes pursue pursuing pursuit push pushing puso put puts putting puzzle puzzles può pwd py pygame pyplot python python3 pytorch página páginas pájaros párrafo párrafos pérdida píxeles públic pública públicas público públicos qu quais qual quale quali qualidade qualifications qualified qualities quality qualquer qualsevol quan quand quando quant quantitat quantities quantity quantité quanto quantum qubits queda quedado quedan quedar quedarse quede queden quedó queen quel quelle quellen quelles quello quelque quelques quels quem quema queme queremos querida querido queridos queries quero query quería queso quest questa questi question questions questo questão questões qui quick quickly quiera quieras quiere quieren quieres quiero quiet quijote quin quina quindi quines quinoa quins quinta quisiera quit quitar quite quizá quizás quién quiénes quoi quote quotes què química químicas químico químicos quốc ra race races racial racing racional radar radeon radiación radiation radica radical radio radius rae rails rain rainbow raise raised raises raising raison rallado ram rama ramas ran rand random randomly range ranges ranging rango rank ranking rankings rap rapid rapide rapidement rapidez rapidly rapport rare raro rasgos raspberry rastrear rate rated rates rather rating ratio rational rato ratón raw ray rayos rays raza razas razonamiento razones razón raíces raíz reaccionar reacción reach reached reaches reaching react reaction reactions reactor read read_csv readability readable reader readers readily reading reads ready real reales realice realicen realidad realismo realista realistas realistic realitat reality realiza realización realizadas realizado realizan realizando realizar realize realized realizing realizó really realm realmente realms reason reasonable reasoning reasons recall receive received receives receiving recent recently receta recetas recherche recherches reciba reciban recibe reciben recibido recibir recibió reciente recientemente recientes recipe recipes recipient recipiente recién recoger recognition recognize recognized recognizing recolección recomanable recomendable recomendaciones recomendación recomendada recomendado recomendados recomendar recomendarme recomendarte recomendaría recomendarías recomienda recomiendame recomiendas recomiendo recomiéndame recommend recommendation recommendations recommended recompensa recompensas reconoce reconocer reconocida reconocido reconocidos reconocimiento recopilación recopilar record recordar recorded recording records recorre recorrer recorrido recover recovered recovery recta rectangle rectangular recuerda recuerde recuerdo recuerdos recuperación recuperar recurrent recurrentes recurrir recursive recursively recurso recursos red redacción redacta redactar reddit rede redemption redes reducción reduce reduced reduces reduciendo reducing reducir reduction reduzieren reemplaza reemplazar reemplazo refer reference references referencia referencias referirse referred referring refers refiere refieren refieres refine reflect reflected reflecting reflection reflects refleja reflejan reflejar reflejo reflexionar reflexiones reflexión reform reforma refresh refrigeración refrigerator refuerzo refugio refused regalo regard regarded regarder regarding regardless regards regel regelmäßig regeneration region regional regiones regions register registered registrada registrado registrar registro registros regió región regla reglas regresa regresar regresión regreso regression regresó regret regulaciones regulación regular regulares regularization regularly regularmente regulate regulated regulating regulation regulations regulatory reich reign reina reinado reinforce reinforcement reino reject rel relaciona relacionada relacionadas relacionado relacionados relacionan relacionar relaciones relación relajación relajado relajante relajarte relate related relates relation relational relations relationship relationships relativ relativa relativamente relative relatively relatividad relativity relativo relato relax relaxation relaxed relaxing relação release released releases releasing relevance relevancia relevant relevante relevantes reliability reliable reliance relied relief relies relieve religion religiones religions religiosa religiosas religiosos religious religión reloj relu rely relying remain remained remaining remains remarkable remember remembered remind reminder remonta remote remotely removal remove removed remover removes removing renaissance render rendering rendimiento renewable renovable renovables renowned rent repair reparaciones reparación repeat repeated repeatedly repeating repeats repente repeticiones repetir repetition repetitivas rephrase repite replace replaced replacement replaces replacing replicate replicated replied replies reply repo report reported reporting reports reposar repository reposo represent representa representaciones representación representan representante representantes representar representation representations representative represente represented representing represents reproducción reproduce reproduction reps reptiles republic reputable reputación reputation república requerir requeriría request requested requests requieran requiere requieren require required requirement requirements requires requiring requisito requisitos res resaltar research researchers researching reserva reserves reset reside residents residuos resilience resilient resist resistance resistant resistencia resistente resistentes resize resolución resolution resolve resolved resolver resolving resonance resort resource resources respect respected respectful respectivamente respective respectively respecto respetar respeto respetuosa respetuoso respiración respirar respiratory respond responda respondas responde responder responding respondió responds responsabilidad responsabilidades responsable responsables response responses responsibilities responsibility responsible responsibly responsive resposta respuesta respuestas rest resta restar restart restaurant restaurante restaurantes restaurants reste rester resto restore restos restricciones restrict restricted restrictions restrictive resuelve result resulta resultado resultados resultan resultante resultar resultat resulte resulted resulten resulting results resultó resum resume resumen resumir resumo retail retain retener retention retira retirar retire retos retrasos retrieval retrieve retroalimentación return returned returning returns reunión reusable reutilizables reveal revealed revealing reveals revenue reverse reversed review reviewing reviews revisa revisar revise revisión revista revistas revolución revolution revolutionary revolutionize revolutionized revolves revolviendo reward rewarded rewarding rewards rewrite rey reyes reúne rgb rhyme rhythm rhythms rica ricas rice rich richard richtig richtung rick rico ricos rid riddle ride riding riesgo riesgos right rights rigidez rigorous riguroso rima rime rindas ring rings rio ripe riqueza risa risas rise rises risiko rising risk risks risky risolvere rispetto ritmo ritual river rlhf rm road roads roasted robert roblox robot robotic robotics robots robust robótica rock rocket rocks rocky rodajas rodea rodeado rodríguez rogue roja rojo rojos rol role roleplay roles roll rolle rolling rolls roma roman romana romance romano romanos romantic rome romper romántica romántico ron ronaldo rook room rooms root rooted roots ropa rosa rose roses rostro rot rotación rotate rotating rotation rough roughly round rounded route router routes routine routing row rows royal rpg rtx ru rubber ruby rueda ruedas rugged ruido ruinas ruins rule ruled ruler rules ruling rumbo run runner running runs runtime rural rusa rusia russia russian rust ruta rutas rutina rx ryzen rápida rápidamente rápidas rápido rápidos réduire régimen répondre réponse résoudre résultat río ríos sa sabe sabemos saben saber sabes sabia sabiduría sabio sabor sabores sabía sacar sacrifice sad sadly sadness safe safely safer safety saga sage sagen sagrada said saint sal sala salad salario salarios sale salen sales salida salidas salir saliva salió salmón salsa salt saltar salto salud saludable saludables saludo saludos salut salvador salvaje salvar salvo sam sample samples sampling samsung san sand sandwich sangre sans sant santa santiago santo santos santé sao sapiens sartén satellite satisfacción satisfacer satisfaction satisfactoria satisfecho satisfied satisfy satisfying saturación saturday saturn saturno satélites sauce save saved saves saving savings savoir saw say saying says saúde scalability scalable scalar scale scales scaling scan scanning scarce scared scary scatter scattered scenario scenarios scene scenery scenes scenic schedule scheduled scheint scheme schließlich schnell scholar scholars schon school schools schreibe schreiben schritt schritte schwer schwierig sci science sciences scientific scientifically scientifiques scientist scientists scikit scipy scope score scores scoring scott scrambled scrape scraping scratch screen screens script scripting scripts scroll scss seal sealed seamless seamlessly search searching season seasoned seasons seat seats seca secar secciones sección seco second secondary secondly seconds secos secret secreto secretos secrets section sections sector sectores secuencia secuencias secundaria secundarios secure securely securing security sed see seed seeds seeing seek seeking seeks seem seemed seemingly seems seen sees segment segments segons segueix seguida seguido seguidores seguimiento seguinte seguintes seguir seguirá segunda segundo segundos segur segura seguramente segurança seguras seguretat seguridad seguro seguros seguía según següents sehen sehr sei sein seine seiner seis seit seite seja sejam selbst selecciona seleccionado seleccionar seleccione selección select selected selecting selection selector selects self sell selling sells selon selva sem semana semanal semanas semi semillas sempre sencilla sencillas sencillo sencillos send sender sending sendo sends senior sens sensación sense senses sensibilidad sensible sensibles sensitive sensitivity sensor sensores sensorial sensors sensory sent sentado sentence sentences sentient sentiment sentimiento sentimientos sentir sentirme sentirse sentirte sentía sentó senza seo sepa separa separación separada separadas separado separados separan separar separate separated separately separation sepas september septiembre sequence sequences sequential ser sera serait seres seria serial serian serie series serio serious seriously serve served server servers serves service services servicio servicios servido servidor servidores serving servir ses sesgos sesiones sesión session sessions set set_mode setbacks setmana sets setting settings settle settlement settlements setup setzen seu seul seule seus seva seven several severe severity seves sex sexo sexta sexual sexuales señal señalar señales señor sh shade shadow shadows shake shakespeare shall shallow shape shaped shapes shaping share shared shares sharing sharp shed sheep sheet sheets shell shells shelter shift shifted shine shining ship shipping shit shock shoes shoot shooter shooting shop shopping shops shore short shorter shortest shot shots shoulder shoulders show showcase showcases showed shower showing shown shows shredded shut shy si sia sich sicher sicherheit sicherzustellen sick side sides sido sie sieht siempre siendo sienta sientan sientas sienten sientes siento sierra siete siga sigas sight sights siglas siglo siglos sign signal signaling signals signature signed significa significado significados significan significance significant significantly significar significativa significativamente significativas significativo significativos signifie signo signos signs sigo sigue siguen sigues sigui siguiendo siguiente siguientes siguin siguió silence silencio silent silla silver sim similar similares similarities similarity similarly similitudes simmer simon simple simplement simplemente simpler simples simplest simplicidad simplicity simplificar simplified simplify simply simula simulación simular simulate simulating simulation simulations simultaneously simultáneamente since sincerely sincero sind sing singapur singer single singular sino sintaxis sintió siquiera sir sirva sirve sirven sistema sistemas sister sit site sites sitio sitios sits sitting situaciones situación situada situado situation situations six size sized sizes się skeptical sketch skies skill skilled skillet skills skin skip sky slang sleek sleep sleeping slice sliced slices slicing slide slides slightly slip slow slower slowly small smaller smallest smart smartphone smartphones smell smells smile smiled smiling smith smoke smoking smooth smoothly snack snacks snippet snow soaking soap soberanía sobrevivir sociais social sociales socialista sociedad sociedades societal societat societies society société socket soda sodass sodio sodium soft softmax software sogar soil soit soja sol sola solaire solamente solar solares solche sold soldados soldier soldiers sole soledad soleil solely solicitar solicitud solicitudes solid solide solitaria solitario soll sollen sollte sollten solltest solo solucionar soluciones solución solution solutions solução soluções solve solved solving solía som sombra sombras somebody somehow someone something sometimes somewhat somewhere somit sondern song songs sonido sonidos sono sonrisa sonst sont sony soon sopa sophisticated soportar soporte sorgfältig sorprendente sorpresa sorry sort sorte sorted sortie sorting sortir sorts sostenible sostenibles sostiene sou sought soul souls sound sounds soup sour source sourced sources sous south southern souvent soviet soviética sowie sowohl spa space spaces spacex spaghetti spain spam span spanish spare spark spatial spatula speak speaker speakers speaking speaks special specialist specialize specialized specializes species specific specifically specifications specifics specified specifies specify specifying spectrum speculate speculation speculative speech speed speeds speichern spell spelling spells spend spending spent spezielle sphere spices spicy spider spiele spielen spin spirit spirits spiritual split splitting spoke spoken sport sports spot spotify spots sprache sprachmodell spread spreading spring sprinkle spy sql sqrt square squared squares squats src ssd ssh ssl st stability stable stack stadt staff stage stages stainless stakeholders stakes stand standard standardized standards standing standpoint stands star stark stars start started starting starts startup stata state stated statement statements states static station statistical statistics stato statt stattdessen status stay staying stays std stdio steady steak steal stealing steam steel steep stehen steht stelle stellen stem step stephen stepped stepping steps stereotypes steve stick stil still stimmt stimuli stir stirring stock stocks stolen stomach stone stones stop stopped stopping stops storage store stored stores stories storing storm story storyline storytelling str straight straightforward strain strange strangers strategic strategically strategies strategy stream streaming streams street streets strength strengthen strengths stress stressful stretch stretches stretching strict strictly strike strikes string strings strip strive stroke strom strong stronger strongly struck structural structure structured structures struggle struggles struggling stuck student students studied studies studio studios study studying stuff stumbled stunning stupid sturdy style styles stylesheet sua suas suave suavemente suaves sub subatomic subatómicas subatómico sube subir subject subjective subjects subjetiva subjetivo submit subscribers subscription subsequent subset substance substances substantial substitute substitution subtle subtract subyacente succeed success successes successful successfully sucede suceder sucedido sucedió sucesivamente sucesión sucesos sucesso suche sucre sud sudamérica sudden suddenly sudo suele suelen suelo suena suerte sueño sueños suffer suffering sufficient suficiente suficientemente suficientes sufrimiento sufrir sugar sugerencia sugerencias sugerir sugerirme sugestões suggest suggested suggesting suggestion suggestions suggests sugiere sugieren sugiero suis suit suitable suite suited suits suivant suivants suivre suiza sujet sujeto sujets sul sulla sulle sum suma suman sumando sumar suministro summaries summarization summarize summary summer sun sunday sunlight sunset sunshine super superar superficial superficie superficies superfície superior superiores supernatural superposición superposition supervisado supervised supervision supervisión supervivencia supone supongamos suponiendo supplies supply support supported supporting supportive supports suppose supposed supreme supuesto sur sure surely surface surfaces surge surgir surgió surinam surprise surprising surround surrounded surrounding surroundings surveillance survey surveys survival survive surviving susceptible suscripción suscriptores suspect suspicious sustain sustainability sustainable sustancia sustancias sustantivo sustituir swap sweet swift swimming swing swiss switch switches switching switzerland sword sydney symbol symbolic symbols symphony symptoms sync synchronization syntax synthesis synthetic system systems système systèmes sábado são sé sécurité séptima série símbolo símbolos síntesis síntomas só sócrates sólida sólidas sólido sólidos sólo són sûr są sẽ số sử sự ta tab tabaco tabla tablas table tablero tables tablespoon tablespoons tablet tabletas tabs tackle tacos tactics tag tags tail taille tailor tailored take taken takes taking tal tale talent talented talento tales talk talking talks tall taller talleres tallest tamaño tamaños tambien també também tampoco tan tank tant tanta tantas tantos tap tape tard tarda tarde tarea tareas tarefas target targeted targeting targets tarjeta tarjetas tasa tasas task tasked tasks taste tastes tatsächlich taught taula tax taxes taxi taza tazas tazón tcp tea teach teacher teaches teaching teachings team teams teamwork tear teaspoon teatro tech technical technically technique techniques technological technologie technologies technology techo tecla teclado teclas tecnologia tecnología tecnologías tecnológica tecnológicas tecnológico tecnológicos teenage teeth teil teilen teilweise tejido tejidos tel tela telegram teleport telescope television televisión tell telles telling tells tels teléfono teléfonos tem tema temas temor temperatur temperatura temperaturas temperature temperatures template templates temple templo templos tempo temporada temporal temporary temprana temprano temps température temática ten tend tendencia tendencias tendency tender tendo tends tenen tener tenha tenho tenim tenint tenir tens tension tensiones tensions tensión tensor tensorflow teorema teoria teoría teorías ter terapeuta terapia terapias tercer tercera tercero terceros term terme termes termina terminado terminal terminales terminan terminar termine termini terminó terms terra terrain terre terremotos terreno terrenos terrestre terrestres terrible territorial territorio territorios territory terror tesla tesoro test testament tested testing tests teu teva teves text textbooks texte texto textos texts textual textura texturas texture textures teórica teórico tf th thank thanks theater thee theft thema theme themed themes theo theorem theoretical theories theory therapist therapy therefore thermal thick thickness thin thing things think thinkers thinking third thirst thomas thorough thoroughly though thought thoughtful thoughts thousand thousands thread threads threat threaten threatened threats three threshold thrill thrive throughout throw thrown throws thumb thunder thus thành thì thông thế thể tibia ticket tied tiempo tiempos tienda tiendas tiende tier tierra tierras tight tightly tiktok til till tim time timeline timer times timestamp timing tinc tinder tiny tip tipo tipos tipps tips tipus tira tirar tiras tired tiro tissue tissues titan title titled titles titulo tk tkinter tl toast tobago toca tocar tod toda todas todavía today tofu together toi token tokens tokyo told tolerance tolerancia tolkien tom toma tomada tomadas tomado toman tomando tomar tomaría tomate tomates tomato tomatoes tome tomen tomes tomorrow ton tone tones tongue tonight tono tonos tons took tool tools top topic topics topografía toppings toque torch tormentas torn tornando tornar torno torre torres tortilla tortillas toss tot total totalidad totalmente totes tots touch touched touches touching tough toujours tour tourist tours tous tout toute toutefois toutes toward towards towel tower towering towers town toxic toy toys tra trabaja trabajado trabajadores trabajan trabajando trabajar trabajo trabajos trabajó trabalho trace traced track tracking tracks trade trades tradicional tradicionales tradiciones tradición trading tradition traditional traditionally traditions traducción traduce traducir trae traffic tragedy trail trails train trained training trains trait traits trama tramas tranquilidad tranquilo transacciones transaction transactions transfer transferencia transferred transferring transfiere transform transforma transformaciones transformación transformada transformar transformation transformations transformed transformer transformers transforming transición transit transition translate translated translates translating translation transmisión transmission transmit transmite transmiten transmitir transmitted transparencia transparency transparent transparente transport transportar transportation transporte transported trap trapped traps tras trasera trastorno trastornos trata tratado tratados tratamiento tratamientos tratan tratando tratar trataré trate trauma travail travailler travel traveled traveling travelling travels travers través trayectoria treasure treat treated treating treatment treatments treats treball tree trees treffen trek tren trend trends trenes tres trial trials triangle tribes trick tricks tried tries trigger triggered triggering triggers trigo trim trinidad trip triste tristeza trivial triángulo trobar trois trong trono troops trop tropas tropical trouble troubleshooting trouve trouver trovare trozos true truly trump trust trusted trustworthy truth try trying tráfico très trên três tsp tua tube tudo tuesday tun tune tuned tuning tunnel tunnels tuo tuplas tuple turing turismo turistas turkey turn turned turning turno turns turísticas turístico turísticos tutor tutorial tutoriales tutorials tuttavia tutti tv tweet twice twist twisted twitch twitter two txt tym type typed types typescript typical typically typing tácticas tâches tão té técnica técnicas técnico técnicos térmica término términos têm típica típicamente típico típicos título títulos tôi tại từ tự ubicación ubicada ubicado ubuntu ucrania udemy ui uk ukraine ultima ultimate ultimately ultra um uma umgebung unable unas unauthorized unbedingt uncertainty unclear uncomfortable uncover und undefined underground underlying understand understandable understanding understood une unen unes unesco unethical uneven unexpected unfair unfamiliar unfortunately unidad unidades unidas unido unidos unified uniform uniforme unintended union unique uniquement unir unirse unirte unit united units unity universal universales universally universalmente universe universes universidad universitarios universities university universo unix unió unión unknown unless unlike unlikely unnecessary unpredictable unreal unrest uns unsafe unseen unser unsere unsigned unsure unter unternehmen unterschied unterschiede unterschiedlich unterschiedliche unterstützen unterstützt unterstützung unusual unwanted upbeat upcoming update updated updates updating upgrade upgrading upload uploaded uploading upon upper ups upset upward urano urban urbana urbanas urine url urls uruguay us usa usada usadas usado usados usage usamos usan usando usar usarla usarse usas usb usd use used useful usen usepackage user username users uses usestate using uso usos usr usted ustedes usual usually usuario usuarios usuários utf util utile utiles utilice utilicen utilices utilidad utilisant utilisateur utilisateurs utilisation utilise utilisent utiliser utilisé utilisée utilisés utilities utility utilitza utilitzar utiliza utilizaba utilización utilizada utilizadas utilizado utilizados utilizamos utilizan utilizando utilizar utilizarla utilizarlas utilizarlo utilizarse utilize utilized utilizes utilizing utilizzo utils uv ux v1 v2 va vacaciones vacation vacuum vacía vacío vague vai vainilla vais val vale valencia valentía valeur valeurs valid validación validar validate validation validity valiente valiosa valiosas valioso valley valor valorar valores valuable value valueerror values valve vamos van vanilla vapor var variabilidad variable variables variaciones variación variada variados variant variante variantes variar varias variation variations varied variedad variedade variedades varies varieties variety varios various vary varying varía varían vas vaso vast vasta vastly vaya vayas vea veamos vean veces vecinos vector vectores vectors vegada vegetable vegetables vegetal vegetales vehicle vehicles vehículo vehículos velocidad velocidades velocity vemos ven vencer vender vendidos venezuela vengono venir venta ventaja ventajas ventana ventanas ventas ventilación venus veo ver verano verbal verbales verbessern verbindung verbo verbos verdad verdadera verdadero verde verdes verduras verfügbar verfügung vergleich verifica verificar verified verifique verify vermeiden vers versa versatile versatility verschiedene verschiedenen verse version versiones versions versión verso versos verstehen versuche versuchen versus versátil verter vertical vertically verwenden verwendet verwendung verás ves veterinario veure veut veux vez vezes vi via viable viaja viajando viajar viaje viajes viatge viatjar vibrant vibrante vibrations vice vicente viceversa victim victoria victory vida vidas video videojuego videojuegos videos vidrio vie vieja viejo viel viele vielen vielleicht vielzahl viendo viene vienen viento vientos vier viernes vierte vietnam view viewed viewer viewers views vigente vigilancia vigilant vii village ville vin vinagre vinagreta vinegar vino vintage vio violates violence violencia violent violeta viral virgen virtual virtuales virtud virus viruses visa visibilidad visibility visible vision visit visita visitado visitantes visitar visitas visited visiting visitors visits visión vista vistas vistes visto vistos visual visuales visualización visualizar visualization visualize visually visuals vital vitamin vitamina vitaminas vitesse viu viure viva vivas vive viven vivid vivienda viviendas viviendo vivimos vivir vivió vivo vivos vivía vivían vocabulario vocabulary vocal voces você voice voici void voir vol volar volatile volatility volcanic vols volta voltage voltaje volte volume volumen volumes voluntad volver volvió vom von vor vorschläge vorteile vos votre voulez vous voy voyage voz vpn vr vraiment vram vs vue vuelo vuelta vueltas vuelto vuelva vuelve vulnerabilidad vulnerabilities vulnerability vulnerable và vào válida válido várias vários vía vías vídeo vídeos vínculo về với wahl wahrscheinlich wait waiting wake waking walk walked walking walks wall walls walter wann want wanted wanting wants war waren warfare warm warming warmth warning warrior warriors wars warum wash washington wasser waste watch watched watching water waters watt watts wave wavelength waves way ways weak weakness weaknesses wealth wealthy weapon weapons wear wearing wears weather web webpage website websites week weekly weeks weg weigh weighing weight weighted weights weil weird weit weiter weitere weiteren weiterhin welche welchen welcher welches welcome welfare well wellness welt wenig weniger wenn went wer werde werden wert weshalb west western wet wetter whatever whats whatsapp wheel whenever whereas wherever whether whisk white whole whose wi wichtig wichtige wichtigsten wide widely wider widespread width wie wieder wife wifi wiki wikipedia wild wilderness wildlife william willing willingness willst win wind window windows winds wine wing wings winner winning wins winter wipe wir wird wire wireless wirklich wisdom wise wish wissen witch within without withstand witness wits wizard wo wobei wolf wollen wollte woman women wonder wonderful wondering wonders wood wooden woods word wordpress words work worked worker workers workflow workforce working workout workouts workplace works workshop workshops workspace world worlds worldwide worn worried worry worse worsen worst worth would wound wow wrap write writeline writer writers writing writings written wrong wrote wurde wurden www wählen während wäre würde würden x1 x2 xbox xi xix xlsx xml xss xt xv xvi xvii xviii xx xxi yahoo yaml ye yeah year years yellow yes yet yield yields yoga yogur yogurt york young younger youth youtube youtuber youtubers yum za zahlen zanahoria zanahorias zeigen zeigt zein zeit zelda zen zer zero zeros ziehen zip zombies zona zonas zone zones zoom zu zudem zuen zuerst zugang zugreifen zukunft zum zumo zunächst zur zure zusammen zwar zwei zwischen às ácido áfrica água álbum álgebra ámbito ámbitos ángulo ánimo árabe árbol árboles área áreas átomo átomos ähnlich ça època écrire écrit également élite énergie énfasis épica época épocas és ésta éste était étant étapes état états ética éticas ético éticos étude été éviter éxito êtes être índice óptica óptima órbita órganos óxido öffentlichen última últimamente últimas último últimos únete única únicamente únicas único únicos útil útiles über überprüfen übertragen đó được để że або абсолютно автоматически адрес активно алгоритм алгоритма алгоритмов алгоритмы але анализ анализа анализировать аналогии англ английского английском аппетита аспекты ася багато базе базы без безопасности безопасность библиотеки библиотеку бизнес благодаря более большая больше большие большим большинства большинстве большинство больших большого большое большой большую бота буде будет будете будешь будто буду будут будучи будущее будущем будь будьте було бути бы бывает был была были было быстрее быстро быть більш більше важно важные важным вам вами вариант варианта вариантов варианты варьироваться вас ваш ваша ваше вашего вашей вашем вашему ваши вашим ваших вашу введение вдруг веб ведь века веке вернулся вернуться вероятно вероятность версии вести весь весьма веществ вещества вещи вже взаимодействие взаимодействия взгляд взять ви вид вида виде видео видеть видите видов виду виды вижу википедии вина вклад включает включать включают включая вкус вкусу власти власть влияние влиять вместе вместо внимание внимания внимательно внутри во вовсе вода воде водой воду воды возвращает воздуха возможно возможностей возможности возможность возможные возможных война войны вокруг вона вони вообще вопрос вопроса вопросе вопросов вопросом вопросы воспользоваться воспоминания вот впервые вполне впрочем временем времени время вроде вряд все всегда всего всей вселенной всем всеми всему всех вскоре всю вся всё второй вторых вход входит входных вы выберите выбирать выбор выбором выбрать вывод вывода выглядит выделить вызвать вызывает вызывать выложите выполнение выполнения выполнить выполняет выполнять выражения выразить высокая высоким высокого высокой выходит вычислений вычисления выше вышло від він где генерации генерировать герой главное главный глаза глубокое говорит говорить говоря говорят год года годов году годы голову гораздо город города городе государства готов готовы групп группа группы да давай давайте давно даже дай дайте далее далеко дальше далі данной данном данные данный данным данных даст дать даёт два две движения двумя двух де действие действий действительно действия дела делает делать делают деле дело денег день деньги детей деятельности деятельностью диалог дизайн дизайну для дней дня до добавить добавьте добиться довольно документации долго должен должна должно должны дома домой дополнительные дополнительных допомогою достаточно достижения достичь доступ доступа доступных друг друга другая другие другим другими других другого другое другой другом другому другу другую друзей друзья друзьями дуже думаешь думаю его единственный ее ей ему если есть еще ещё её же желание желания желательно животных живут жизни жизнь жизнью жить за забывайте зависеть зависимости зависит зависят задавать задать задач задача задачах задачей задачи задачу заключается заключение заменить заниматься записи запрос запустите запустить зараз заранее затем зачем защиты звуки звучит здесь здоровье здоровья здравствуйте земле земли землю знает знаете знаешь знаний знания знать значение значений значения значит значительно знаю зовут зрения игр игра играть игре игру игры идеи идет идею идея идти идёт из избавиться избегать избежать известен известно известный известных извините изменение изменения изменить изменять измерения изначально изображение изображений изображения изучать изучение изучения изучить ии или им имеет имеете имеется имени именно иметь имею имеют ими имя иначе ингредиенты иногда инструкции инструментов инструменты интеллект интеллекта интерес интересно интересных интересует интересы интернет интернете интерпретации интерфейс информацией информации информацию информация искать искусства искусственного искусственный использование использованием использовании использования использованы использовать использоваться использует используете используется используйте используют используются используя испытывать исследование исследования исследовать истории историю история источник источники источников источником исходный исходным итак итоге их його каждая каждого каждой каждом каждый кажется казалось как какая какие каким какими каких каковы какого какое какой каком какому какую касается качества качестве качество кг кем книг книге книги книгу кнопку ко когда кого код кода кодом коли количества количестве количество команда командной командой команду команды компании компоненты компьютер компьютера компьютере компьютерная компьютеры кому конец конечно конечном конкретно конкретного конкретной конкретные конкретный конкретных контексте контента контролировать контроль контроля конфликт конфликты конца конце корочки которая которого которое которой котором которому которую которые который которым которыми которых крайне крайней кроме кстати кто куда культурных культуры купить курсы кусочки кілька кількість ладно легко легче лет ли либо линии литературы лица лично личности личных лише лишь ложка ложки лук лучше любви любить люблю любовь любого любое любой любом любые любых людей люди людьми людям максимально масла масло массив массы математики математические материалы машинного мають має между менее меньше меня меняет менять мені мере меры места месте место месяц метод методов методы мешает минимум минут мир мира мире мировой миром миру миску мл мне мнение многие многих много многое множества множество мной мог могла могли могло могу могут моделей модели модель моделью моего моей моему може можем может можете можешь можна можно можуть мозг мозга мои моих мой момент мощный моя моё музыки музыку муки муку мы мысли мышления між на набор навыки навыков над надеюсь надо назад название названием называется называют наиболее найдите найти наконец наличие наличии нам намного наоборот написания написать напиши напишите направлении наприклад например напротив напрямую нарежьте нас населения насколько настолько настоящее настоящий настроение настройки науки научиться научно научной научных находит находится находятся начал начала начале начали начало начать начинает начинается начинают начиная начните наш наша наше нашего нашей нашем наши наших не небольшую невозможно негативных него недавно недостатки ней нейронной нейронные нейронных нейросети нейросеть некоторое некоторые некоторых нельзя нем немного нему необходимо необходимости необходимые неплохо нескольких несколько несмотря нет неё ни нибудь ниже никак никаких никакой никогда никто ним ними них ничего но нового новое новую новые новый новых нормы ночи нравится ну нужен нужна нужно нужны нём ніж об оба обеспечение обеспечения обеспечивает обеспечить обладает обладают области область областях обоих оборудования обрабатывать обработки образ образование образования образом обратите обратиться обращаться обучение обучения общаться общего общей общем общение общения общества обществе общество общие общий общих объект объекта объектов объекты объясни объяснить объясняет объём обычно обычных обязательно огне огня огонь ограничения один одна однажды однако одним одно одновременно одного одной одном одному одну ознакомиться означает оказывается около он она они онлайн оно операции операций описание описания опиши определение определения определенной определенные определенных определите определить определяет определяется оптимизации опыт опыта организации организм организма органов основана основе основная основной основном основные основных основу основы особенно особенностей особенности оставаться остается остановить остаётся ось от ответ ответа ответить ответов ответственность ответы отвечает отвечать отдельные откройте открытым отличается отличаться отличаются отличие отлично отметить относительно относится относятся отношение отношении отношений отношения отсутствие отсутствия оценить оценка оценки очевидно очень очередь ошибки ошибок памяти память параметров параметры пару первая первого первое первой первом первую первые первый первым первых перевод перед передачи перейти перемешайте перец период персонажей перспективе писал писать письма письмо питания питання пить план планете планеты планы плохо по поведение поведения поверхности поверхность повлиять поводу повысить поговорить под поддерживает поддерживать поддержка поддержки поддержку поделиться подобные подобных подойдут подразумевает подробнее подробно подскажи подумать подход подхода подходит пожалуйста позволит позволяет позволяют поздно поиска пока показать показаться показывает поле полезно полезным политика политики политических политической полной полностью полный положение положите положительные получает получается получать получения получил получили получится получить пользователей пользователь пользователя поля помимо помните помнить помогает помогать помогают помоги помогут поможет помочь помощи помощь помощью понадобится понимаете понимание понимания понимать понимаю понравится понял понятие понятия понятно понять попробовать попробуйте попробую популярный популярных попытаться попытка пор порекомендовать порядка порядке поскольку после последнее последние последний последствия посмотреть посоветовать посоветуй постараюсь постепенно постоянно построить потенциально потенциальных потом потому потребностей потребоваться потребуется потрібно похоже почему почти поэтому прав права правда правил правила правило правильно правильного право практике практики практически превышает предлагает предложение предложи предложить предмет предметы предоставить предоставляет предотвратить предполагает предположить предпочтений предпринять представить представление представляет представляют представьте предыдущего прежде преимуществ преимущества прекрасно при приведи привело привести привет приводит приготовить приготовления придумай придумать придётся признаки приложение приложений приложения применение применения пример примере примерно примеров примером примеру примеры принимает принимать принцип принципы принятия принять природе природы причин причина причинам причиной причины причём приятно приятного про проблем проблема проблемой проблемы проверить проверки проверьте проверять провести проводить программ программа программирования программного программное программу программы продолжает продолжать продолжение продукт продуктов продукты проект проекта проектах проектов проекты произведение производительности производства произошло происходит происходить пройти простите просто простого простой пространства простые простым простых против процесс процесса процессе прочитать прошу проще прощения прямо пункт пусть путем путешествие пути путь путём пытаться пяти пять під після работа работает работать работают работе работу работы равна равно рад ради раз разве развитие развитию развития различия различные различными различных размер размера разница разные разным разными разных разобраться разработан разработка разработке разработки разработчики разработчиков разрешение разрешения рамках ранее раньше распространения распространенных расскажи рассказать рассказывает рассматривать рассмотрим растений расти растительного расширения реакции реализации реализация реально реальности регулярно режим результат результате результатов результаты рекомендации рекомендуется рекомендую ресурсов ресурсы рецепт речи речь решать решение решением решений решения решил решить риск рода року років роли роль россии российской рост роста році руки русский русского русском рынке рынок ряд рядом сайт сайта сайте сайтов сайты сам сама самая саме сами само самого самое самой самом самостоятельно самые самый самым самых сахара свет света свободно свободу свое своего своей своем своему свои своим своими своих свой свойства свою своё своём связан связанные связанных связано связаны связей связи связь сделай сделал сделать себе себя сегодня сейчас семи семьи сердце серии сетей сети сеть сетях сидит сил силу силы сильно систем система системе системой систему системы ситуации ситуацию ситуация ситуациях сих скажем скажи сказал сказать сковороде сколько скорее скорость скрипт скільки слегка следовать следует следующее следующие следующий следующим следующих слишком слов слова словами слово сложно сложной сложности сложность сложные сложный сложным сложных случае случаев случайно случаях слушай слышал см смерти смерть смешайте смог смогу сможет сможете смысл смысла смысле сна сначала снова сном со собой собрать собственной собственные событий события событиях совершенно советов советы современном современные современных совсем согласно содержания содержат содержать содержит сожалению создавать создавая создает создайте создан создание создании созданию создания создать создаёт сознания соли солнца солнце соль сон сообщение сообщений сообщения соответственно соответствии соответствует соответствующие состав составляет состоит состояние состоянии состояния сохранения сохранить сохранять социальной социальные социальных спасибо специалисту специально специальных списка список спокойствие способ способа способами способности способность способностью способов способом способы справиться спросить спустя сравнению сразу среде среди среднем средств средства среды ссср ссылки ссылку стал стала стали стало станет становится старайтесь стать статья степени стесняйтесь стиле стоимость стоит столовые столько сторон сторону стороны стран странах стране странно страны страх стремится строго строке строки структуру структуры сумму сути существует существуют сфере считаете считается считать считают счёт сша сюжет та так такая таке также таки такие такий таким такими таких такого такое також такой таком такі там твоего твои твой те тебе тебя текст текста текстов тексты тела тело тем тема температура температуре температуру температуры тему темы теории теория теперь тепло термин теста тестирования тех техники технических технологии технологий течение ти тип типа типов ткани то тобой тобто товары тогда того тоже той только том тому тот точки точнее точно точность транспорт требования требует требуется требуют три трудно трудности трёх ту туда тут тщательно ты тысяч убедитесь увеличить увидеть увы удалось удовольствие удовольствием удовольствия уж уже узнать улучшение улучшить умеешь уменьшить умею управление управления управлять уровень уровне уровнем уровня усилия условий условия условиях услуги услышать успеха успешно установите установить установки устройств устройства устройство уточните уточнить участие учитывать учитывая учиться учёные ущерб файл факт факторов факторы фильм фильмов форма форме форму формы функции функций функционирования функцию функция характер характеристики хорошего хорошо хотел хотели хотелось хотите хоть хотя хочет хочешь хочу цвет цвета це цей целей цели целом цель целью ценности центре цены цих цього ці час часов части частности часто часть частью чат чаще чего человек человека человеком человеку человеческих человеческого человечество чем чему через честно четыре чи чисел числа числе число читать чому что чтобы чувств чувства чувство чувствовать чувствуете чуть чём шаг шаги шагов широко школе ще що щоб экономике экономики экран электронной электронных элемент элементов элементы эмоции эмоций энергии энергию эта этапе эти этим этими этих это этого этой этом этому этот эту эффект эффективно явление является являться являюсь являются язык языка языке языки языков языковая языковой языковых языком яйца як яка який яких якого якщо які ясно із інші існує їх її กต กท กผ กร กล กว ของค ขอบค คร ความร ความส งกล งข งค งต งท งน งม งส งเป งไงด งไม จจ จร จะม จำเป ณค ณต ณนะ ณม ณร ณได ดข ดต ดว ดส ดเห ตว ตอนน ทธ ทำให นก นข นค นจ นช นด นต นถ นท นธ นน นม นย นร นว นส นหน นอ นอกจากน นอย นะ นเก นเป นเพ นเร นโมเดลภาษา นได นไม นๆ บค บฉ บต บท บผ บร บส ปร มต มพ มากกว มเต ยก ยกว ยง ยท ยน ยนร ยว ยวก ระหว วค วย วยเหล วยให วอย ษย สด สร สว สำหร หน หร หากค อก อค อง องก องต องท องม องใช อด อต อท อน อนก อป อม อย อร อว อส อให อไม าก าค าง างก างเช างไร างไรก างไรด างๆ าท าน าม าย าร าว าส าไม เก เข เค เช เด เท เน เป เพ เม เร เล เห เหล แก แต แน แนะนำให แล โอเค ใช ให ไข ได ไม ไหม 但是 你好 你是谁 例如 其次 同时 因此 好的 当然 当然可以 很抱歉 总之 总的来说 您好 我是open 所以 是的 最后 最後 此外 比如 然而 相比之下 综上所述 请注意 谢谢 谢谢你 首先\n"
          ]
        }
      ],
      "source": [
        "print(*vectorizer.get_feature_names_out())"
      ]
    },
    {
      "cell_type": "code",
      "execution_count": 53,
      "metadata": {},
      "outputs": [
        {
          "data": {
            "image/png": "[encoded data removed]",
            "text/plain": [
              "<Figure size 1000x800 with 1 Axes>"
            ]
          },
          "metadata": {},
          "output_type": "display_data"
        }
      ],
      "source": [
        "import pandas as pd\n",
        "from sklearn.feature_extraction.text import CountVectorizer\n",
        "import matplotlib.pyplot as plt\n",
        "\n",
        "# Get feature names\n",
        "feature_names = vectorizer.get_feature_names_out()\n",
        "\n",
        "# Sum up the counts of each term in all documents\n",
        "sums = X.sum(axis=0)  # Sum over columns to get total counts for each feature\n",
        "\n",
        "# Connecting term names with their sums\n",
        "freq = [(word, sums[0, idx]) for word, idx in zip(feature_names, range(sums.shape[1]))]\n",
        "# Sorting the list of tuples by frequency\n",
        "sorted_freq = sorted(freq, key=lambda x: x[1], reverse=True)\n",
        "\n",
        "# Creating DataFrame from the sorted frequencies for easier plotting\n",
        "freq_df = pd.DataFrame(sorted_freq, columns=[\"term\", \"frequency\"])\n",
        "\n",
        "# Plotting the top N most frequent terms\n",
        "top_n = 20\n",
        "plt.figure(figsize=(10, 8))  # Set the figure size\n",
        "sns.barplot(data=freq_df.head(top_n), x=\"frequency\", y=\"term\", palette=\"viridis\")\n",
        "plt.title(\"Top 20 Most Frequent Terms\")\n",
        "plt.xlabel(\"Frequency\")\n",
        "plt.ylabel(\"Terms\")\n",
        "plt.show()"
      ]
    },
    {
      "cell_type": "code",
      "execution_count": 54,
      "metadata": {},
      "outputs": [
        {
          "name": "stderr",
          "output_type": "stream",
          "text": [
            "C:\\Users\\filip\\AppData\\Local\\Temp\\ipykernel_14740\\3825800366.py:7: UserWarning: Ignoring `palette` because no `hue` variable has been assigned.\n",
            "  sns.scatterplot(data=freq_df.head(top_n), x=\"frequency\", y=\"term\", size=\"frequency\", sizes=(100, 1000), palette=\"viridis\")\n"
          ]
        },
        {
          "data": {
            "image/png": "[encoded data removed]",
            "text/plain": [
              "<Figure size 1000x800 with 1 Axes>"
            ]
          },
          "metadata": {},
          "output_type": "display_data"
        }
      ],
      "source": [
        "# make another plot with the most frequent terms that most frequently appear like bubble chart, use data which you have\n",
        "\n",
        "# Plotting the top N most frequent terms\n",
        "\n",
        "plt.figure(figsize=(10, 8))  # Set the figure size\n",
        "\n",
        "sns.scatterplot(data=freq_df.head(top_n), x=\"frequency\", y=\"term\", size=\"frequency\", sizes=(100, 1000), palette=\"viridis\")\n",
        "plt.title(\"Top 20 Most Frequent Terms\")\n",
        "plt.xlabel(\"Frequency\")\n",
        "plt.ylabel(\"Terms\")\n",
        "plt.show()\n"
      ]
    }
  ],
  "metadata": {
    "colab": {
      "provenance": []
    },
    "kernelspec": {
      "display_name": "Python 3",
      "name": "python3"
    },
    "language_info": {
      "codemirror_mode": {
        "name": "ipython",
        "version": 3
      },
      "file_extension": ".py",
      "mimetype": "text/x-python",
      "name": "python",
      "nbconvert_exporter": "python",
      "pygments_lexer": "ipython3",
      "version": "3.11.4"
    },
    "widgets": {
      "application/vnd.jupyter.widget-state+json": {
        "02e84784f9764550b000933dbc70c558": {
          "model_module": "@jupyter-widgets/base",
          "model_module_version": "1.2.0",
          "model_name": "LayoutModel",
          "state": {
            "_model_module": "@jupyter-widgets/base",
            "_model_module_version": "1.2.0",
            "_model_name": "LayoutModel",
            "_view_count": null,
            "_view_module": "@jupyter-widgets/base",
            "_view_module_version": "1.2.0",
            "_view_name": "LayoutView",
            "align_content": null,
            "align_items": null,
            "align_self": null,
            "border": null,
            "bottom": null,
            "display": null,
            "flex": null,
            "flex_flow": null,
            "grid_area": null,
            "grid_auto_columns": null,
            "grid_auto_flow": null,
            "grid_auto_rows": null,
            "grid_column": null,
            "grid_gap": null,
            "grid_row": null,
            "grid_template_areas": null,
            "grid_template_columns": null,
            "grid_template_rows": null,
            "height": null,
            "justify_content": null,
            "justify_items": null,
            "left": null,
            "margin": null,
            "max_height": null,
            "max_width": null,
            "min_height": null,
            "min_width": null,
            "object_fit": null,
            "object_position": null,
            "order": null,
            "overflow": null,
            "overflow_x": null,
            "overflow_y": null,
            "padding": null,
            "right": null,
            "top": null,
            "visibility": null,
            "width": null
          }
        },
        "08d2090f14cf46878ed8daeec54af132": {
          "model_module": "@jupyter-widgets/base",
          "model_module_version": "1.2.0",
          "model_name": "LayoutModel",
          "state": {
            "_model_module": "@jupyter-widgets/base",
            "_model_module_version": "1.2.0",
            "_model_name": "LayoutModel",
            "_view_count": null,
            "_view_module": "@jupyter-widgets/base",
            "_view_module_version": "1.2.0",
            "_view_name": "LayoutView",
            "align_content": null,
            "align_items": null,
            "align_self": null,
            "border": null,
            "bottom": null,
            "display": null,
            "flex": null,
            "flex_flow": null,
            "grid_area": null,
            "grid_auto_columns": null,
            "grid_auto_flow": null,
            "grid_auto_rows": null,
            "grid_column": null,
            "grid_gap": null,
            "grid_row": null,
            "grid_template_areas": null,
            "grid_template_columns": null,
            "grid_template_rows": null,
            "height": null,
            "justify_content": null,
            "justify_items": null,
            "left": null,
            "margin": null,
            "max_height": null,
            "max_width": null,
            "min_height": null,
            "min_width": null,
            "object_fit": null,
            "object_position": null,
            "order": null,
            "overflow": null,
            "overflow_x": null,
            "overflow_y": null,
            "padding": null,
            "right": null,
            "top": null,
            "visibility": null,
            "width": null
          }
        },
        "0cb82cd000a34ecaa4a24b7639bedc80": {
          "model_module": "@jupyter-widgets/controls",
          "model_module_version": "1.5.0",
          "model_name": "HBoxModel",
          "state": {
            "_dom_classes": [],
            "_model_module": "@jupyter-widgets/controls",
            "_model_module_version": "1.5.0",
            "_model_name": "HBoxModel",
            "_view_count": null,
            "_view_module": "@jupyter-widgets/controls",
            "_view_module_version": "1.5.0",
            "_view_name": "HBoxView",
            "box_style": "",
            "children": [
              "IPY_MODEL_877812f447fa426994de88b237dafd80",
              "IPY_MODEL_e19c27f417694f15a69b2b6987d0a471",
              "IPY_MODEL_5450df6b1e2448d4a587fa828f9b9d5c"
            ],
            "layout": "IPY_MODEL_3f0e24d7f61c428dac396387bd9b8e1a"
          }
        },
        "13cb26101a5746e19cfd0085ac811c8c": {
          "model_module": "@jupyter-widgets/base",
          "model_module_version": "1.2.0",
          "model_name": "LayoutModel",
          "state": {
            "_model_module": "@jupyter-widgets/base",
            "_model_module_version": "1.2.0",
            "_model_name": "LayoutModel",
            "_view_count": null,
            "_view_module": "@jupyter-widgets/base",
            "_view_module_version": "1.2.0",
            "_view_name": "LayoutView",
            "align_content": null,
            "align_items": null,
            "align_self": null,
            "border": null,
            "bottom": null,
            "display": null,
            "flex": null,
            "flex_flow": null,
            "grid_area": null,
            "grid_auto_columns": null,
            "grid_auto_flow": null,
            "grid_auto_rows": null,
            "grid_column": null,
            "grid_gap": null,
            "grid_row": null,
            "grid_template_areas": null,
            "grid_template_columns": null,
            "grid_template_rows": null,
            "height": null,
            "justify_content": null,
            "justify_items": null,
            "left": null,
            "margin": null,
            "max_height": null,
            "max_width": null,
            "min_height": null,
            "min_width": null,
            "object_fit": null,
            "object_position": null,
            "order": null,
            "overflow": null,
            "overflow_x": null,
            "overflow_y": null,
            "padding": null,
            "right": null,
            "top": null,
            "visibility": null,
            "width": null
          }
        },
        "20742a5208f84357ad523caeab7bce11": {
          "model_module": "@jupyter-widgets/controls",
          "model_module_version": "1.5.0",
          "model_name": "HTMLModel",
          "state": {
            "_dom_classes": [],
            "_model_module": "@jupyter-widgets/controls",
            "_model_module_version": "1.5.0",
            "_model_name": "HTMLModel",
            "_view_count": null,
            "_view_module": "@jupyter-widgets/controls",
            "_view_module_version": "1.5.0",
            "_view_name": "HTMLView",
            "description": "",
            "description_tooltip": null,
            "layout": "IPY_MODEL_55c535f122dc47498ffad9dab206dced",
            "placeholder": "​",
            "style": "IPY_MODEL_5dbbf8c8285b4aefa8b8341a034298f5",
            "value": " 395/395 [00:00&lt;00:00, 17.3kB/s]"
          }
        },
        "2441716ab068433dba54017a5d53c3af": {
          "model_module": "@jupyter-widgets/controls",
          "model_module_version": "1.5.0",
          "model_name": "DescriptionStyleModel",
          "state": {
            "_model_module": "@jupyter-widgets/controls",
            "_model_module_version": "1.5.0",
            "_model_name": "DescriptionStyleModel",
            "_view_count": null,
            "_view_module": "@jupyter-widgets/base",
            "_view_module_version": "1.2.0",
            "_view_name": "StyleView",
            "description_width": ""
          }
        },
        "24ef5fc62f4f49398f60aa54b79b473b": {
          "model_module": "@jupyter-widgets/controls",
          "model_module_version": "1.5.0",
          "model_name": "HBoxModel",
          "state": {
            "_dom_classes": [],
            "_model_module": "@jupyter-widgets/controls",
            "_model_module_version": "1.5.0",
            "_model_name": "HBoxModel",
            "_view_count": null,
            "_view_module": "@jupyter-widgets/controls",
            "_view_module_version": "1.5.0",
            "_view_name": "HBoxView",
            "box_style": "",
            "children": [
              "IPY_MODEL_290379391e8a4488a637a759ef120052",
              "IPY_MODEL_d497ff17d92243b39eed6b178f63d8f6",
              "IPY_MODEL_b021ef90c2064ff4841c174a5321ed3d"
            ],
            "layout": "IPY_MODEL_d8803f3537ab42a4809cfca46ad890cd"
          }
        },
        "25028418d18d40e289dc7abf01fedc99": {
          "model_module": "@jupyter-widgets/controls",
          "model_module_version": "1.5.0",
          "model_name": "ProgressStyleModel",
          "state": {
            "_model_module": "@jupyter-widgets/controls",
            "_model_module_version": "1.5.0",
            "_model_name": "ProgressStyleModel",
            "_view_count": null,
            "_view_module": "@jupyter-widgets/base",
            "_view_module_version": "1.2.0",
            "_view_name": "StyleView",
            "bar_color": null,
            "description_width": ""
          }
        },
        "290379391e8a4488a637a759ef120052": {
          "model_module": "@jupyter-widgets/controls",
          "model_module_version": "1.5.0",
          "model_name": "HTMLModel",
          "state": {
            "_dom_classes": [],
            "_model_module": "@jupyter-widgets/controls",
            "_model_module_version": "1.5.0",
            "_model_name": "HTMLModel",
            "_view_count": null,
            "_view_module": "@jupyter-widgets/controls",
            "_view_module_version": "1.5.0",
            "_view_name": "HTMLView",
            "description": "",
            "description_tooltip": null,
            "layout": "IPY_MODEL_13cb26101a5746e19cfd0085ac811c8c",
            "placeholder": "​",
            "style": "IPY_MODEL_2441716ab068433dba54017a5d53c3af",
            "value": "Generating test split: 100%"
          }
        },
        "34352f8edc734177a4dd5aa65e923f8e": {
          "model_module": "@jupyter-widgets/base",
          "model_module_version": "1.2.0",
          "model_name": "LayoutModel",
          "state": {
            "_model_module": "@jupyter-widgets/base",
            "_model_module_version": "1.2.0",
            "_model_name": "LayoutModel",
            "_view_count": null,
            "_view_module": "@jupyter-widgets/base",
            "_view_module_version": "1.2.0",
            "_view_name": "LayoutView",
            "align_content": null,
            "align_items": null,
            "align_self": null,
            "border": null,
            "bottom": null,
            "display": null,
            "flex": null,
            "flex_flow": null,
            "grid_area": null,
            "grid_auto_columns": null,
            "grid_auto_flow": null,
            "grid_auto_rows": null,
            "grid_column": null,
            "grid_gap": null,
            "grid_row": null,
            "grid_template_areas": null,
            "grid_template_columns": null,
            "grid_template_rows": null,
            "height": null,
            "justify_content": null,
            "justify_items": null,
            "left": null,
            "margin": null,
            "max_height": null,
            "max_width": null,
            "min_height": null,
            "min_width": null,
            "object_fit": null,
            "object_position": null,
            "order": null,
            "overflow": null,
            "overflow_x": null,
            "overflow_y": null,
            "padding": null,
            "right": null,
            "top": null,
            "visibility": null,
            "width": null
          }
        },
        "368b293ca59f4a769b2709621d7ae2a0": {
          "model_module": "@jupyter-widgets/controls",
          "model_module_version": "1.5.0",
          "model_name": "FloatProgressModel",
          "state": {
            "_dom_classes": [],
            "_model_module": "@jupyter-widgets/controls",
            "_model_module_version": "1.5.0",
            "_model_name": "FloatProgressModel",
            "_view_count": null,
            "_view_module": "@jupyter-widgets/controls",
            "_view_module_version": "1.5.0",
            "_view_name": "ProgressView",
            "bar_style": "success",
            "description": "",
            "description_tooltip": null,
            "layout": "IPY_MODEL_71c089c0388f4cd5999dd2cd3e80ec27",
            "max": 20877686,
            "min": 0,
            "orientation": "horizontal",
            "style": "IPY_MODEL_e4b978df62cd49dca6f901269fc2440c",
            "value": 20877686
          }
        },
        "3d3fc9747b1e4c7690ab770a9243ec73": {
          "model_module": "@jupyter-widgets/base",
          "model_module_version": "1.2.0",
          "model_name": "LayoutModel",
          "state": {
            "_model_module": "@jupyter-widgets/base",
            "_model_module_version": "1.2.0",
            "_model_name": "LayoutModel",
            "_view_count": null,
            "_view_module": "@jupyter-widgets/base",
            "_view_module_version": "1.2.0",
            "_view_name": "LayoutView",
            "align_content": null,
            "align_items": null,
            "align_self": null,
            "border": null,
            "bottom": null,
            "display": null,
            "flex": null,
            "flex_flow": null,
            "grid_area": null,
            "grid_auto_columns": null,
            "grid_auto_flow": null,
            "grid_auto_rows": null,
            "grid_column": null,
            "grid_gap": null,
            "grid_row": null,
            "grid_template_areas": null,
            "grid_template_columns": null,
            "grid_template_rows": null,
            "height": null,
            "justify_content": null,
            "justify_items": null,
            "left": null,
            "margin": null,
            "max_height": null,
            "max_width": null,
            "min_height": null,
            "min_width": null,
            "object_fit": null,
            "object_position": null,
            "order": null,
            "overflow": null,
            "overflow_x": null,
            "overflow_y": null,
            "padding": null,
            "right": null,
            "top": null,
            "visibility": null,
            "width": null
          }
        },
        "3f0e24d7f61c428dac396387bd9b8e1a": {
          "model_module": "@jupyter-widgets/base",
          "model_module_version": "1.2.0",
          "model_name": "LayoutModel",
          "state": {
            "_model_module": "@jupyter-widgets/base",
            "_model_module_version": "1.2.0",
            "_model_name": "LayoutModel",
            "_view_count": null,
            "_view_module": "@jupyter-widgets/base",
            "_view_module_version": "1.2.0",
            "_view_name": "LayoutView",
            "align_content": null,
            "align_items": null,
            "align_self": null,
            "border": null,
            "bottom": null,
            "display": null,
            "flex": null,
            "flex_flow": null,
            "grid_area": null,
            "grid_auto_columns": null,
            "grid_auto_flow": null,
            "grid_auto_rows": null,
            "grid_column": null,
            "grid_gap": null,
            "grid_row": null,
            "grid_template_areas": null,
            "grid_template_columns": null,
            "grid_template_rows": null,
            "height": null,
            "justify_content": null,
            "justify_items": null,
            "left": null,
            "margin": null,
            "max_height": null,
            "max_width": null,
            "min_height": null,
            "min_width": null,
            "object_fit": null,
            "object_position": null,
            "order": null,
            "overflow": null,
            "overflow_x": null,
            "overflow_y": null,
            "padding": null,
            "right": null,
            "top": null,
            "visibility": null,
            "width": null
          }
        },
        "47b4cdf77ba84c62bdd65059a70372e4": {
          "model_module": "@jupyter-widgets/controls",
          "model_module_version": "1.5.0",
          "model_name": "HTMLModel",
          "state": {
            "_dom_classes": [],
            "_model_module": "@jupyter-widgets/controls",
            "_model_module_version": "1.5.0",
            "_model_name": "HTMLModel",
            "_view_count": null,
            "_view_module": "@jupyter-widgets/controls",
            "_view_module_version": "1.5.0",
            "_view_name": "HTMLView",
            "description": "",
            "description_tooltip": null,
            "layout": "IPY_MODEL_ce6754f496904d22860be6525f77e6b1",
            "placeholder": "​",
            "style": "IPY_MODEL_f00bd38fd36b48fd962f0ca3c6666675",
            "value": "Downloading data: 100%"
          }
        },
        "48e98e43a19842c19726a5a78008597d": {
          "model_module": "@jupyter-widgets/controls",
          "model_module_version": "1.5.0",
          "model_name": "DescriptionStyleModel",
          "state": {
            "_model_module": "@jupyter-widgets/controls",
            "_model_module_version": "1.5.0",
            "_model_name": "DescriptionStyleModel",
            "_view_count": null,
            "_view_module": "@jupyter-widgets/base",
            "_view_module_version": "1.2.0",
            "_view_name": "StyleView",
            "description_width": ""
          }
        },
        "530210ca296d477c8c75aed4536ac1af": {
          "model_module": "@jupyter-widgets/controls",
          "model_module_version": "1.5.0",
          "model_name": "DescriptionStyleModel",
          "state": {
            "_model_module": "@jupyter-widgets/controls",
            "_model_module_version": "1.5.0",
            "_model_name": "DescriptionStyleModel",
            "_view_count": null,
            "_view_module": "@jupyter-widgets/base",
            "_view_module_version": "1.2.0",
            "_view_name": "StyleView",
            "description_width": ""
          }
        },
        "5450df6b1e2448d4a587fa828f9b9d5c": {
          "model_module": "@jupyter-widgets/controls",
          "model_module_version": "1.5.0",
          "model_name": "HTMLModel",
          "state": {
            "_dom_classes": [],
            "_model_module": "@jupyter-widgets/controls",
            "_model_module_version": "1.5.0",
            "_model_name": "HTMLModel",
            "_view_count": null,
            "_view_module": "@jupyter-widgets/controls",
            "_view_module_version": "1.5.0",
            "_view_name": "HTMLView",
            "description": "",
            "description_tooltip": null,
            "layout": "IPY_MODEL_b78a508ef3a440dc9ab715095dabbf1a",
            "placeholder": "​",
            "style": "IPY_MODEL_a8f7e29d03c74ff8a1dbd0eaa4be2b4a",
            "value": " 9846/9846 [00:00&lt;00:00, 28370.86 examples/s]"
          }
        },
        "55c535f122dc47498ffad9dab206dced": {
          "model_module": "@jupyter-widgets/base",
          "model_module_version": "1.2.0",
          "model_name": "LayoutModel",
          "state": {
            "_model_module": "@jupyter-widgets/base",
            "_model_module_version": "1.2.0",
            "_model_name": "LayoutModel",
            "_view_count": null,
            "_view_module": "@jupyter-widgets/base",
            "_view_module_version": "1.2.0",
            "_view_name": "LayoutView",
            "align_content": null,
            "align_items": null,
            "align_self": null,
            "border": null,
            "bottom": null,
            "display": null,
            "flex": null,
            "flex_flow": null,
            "grid_area": null,
            "grid_auto_columns": null,
            "grid_auto_flow": null,
            "grid_auto_rows": null,
            "grid_column": null,
            "grid_gap": null,
            "grid_row": null,
            "grid_template_areas": null,
            "grid_template_columns": null,
            "grid_template_rows": null,
            "height": null,
            "justify_content": null,
            "justify_items": null,
            "left": null,
            "margin": null,
            "max_height": null,
            "max_width": null,
            "min_height": null,
            "min_width": null,
            "object_fit": null,
            "object_position": null,
            "order": null,
            "overflow": null,
            "overflow_x": null,
            "overflow_y": null,
            "padding": null,
            "right": null,
            "top": null,
            "visibility": null,
            "width": null
          }
        },
        "5dbbf8c8285b4aefa8b8341a034298f5": {
          "model_module": "@jupyter-widgets/controls",
          "model_module_version": "1.5.0",
          "model_name": "DescriptionStyleModel",
          "state": {
            "_model_module": "@jupyter-widgets/controls",
            "_model_module_version": "1.5.0",
            "_model_name": "DescriptionStyleModel",
            "_view_count": null,
            "_view_module": "@jupyter-widgets/base",
            "_view_module_version": "1.2.0",
            "_view_name": "StyleView",
            "description_width": ""
          }
        },
        "669dd15ce9d84be0b52690ae1c939ee1": {
          "model_module": "@jupyter-widgets/base",
          "model_module_version": "1.2.0",
          "model_name": "LayoutModel",
          "state": {
            "_model_module": "@jupyter-widgets/base",
            "_model_module_version": "1.2.0",
            "_model_name": "LayoutModel",
            "_view_count": null,
            "_view_module": "@jupyter-widgets/base",
            "_view_module_version": "1.2.0",
            "_view_name": "LayoutView",
            "align_content": null,
            "align_items": null,
            "align_self": null,
            "border": null,
            "bottom": null,
            "display": null,
            "flex": null,
            "flex_flow": null,
            "grid_area": null,
            "grid_auto_columns": null,
            "grid_auto_flow": null,
            "grid_auto_rows": null,
            "grid_column": null,
            "grid_gap": null,
            "grid_row": null,
            "grid_template_areas": null,
            "grid_template_columns": null,
            "grid_template_rows": null,
            "height": null,
            "justify_content": null,
            "justify_items": null,
            "left": null,
            "margin": null,
            "max_height": null,
            "max_width": null,
            "min_height": null,
            "min_width": null,
            "object_fit": null,
            "object_position": null,
            "order": null,
            "overflow": null,
            "overflow_x": null,
            "overflow_y": null,
            "padding": null,
            "right": null,
            "top": null,
            "visibility": null,
            "width": null
          }
        },
        "71c089c0388f4cd5999dd2cd3e80ec27": {
          "model_module": "@jupyter-widgets/base",
          "model_module_version": "1.2.0",
          "model_name": "LayoutModel",
          "state": {
            "_model_module": "@jupyter-widgets/base",
            "_model_module_version": "1.2.0",
            "_model_name": "LayoutModel",
            "_view_count": null,
            "_view_module": "@jupyter-widgets/base",
            "_view_module_version": "1.2.0",
            "_view_name": "LayoutView",
            "align_content": null,
            "align_items": null,
            "align_self": null,
            "border": null,
            "bottom": null,
            "display": null,
            "flex": null,
            "flex_flow": null,
            "grid_area": null,
            "grid_auto_columns": null,
            "grid_auto_flow": null,
            "grid_auto_rows": null,
            "grid_column": null,
            "grid_gap": null,
            "grid_row": null,
            "grid_template_areas": null,
            "grid_template_columns": null,
            "grid_template_rows": null,
            "height": null,
            "justify_content": null,
            "justify_items": null,
            "left": null,
            "margin": null,
            "max_height": null,
            "max_width": null,
            "min_height": null,
            "min_width": null,
            "object_fit": null,
            "object_position": null,
            "order": null,
            "overflow": null,
            "overflow_x": null,
            "overflow_y": null,
            "padding": null,
            "right": null,
            "top": null,
            "visibility": null,
            "width": null
          }
        },
        "778757ae1d834c8381c0248a6a353e6e": {
          "model_module": "@jupyter-widgets/controls",
          "model_module_version": "1.5.0",
          "model_name": "DescriptionStyleModel",
          "state": {
            "_model_module": "@jupyter-widgets/controls",
            "_model_module_version": "1.5.0",
            "_model_name": "DescriptionStyleModel",
            "_view_count": null,
            "_view_module": "@jupyter-widgets/base",
            "_view_module_version": "1.2.0",
            "_view_name": "StyleView",
            "description_width": ""
          }
        },
        "77950b7b37f144549315a8bdb763b603": {
          "model_module": "@jupyter-widgets/controls",
          "model_module_version": "1.5.0",
          "model_name": "ProgressStyleModel",
          "state": {
            "_model_module": "@jupyter-widgets/controls",
            "_model_module_version": "1.5.0",
            "_model_name": "ProgressStyleModel",
            "_view_count": null,
            "_view_module": "@jupyter-widgets/base",
            "_view_module_version": "1.2.0",
            "_view_name": "StyleView",
            "bar_color": null,
            "description_width": ""
          }
        },
        "7e86c22e69054684bb882f2c8d0cab2b": {
          "model_module": "@jupyter-widgets/base",
          "model_module_version": "1.2.0",
          "model_name": "LayoutModel",
          "state": {
            "_model_module": "@jupyter-widgets/base",
            "_model_module_version": "1.2.0",
            "_model_name": "LayoutModel",
            "_view_count": null,
            "_view_module": "@jupyter-widgets/base",
            "_view_module_version": "1.2.0",
            "_view_name": "LayoutView",
            "align_content": null,
            "align_items": null,
            "align_self": null,
            "border": null,
            "bottom": null,
            "display": null,
            "flex": null,
            "flex_flow": null,
            "grid_area": null,
            "grid_auto_columns": null,
            "grid_auto_flow": null,
            "grid_auto_rows": null,
            "grid_column": null,
            "grid_gap": null,
            "grid_row": null,
            "grid_template_areas": null,
            "grid_template_columns": null,
            "grid_template_rows": null,
            "height": null,
            "justify_content": null,
            "justify_items": null,
            "left": null,
            "margin": null,
            "max_height": null,
            "max_width": null,
            "min_height": null,
            "min_width": null,
            "object_fit": null,
            "object_position": null,
            "order": null,
            "overflow": null,
            "overflow_x": null,
            "overflow_y": null,
            "padding": null,
            "right": null,
            "top": null,
            "visibility": null,
            "width": null
          }
        },
        "7f19b6f44b88420fb796d821b7aa2ea1": {
          "model_module": "@jupyter-widgets/controls",
          "model_module_version": "1.5.0",
          "model_name": "HTMLModel",
          "state": {
            "_dom_classes": [],
            "_model_module": "@jupyter-widgets/controls",
            "_model_module_version": "1.5.0",
            "_model_name": "HTMLModel",
            "_view_count": null,
            "_view_module": "@jupyter-widgets/controls",
            "_view_module_version": "1.5.0",
            "_view_name": "HTMLView",
            "description": "",
            "description_tooltip": null,
            "layout": "IPY_MODEL_b7d8a51e0a004acfacada7db8c0330ae",
            "placeholder": "​",
            "style": "IPY_MODEL_48e98e43a19842c19726a5a78008597d",
            "value": "Downloading data: 100%"
          }
        },
        "877812f447fa426994de88b237dafd80": {
          "model_module": "@jupyter-widgets/controls",
          "model_module_version": "1.5.0",
          "model_name": "HTMLModel",
          "state": {
            "_dom_classes": [],
            "_model_module": "@jupyter-widgets/controls",
            "_model_module_version": "1.5.0",
            "_model_name": "HTMLModel",
            "_view_count": null,
            "_view_module": "@jupyter-widgets/controls",
            "_view_module_version": "1.5.0",
            "_view_name": "HTMLView",
            "description": "",
            "description_tooltip": null,
            "layout": "IPY_MODEL_b1731f17a6be460b9b2d436eba6ea5d9",
            "placeholder": "​",
            "style": "IPY_MODEL_e53bed3fc01b42b6b3593d53bed78eb2",
            "value": "Generating train split: 100%"
          }
        },
        "8c73089943ae449784a89d444e9b7f1e": {
          "model_module": "@jupyter-widgets/controls",
          "model_module_version": "1.5.0",
          "model_name": "FloatProgressModel",
          "state": {
            "_dom_classes": [],
            "_model_module": "@jupyter-widgets/controls",
            "_model_module_version": "1.5.0",
            "_model_name": "FloatProgressModel",
            "_view_count": null,
            "_view_module": "@jupyter-widgets/controls",
            "_view_module_version": "1.5.0",
            "_view_name": "ProgressView",
            "bar_style": "success",
            "description": "",
            "description_tooltip": null,
            "layout": "IPY_MODEL_fb99ed37249e4dd7b065cda8fc371551",
            "max": 1105272,
            "min": 0,
            "orientation": "horizontal",
            "style": "IPY_MODEL_a196791aa71f4645a2f15d096142f6ef",
            "value": 1105272
          }
        },
        "8f047cc89e32422dbde213f54743f401": {
          "model_module": "@jupyter-widgets/controls",
          "model_module_version": "1.5.0",
          "model_name": "DescriptionStyleModel",
          "state": {
            "_model_module": "@jupyter-widgets/controls",
            "_model_module_version": "1.5.0",
            "_model_name": "DescriptionStyleModel",
            "_view_count": null,
            "_view_module": "@jupyter-widgets/base",
            "_view_module_version": "1.2.0",
            "_view_name": "StyleView",
            "description_width": ""
          }
        },
        "a196791aa71f4645a2f15d096142f6ef": {
          "model_module": "@jupyter-widgets/controls",
          "model_module_version": "1.5.0",
          "model_name": "ProgressStyleModel",
          "state": {
            "_model_module": "@jupyter-widgets/controls",
            "_model_module_version": "1.5.0",
            "_model_name": "ProgressStyleModel",
            "_view_count": null,
            "_view_module": "@jupyter-widgets/base",
            "_view_module_version": "1.2.0",
            "_view_name": "StyleView",
            "bar_color": null,
            "description_width": ""
          }
        },
        "a8f7e29d03c74ff8a1dbd0eaa4be2b4a": {
          "model_module": "@jupyter-widgets/controls",
          "model_module_version": "1.5.0",
          "model_name": "DescriptionStyleModel",
          "state": {
            "_model_module": "@jupyter-widgets/controls",
            "_model_module_version": "1.5.0",
            "_model_name": "DescriptionStyleModel",
            "_view_count": null,
            "_view_module": "@jupyter-widgets/base",
            "_view_module_version": "1.2.0",
            "_view_name": "StyleView",
            "description_width": ""
          }
        },
        "a9b3b72a45c44cd59ebd4889426ae53a": {
          "model_module": "@jupyter-widgets/controls",
          "model_module_version": "1.5.0",
          "model_name": "HTMLModel",
          "state": {
            "_dom_classes": [],
            "_model_module": "@jupyter-widgets/controls",
            "_model_module_version": "1.5.0",
            "_model_name": "HTMLModel",
            "_view_count": null,
            "_view_module": "@jupyter-widgets/controls",
            "_view_module_version": "1.5.0",
            "_view_name": "HTMLView",
            "description": "",
            "description_tooltip": null,
            "layout": "IPY_MODEL_d4c90b9a31c84c79a3897d141aab6227",
            "placeholder": "​",
            "style": "IPY_MODEL_8f047cc89e32422dbde213f54743f401",
            "value": " 1.11M/1.11M [00:00&lt;00:00, 3.47MB/s]"
          }
        },
        "b021ef90c2064ff4841c174a5321ed3d": {
          "model_module": "@jupyter-widgets/controls",
          "model_module_version": "1.5.0",
          "model_name": "HTMLModel",
          "state": {
            "_dom_classes": [],
            "_model_module": "@jupyter-widgets/controls",
            "_model_module_version": "1.5.0",
            "_model_name": "HTMLModel",
            "_view_count": null,
            "_view_module": "@jupyter-widgets/controls",
            "_view_module_version": "1.5.0",
            "_view_name": "HTMLView",
            "description": "",
            "description_tooltip": null,
            "layout": "IPY_MODEL_e94d3cef53b14c54a4e4be57fc75aa4d",
            "placeholder": "​",
            "style": "IPY_MODEL_530210ca296d477c8c75aed4536ac1af",
            "value": " 518/518 [00:00&lt;00:00, 14313.99 examples/s]"
          }
        },
        "b1731f17a6be460b9b2d436eba6ea5d9": {
          "model_module": "@jupyter-widgets/base",
          "model_module_version": "1.2.0",
          "model_name": "LayoutModel",
          "state": {
            "_model_module": "@jupyter-widgets/base",
            "_model_module_version": "1.2.0",
            "_model_name": "LayoutModel",
            "_view_count": null,
            "_view_module": "@jupyter-widgets/base",
            "_view_module_version": "1.2.0",
            "_view_name": "LayoutView",
            "align_content": null,
            "align_items": null,
            "align_self": null,
            "border": null,
            "bottom": null,
            "display": null,
            "flex": null,
            "flex_flow": null,
            "grid_area": null,
            "grid_auto_columns": null,
            "grid_auto_flow": null,
            "grid_auto_rows": null,
            "grid_column": null,
            "grid_gap": null,
            "grid_row": null,
            "grid_template_areas": null,
            "grid_template_columns": null,
            "grid_template_rows": null,
            "height": null,
            "justify_content": null,
            "justify_items": null,
            "left": null,
            "margin": null,
            "max_height": null,
            "max_width": null,
            "min_height": null,
            "min_width": null,
            "object_fit": null,
            "object_position": null,
            "order": null,
            "overflow": null,
            "overflow_x": null,
            "overflow_y": null,
            "padding": null,
            "right": null,
            "top": null,
            "visibility": null,
            "width": null
          }
        },
        "b78a508ef3a440dc9ab715095dabbf1a": {
          "model_module": "@jupyter-widgets/base",
          "model_module_version": "1.2.0",
          "model_name": "LayoutModel",
          "state": {
            "_model_module": "@jupyter-widgets/base",
            "_model_module_version": "1.2.0",
            "_model_name": "LayoutModel",
            "_view_count": null,
            "_view_module": "@jupyter-widgets/base",
            "_view_module_version": "1.2.0",
            "_view_name": "LayoutView",
            "align_content": null,
            "align_items": null,
            "align_self": null,
            "border": null,
            "bottom": null,
            "display": null,
            "flex": null,
            "flex_flow": null,
            "grid_area": null,
            "grid_auto_columns": null,
            "grid_auto_flow": null,
            "grid_auto_rows": null,
            "grid_column": null,
            "grid_gap": null,
            "grid_row": null,
            "grid_template_areas": null,
            "grid_template_columns": null,
            "grid_template_rows": null,
            "height": null,
            "justify_content": null,
            "justify_items": null,
            "left": null,
            "margin": null,
            "max_height": null,
            "max_width": null,
            "min_height": null,
            "min_width": null,
            "object_fit": null,
            "object_position": null,
            "order": null,
            "overflow": null,
            "overflow_x": null,
            "overflow_y": null,
            "padding": null,
            "right": null,
            "top": null,
            "visibility": null,
            "width": null
          }
        },
        "b7d8a51e0a004acfacada7db8c0330ae": {
          "model_module": "@jupyter-widgets/base",
          "model_module_version": "1.2.0",
          "model_name": "LayoutModel",
          "state": {
            "_model_module": "@jupyter-widgets/base",
            "_model_module_version": "1.2.0",
            "_model_name": "LayoutModel",
            "_view_count": null,
            "_view_module": "@jupyter-widgets/base",
            "_view_module_version": "1.2.0",
            "_view_name": "LayoutView",
            "align_content": null,
            "align_items": null,
            "align_self": null,
            "border": null,
            "bottom": null,
            "display": null,
            "flex": null,
            "flex_flow": null,
            "grid_area": null,
            "grid_auto_columns": null,
            "grid_auto_flow": null,
            "grid_auto_rows": null,
            "grid_column": null,
            "grid_gap": null,
            "grid_row": null,
            "grid_template_areas": null,
            "grid_template_columns": null,
            "grid_template_rows": null,
            "height": null,
            "justify_content": null,
            "justify_items": null,
            "left": null,
            "margin": null,
            "max_height": null,
            "max_width": null,
            "min_height": null,
            "min_width": null,
            "object_fit": null,
            "object_position": null,
            "order": null,
            "overflow": null,
            "overflow_x": null,
            "overflow_y": null,
            "padding": null,
            "right": null,
            "top": null,
            "visibility": null,
            "width": null
          }
        },
        "bf24977c534e4eb5b275dc9020a285b6": {
          "model_module": "@jupyter-widgets/controls",
          "model_module_version": "1.5.0",
          "model_name": "HBoxModel",
          "state": {
            "_dom_classes": [],
            "_model_module": "@jupyter-widgets/controls",
            "_model_module_version": "1.5.0",
            "_model_name": "HBoxModel",
            "_view_count": null,
            "_view_module": "@jupyter-widgets/controls",
            "_view_module_version": "1.5.0",
            "_view_name": "HBoxView",
            "box_style": "",
            "children": [
              "IPY_MODEL_47b4cdf77ba84c62bdd65059a70372e4",
              "IPY_MODEL_8c73089943ae449784a89d444e9b7f1e",
              "IPY_MODEL_a9b3b72a45c44cd59ebd4889426ae53a"
            ],
            "layout": "IPY_MODEL_02e84784f9764550b000933dbc70c558"
          }
        },
        "c7957c6388184c67aa30a8e47b13dc80": {
          "model_module": "@jupyter-widgets/controls",
          "model_module_version": "1.5.0",
          "model_name": "ProgressStyleModel",
          "state": {
            "_model_module": "@jupyter-widgets/controls",
            "_model_module_version": "1.5.0",
            "_model_name": "ProgressStyleModel",
            "_view_count": null,
            "_view_module": "@jupyter-widgets/base",
            "_view_module_version": "1.2.0",
            "_view_name": "StyleView",
            "bar_color": null,
            "description_width": ""
          }
        },
        "ce6754f496904d22860be6525f77e6b1": {
          "model_module": "@jupyter-widgets/base",
          "model_module_version": "1.2.0",
          "model_name": "LayoutModel",
          "state": {
            "_model_module": "@jupyter-widgets/base",
            "_model_module_version": "1.2.0",
            "_model_name": "LayoutModel",
            "_view_count": null,
            "_view_module": "@jupyter-widgets/base",
            "_view_module_version": "1.2.0",
            "_view_name": "LayoutView",
            "align_content": null,
            "align_items": null,
            "align_self": null,
            "border": null,
            "bottom": null,
            "display": null,
            "flex": null,
            "flex_flow": null,
            "grid_area": null,
            "grid_auto_columns": null,
            "grid_auto_flow": null,
            "grid_auto_rows": null,
            "grid_column": null,
            "grid_gap": null,
            "grid_row": null,
            "grid_template_areas": null,
            "grid_template_columns": null,
            "grid_template_rows": null,
            "height": null,
            "justify_content": null,
            "justify_items": null,
            "left": null,
            "margin": null,
            "max_height": null,
            "max_width": null,
            "min_height": null,
            "min_width": null,
            "object_fit": null,
            "object_position": null,
            "order": null,
            "overflow": null,
            "overflow_x": null,
            "overflow_y": null,
            "padding": null,
            "right": null,
            "top": null,
            "visibility": null,
            "width": null
          }
        },
        "d497ff17d92243b39eed6b178f63d8f6": {
          "model_module": "@jupyter-widgets/controls",
          "model_module_version": "1.5.0",
          "model_name": "FloatProgressModel",
          "state": {
            "_dom_classes": [],
            "_model_module": "@jupyter-widgets/controls",
            "_model_module_version": "1.5.0",
            "_model_name": "FloatProgressModel",
            "_view_count": null,
            "_view_module": "@jupyter-widgets/controls",
            "_view_module_version": "1.5.0",
            "_view_name": "ProgressView",
            "bar_style": "success",
            "description": "",
            "description_tooltip": null,
            "layout": "IPY_MODEL_f888d236be5344d1aa278505be9489a5",
            "max": 518,
            "min": 0,
            "orientation": "horizontal",
            "style": "IPY_MODEL_c7957c6388184c67aa30a8e47b13dc80",
            "value": 518
          }
        },
        "d4c90b9a31c84c79a3897d141aab6227": {
          "model_module": "@jupyter-widgets/base",
          "model_module_version": "1.2.0",
          "model_name": "LayoutModel",
          "state": {
            "_model_module": "@jupyter-widgets/base",
            "_model_module_version": "1.2.0",
            "_model_name": "LayoutModel",
            "_view_count": null,
            "_view_module": "@jupyter-widgets/base",
            "_view_module_version": "1.2.0",
            "_view_name": "LayoutView",
            "align_content": null,
            "align_items": null,
            "align_self": null,
            "border": null,
            "bottom": null,
            "display": null,
            "flex": null,
            "flex_flow": null,
            "grid_area": null,
            "grid_auto_columns": null,
            "grid_auto_flow": null,
            "grid_auto_rows": null,
            "grid_column": null,
            "grid_gap": null,
            "grid_row": null,
            "grid_template_areas": null,
            "grid_template_columns": null,
            "grid_template_rows": null,
            "height": null,
            "justify_content": null,
            "justify_items": null,
            "left": null,
            "margin": null,
            "max_height": null,
            "max_width": null,
            "min_height": null,
            "min_width": null,
            "object_fit": null,
            "object_position": null,
            "order": null,
            "overflow": null,
            "overflow_x": null,
            "overflow_y": null,
            "padding": null,
            "right": null,
            "top": null,
            "visibility": null,
            "width": null
          }
        },
        "d8803f3537ab42a4809cfca46ad890cd": {
          "model_module": "@jupyter-widgets/base",
          "model_module_version": "1.2.0",
          "model_name": "LayoutModel",
          "state": {
            "_model_module": "@jupyter-widgets/base",
            "_model_module_version": "1.2.0",
            "_model_name": "LayoutModel",
            "_view_count": null,
            "_view_module": "@jupyter-widgets/base",
            "_view_module_version": "1.2.0",
            "_view_name": "LayoutView",
            "align_content": null,
            "align_items": null,
            "align_self": null,
            "border": null,
            "bottom": null,
            "display": null,
            "flex": null,
            "flex_flow": null,
            "grid_area": null,
            "grid_auto_columns": null,
            "grid_auto_flow": null,
            "grid_auto_rows": null,
            "grid_column": null,
            "grid_gap": null,
            "grid_row": null,
            "grid_template_areas": null,
            "grid_template_columns": null,
            "grid_template_rows": null,
            "height": null,
            "justify_content": null,
            "justify_items": null,
            "left": null,
            "margin": null,
            "max_height": null,
            "max_width": null,
            "min_height": null,
            "min_width": null,
            "object_fit": null,
            "object_position": null,
            "order": null,
            "overflow": null,
            "overflow_x": null,
            "overflow_y": null,
            "padding": null,
            "right": null,
            "top": null,
            "visibility": null,
            "width": null
          }
        },
        "da743f96a8644088b9cc3e148f00ae42": {
          "model_module": "@jupyter-widgets/controls",
          "model_module_version": "1.5.0",
          "model_name": "HBoxModel",
          "state": {
            "_dom_classes": [],
            "_model_module": "@jupyter-widgets/controls",
            "_model_module_version": "1.5.0",
            "_model_name": "HBoxModel",
            "_view_count": null,
            "_view_module": "@jupyter-widgets/controls",
            "_view_module_version": "1.5.0",
            "_view_name": "HBoxView",
            "box_style": "",
            "children": [
              "IPY_MODEL_dc42789b89b94cc1b84f2a6569c769fd",
              "IPY_MODEL_dffd6a7e61fe412caa6c46712f75f417",
              "IPY_MODEL_20742a5208f84357ad523caeab7bce11"
            ],
            "layout": "IPY_MODEL_08d2090f14cf46878ed8daeec54af132"
          }
        },
        "dc42789b89b94cc1b84f2a6569c769fd": {
          "model_module": "@jupyter-widgets/controls",
          "model_module_version": "1.5.0",
          "model_name": "HTMLModel",
          "state": {
            "_dom_classes": [],
            "_model_module": "@jupyter-widgets/controls",
            "_model_module_version": "1.5.0",
            "_model_name": "HTMLModel",
            "_view_count": null,
            "_view_module": "@jupyter-widgets/controls",
            "_view_module_version": "1.5.0",
            "_view_name": "HTMLView",
            "description": "",
            "description_tooltip": null,
            "layout": "IPY_MODEL_669dd15ce9d84be0b52690ae1c939ee1",
            "placeholder": "​",
            "style": "IPY_MODEL_778757ae1d834c8381c0248a6a353e6e",
            "value": "Downloading readme: 100%"
          }
        },
        "dffd6a7e61fe412caa6c46712f75f417": {
          "model_module": "@jupyter-widgets/controls",
          "model_module_version": "1.5.0",
          "model_name": "FloatProgressModel",
          "state": {
            "_dom_classes": [],
            "_model_module": "@jupyter-widgets/controls",
            "_model_module_version": "1.5.0",
            "_model_name": "FloatProgressModel",
            "_view_count": null,
            "_view_module": "@jupyter-widgets/controls",
            "_view_module_version": "1.5.0",
            "_view_name": "ProgressView",
            "bar_style": "success",
            "description": "",
            "description_tooltip": null,
            "layout": "IPY_MODEL_7e86c22e69054684bb882f2c8d0cab2b",
            "max": 395,
            "min": 0,
            "orientation": "horizontal",
            "style": "IPY_MODEL_25028418d18d40e289dc7abf01fedc99",
            "value": 395
          }
        },
        "e19c27f417694f15a69b2b6987d0a471": {
          "model_module": "@jupyter-widgets/controls",
          "model_module_version": "1.5.0",
          "model_name": "FloatProgressModel",
          "state": {
            "_dom_classes": [],
            "_model_module": "@jupyter-widgets/controls",
            "_model_module_version": "1.5.0",
            "_model_name": "FloatProgressModel",
            "_view_count": null,
            "_view_module": "@jupyter-widgets/controls",
            "_view_module_version": "1.5.0",
            "_view_name": "ProgressView",
            "bar_style": "success",
            "description": "",
            "description_tooltip": null,
            "layout": "IPY_MODEL_3d3fc9747b1e4c7690ab770a9243ec73",
            "max": 9846,
            "min": 0,
            "orientation": "horizontal",
            "style": "IPY_MODEL_77950b7b37f144549315a8bdb763b603",
            "value": 9846
          }
        },
        "e4b978df62cd49dca6f901269fc2440c": {
          "model_module": "@jupyter-widgets/controls",
          "model_module_version": "1.5.0",
          "model_name": "ProgressStyleModel",
          "state": {
            "_model_module": "@jupyter-widgets/controls",
            "_model_module_version": "1.5.0",
            "_model_name": "ProgressStyleModel",
            "_view_count": null,
            "_view_module": "@jupyter-widgets/base",
            "_view_module_version": "1.2.0",
            "_view_name": "StyleView",
            "bar_color": null,
            "description_width": ""
          }
        },
        "e501ec8bfb59446babe057633ef46040": {
          "model_module": "@jupyter-widgets/controls",
          "model_module_version": "1.5.0",
          "model_name": "HTMLModel",
          "state": {
            "_dom_classes": [],
            "_model_module": "@jupyter-widgets/controls",
            "_model_module_version": "1.5.0",
            "_model_name": "HTMLModel",
            "_view_count": null,
            "_view_module": "@jupyter-widgets/controls",
            "_view_module_version": "1.5.0",
            "_view_name": "HTMLView",
            "description": "",
            "description_tooltip": null,
            "layout": "IPY_MODEL_34352f8edc734177a4dd5aa65e923f8e",
            "placeholder": "​",
            "style": "IPY_MODEL_fd6e9354adff4702a5d3dce8a0d1c96c",
            "value": " 20.9M/20.9M [00:00&lt;00:00, 24.0MB/s]"
          }
        },
        "e53bed3fc01b42b6b3593d53bed78eb2": {
          "model_module": "@jupyter-widgets/controls",
          "model_module_version": "1.5.0",
          "model_name": "DescriptionStyleModel",
          "state": {
            "_model_module": "@jupyter-widgets/controls",
            "_model_module_version": "1.5.0",
            "_model_name": "DescriptionStyleModel",
            "_view_count": null,
            "_view_module": "@jupyter-widgets/base",
            "_view_module_version": "1.2.0",
            "_view_name": "StyleView",
            "description_width": ""
          }
        },
        "e76d3770a00640dd8703b360dae1d88c": {
          "model_module": "@jupyter-widgets/base",
          "model_module_version": "1.2.0",
          "model_name": "LayoutModel",
          "state": {
            "_model_module": "@jupyter-widgets/base",
            "_model_module_version": "1.2.0",
            "_model_name": "LayoutModel",
            "_view_count": null,
            "_view_module": "@jupyter-widgets/base",
            "_view_module_version": "1.2.0",
            "_view_name": "LayoutView",
            "align_content": null,
            "align_items": null,
            "align_self": null,
            "border": null,
            "bottom": null,
            "display": null,
            "flex": null,
            "flex_flow": null,
            "grid_area": null,
            "grid_auto_columns": null,
            "grid_auto_flow": null,
            "grid_auto_rows": null,
            "grid_column": null,
            "grid_gap": null,
            "grid_row": null,
            "grid_template_areas": null,
            "grid_template_columns": null,
            "grid_template_rows": null,
            "height": null,
            "justify_content": null,
            "justify_items": null,
            "left": null,
            "margin": null,
            "max_height": null,
            "max_width": null,
            "min_height": null,
            "min_width": null,
            "object_fit": null,
            "object_position": null,
            "order": null,
            "overflow": null,
            "overflow_x": null,
            "overflow_y": null,
            "padding": null,
            "right": null,
            "top": null,
            "visibility": null,
            "width": null
          }
        },
        "e94d3cef53b14c54a4e4be57fc75aa4d": {
          "model_module": "@jupyter-widgets/base",
          "model_module_version": "1.2.0",
          "model_name": "LayoutModel",
          "state": {
            "_model_module": "@jupyter-widgets/base",
            "_model_module_version": "1.2.0",
            "_model_name": "LayoutModel",
            "_view_count": null,
            "_view_module": "@jupyter-widgets/base",
            "_view_module_version": "1.2.0",
            "_view_name": "LayoutView",
            "align_content": null,
            "align_items": null,
            "align_self": null,
            "border": null,
            "bottom": null,
            "display": null,
            "flex": null,
            "flex_flow": null,
            "grid_area": null,
            "grid_auto_columns": null,
            "grid_auto_flow": null,
            "grid_auto_rows": null,
            "grid_column": null,
            "grid_gap": null,
            "grid_row": null,
            "grid_template_areas": null,
            "grid_template_columns": null,
            "grid_template_rows": null,
            "height": null,
            "justify_content": null,
            "justify_items": null,
            "left": null,
            "margin": null,
            "max_height": null,
            "max_width": null,
            "min_height": null,
            "min_width": null,
            "object_fit": null,
            "object_position": null,
            "order": null,
            "overflow": null,
            "overflow_x": null,
            "overflow_y": null,
            "padding": null,
            "right": null,
            "top": null,
            "visibility": null,
            "width": null
          }
        },
        "f00bd38fd36b48fd962f0ca3c6666675": {
          "model_module": "@jupyter-widgets/controls",
          "model_module_version": "1.5.0",
          "model_name": "DescriptionStyleModel",
          "state": {
            "_model_module": "@jupyter-widgets/controls",
            "_model_module_version": "1.5.0",
            "_model_name": "DescriptionStyleModel",
            "_view_count": null,
            "_view_module": "@jupyter-widgets/base",
            "_view_module_version": "1.2.0",
            "_view_name": "StyleView",
            "description_width": ""
          }
        },
        "f888d236be5344d1aa278505be9489a5": {
          "model_module": "@jupyter-widgets/base",
          "model_module_version": "1.2.0",
          "model_name": "LayoutModel",
          "state": {
            "_model_module": "@jupyter-widgets/base",
            "_model_module_version": "1.2.0",
            "_model_name": "LayoutModel",
            "_view_count": null,
            "_view_module": "@jupyter-widgets/base",
            "_view_module_version": "1.2.0",
            "_view_name": "LayoutView",
            "align_content": null,
            "align_items": null,
            "align_self": null,
            "border": null,
            "bottom": null,
            "display": null,
            "flex": null,
            "flex_flow": null,
            "grid_area": null,
            "grid_auto_columns": null,
            "grid_auto_flow": null,
            "grid_auto_rows": null,
            "grid_column": null,
            "grid_gap": null,
            "grid_row": null,
            "grid_template_areas": null,
            "grid_template_columns": null,
            "grid_template_rows": null,
            "height": null,
            "justify_content": null,
            "justify_items": null,
            "left": null,
            "margin": null,
            "max_height": null,
            "max_width": null,
            "min_height": null,
            "min_width": null,
            "object_fit": null,
            "object_position": null,
            "order": null,
            "overflow": null,
            "overflow_x": null,
            "overflow_y": null,
            "padding": null,
            "right": null,
            "top": null,
            "visibility": null,
            "width": null
          }
        },
        "f88f8a0035a84ad7a54ca2d7de19ede4": {
          "model_module": "@jupyter-widgets/controls",
          "model_module_version": "1.5.0",
          "model_name": "HBoxModel",
          "state": {
            "_dom_classes": [],
            "_model_module": "@jupyter-widgets/controls",
            "_model_module_version": "1.5.0",
            "_model_name": "HBoxModel",
            "_view_count": null,
            "_view_module": "@jupyter-widgets/controls",
            "_view_module_version": "1.5.0",
            "_view_name": "HBoxView",
            "box_style": "",
            "children": [
              "IPY_MODEL_7f19b6f44b88420fb796d821b7aa2ea1",
              "IPY_MODEL_368b293ca59f4a769b2709621d7ae2a0",
              "IPY_MODEL_e501ec8bfb59446babe057633ef46040"
            ],
            "layout": "IPY_MODEL_e76d3770a00640dd8703b360dae1d88c"
          }
        },
        "fb99ed37249e4dd7b065cda8fc371551": {
          "model_module": "@jupyter-widgets/base",
          "model_module_version": "1.2.0",
          "model_name": "LayoutModel",
          "state": {
            "_model_module": "@jupyter-widgets/base",
            "_model_module_version": "1.2.0",
            "_model_name": "LayoutModel",
            "_view_count": null,
            "_view_module": "@jupyter-widgets/base",
            "_view_module_version": "1.2.0",
            "_view_name": "LayoutView",
            "align_content": null,
            "align_items": null,
            "align_self": null,
            "border": null,
            "bottom": null,
            "display": null,
            "flex": null,
            "flex_flow": null,
            "grid_area": null,
            "grid_auto_columns": null,
            "grid_auto_flow": null,
            "grid_auto_rows": null,
            "grid_column": null,
            "grid_gap": null,
            "grid_row": null,
            "grid_template_areas": null,
            "grid_template_columns": null,
            "grid_template_rows": null,
            "height": null,
            "justify_content": null,
            "justify_items": null,
            "left": null,
            "margin": null,
            "max_height": null,
            "max_width": null,
            "min_height": null,
            "min_width": null,
            "object_fit": null,
            "object_position": null,
            "order": null,
            "overflow": null,
            "overflow_x": null,
            "overflow_y": null,
            "padding": null,
            "right": null,
            "top": null,
            "visibility": null,
            "width": null
          }
        },
        "fd6e9354adff4702a5d3dce8a0d1c96c": {
          "model_module": "@jupyter-widgets/controls",
          "model_module_version": "1.5.0",
          "model_name": "DescriptionStyleModel",
          "state": {
            "_model_module": "@jupyter-widgets/controls",
            "_model_module_version": "1.5.0",
            "_model_name": "DescriptionStyleModel",
            "_view_count": null,
            "_view_module": "@jupyter-widgets/base",
            "_view_module_version": "1.2.0",
            "_view_name": "StyleView",
            "description_width": ""
          }
        }
      }
    }
  },
  "nbformat": 4,
  "nbformat_minor": 0
}
